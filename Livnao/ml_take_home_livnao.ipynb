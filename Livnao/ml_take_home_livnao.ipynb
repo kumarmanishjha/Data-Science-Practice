{
 "cells": [
  {
   "cell_type": "code",
   "execution_count": 1,
   "metadata": {
    "id": "IZnE7n89VrbS"
   },
   "outputs": [],
   "source": [
    "import numpy as np\n",
    "import string\n",
    "import random\n",
    "import pandas as pd\n",
    "from tqdm import tqdm"
   ]
  },
  {
   "cell_type": "code",
   "execution_count": 2,
   "metadata": {
    "id": "a4MkXjBlLYYN"
   },
   "outputs": [],
   "source": [
    "import torch\n",
    "import torch.nn as nn\n",
    "from torch.nn import ReLU, Tanh,Sigmoid\n",
    "import torch.optim as optim\n",
    "import torch.nn.functional as F\n",
    "from torch.utils.data import Dataset, IterableDataset, DataLoader"
   ]
  },
  {
   "cell_type": "code",
   "execution_count": 3,
   "metadata": {
    "id": "OXCxTf1YhC2a"
   },
   "outputs": [],
   "source": [
    "EPOCHS = 10\n",
    "BATCH_SIZE = 16\n",
    "LEARNING_RATE = 0.001\n",
    "NUM_CLASSES = 26\n",
    "MIN_LEN = 5\n",
    "MAX_LEN = 10"
   ]
  },
  {
   "cell_type": "code",
   "execution_count": 4,
   "metadata": {
    "id": "rHcBwJS2hCaK"
   },
   "outputs": [],
   "source": [
    "#Function list contains all the functions to sample from. \n",
    "#In case of 'bogus' is sampled, a random function name is generated using gen_word() function below\n",
    "function_list = ['first', 'last', 'freq', 'next', 'bogus'] "
   ]
  },
  {
   "cell_type": "code",
   "execution_count": 5,
   "metadata": {
    "id": "aipoS6OkNEzR"
   },
   "outputs": [],
   "source": [
    "alphabets = list(string.ascii_lowercase) #List of alphabets"
   ]
  },
  {
   "cell_type": "code",
   "execution_count": 6,
   "metadata": {
    "id": "btxi9OUnyGWh"
   },
   "outputs": [],
   "source": [
    "def gen_word(func = True,  min=MIN_LEN, max=MAX_LEN):\n",
    "  '''Generates a random word, which can be used as an input or a function name of bogus functions'''\n",
    "  word = ''\n",
    "  syllables = min + int(random.random() * (max - min))\n",
    "  for i in range(0, syllables):\n",
    "    if (func):\n",
    "      word += random.choice(alphabets)\n",
    "    else:\n",
    "      #Add a space between letters if not a function\n",
    "      word = word + \" \" + random.choice(alphabets) \n",
    "  return word"
   ]
  },
  {
   "cell_type": "code",
   "execution_count": 7,
   "metadata": {
    "id": "lq-TfECmSBCh"
   },
   "outputs": [],
   "source": [
    "def get_encoded_input(s):\n",
    "  '''Encodes a given string to input format with function name, input, first_or_last position encoded'''\n",
    "  tokens = s.split()\n",
    "  #print(tokens)\n",
    "  func = tokens[0]\n",
    "  input_str = tokens[1:]\n",
    "\n",
    "  encoded_func = [0]*len(alphabets)\n",
    "  encoded_input = [0]*len(alphabets)\n",
    "  encoded_f_or_l = [0]*len(alphabets) #Encodes first or last position\n",
    "  \n",
    "\n",
    "  #Update first or last flag\n",
    "  if func == 'first':\n",
    "    encoded_f_or_l[alphabets.index(tokens[1])] = 1\n",
    "  elif func == 'last' or func == 'next':\n",
    "    encoded_f_or_l[alphabets.index(tokens[-1])] = 1\n",
    "\n",
    "  #Encode function_name\n",
    "  try:\n",
    "    for char in func:\n",
    "      encoded_func[alphabets.index(char)] += 1\n",
    "  except Exception as e:\n",
    "    print('Not a valid function name: ' + str(e))\n",
    "\n",
    "  #Encode input string\n",
    "  try:\n",
    "    for char in input_str:\n",
    "      if(func == 'freq'):\n",
    "        encoded_input[alphabets.index(char)] += 1\n",
    "      else:\n",
    "        encoded_input[alphabets.index(char)] = 1\n",
    "  except Exception as e:\n",
    "    print('Invalid letter ' + str(e))\n",
    "\n",
    "  return encoded_func+ encoded_input+ encoded_f_or_l"
   ]
  },
  {
   "cell_type": "code",
   "execution_count": 8,
   "metadata": {
    "id": "mexguf8Xfxgt"
   },
   "outputs": [],
   "source": [
    "def decode_input(encoded_input):\n",
    "  '''Function to check the encoded input ignoring letter count'''\n",
    "  #print(encoded_input)\n",
    "  z= ''\n",
    "  for i,x in enumerate(encoded_input[:-len(alphabets)]):\n",
    "    \n",
    "    if(i< len(alphabets) and x!=0):\n",
    "      z = z + alphabets[i]\n",
    "    else:\n",
    "      if(x!=0):\n",
    "        z = z + ' ' + alphabets[i - len(alphabets)] \n",
    "    \n",
    "  return z"
   ]
  },
  {
   "cell_type": "code",
   "execution_count": 9,
   "metadata": {
    "id": "3JXieG3AQTdp"
   },
   "outputs": [],
   "source": [
    "def simulate_sample(func, max_input_len = MAX_LEN):\n",
    "  '''Simulates a single example. Takes function name and input length and simulates an encoded input,output pair'''\n",
    "\n",
    "  #Generate random function name if func = 'bogus'\n",
    "  if(func not in function_list or func == 'bogus'):\n",
    "    func = gen_word()\n",
    "\n",
    "  #Generate random size input string. If freq func, artificially increase freq of any one letter with prob 0.90 \n",
    "  input_str = gen_word(False,5,max_input_len)\n",
    "  r = random.random()\n",
    "  #print(r)\n",
    "  #print(input_str)\n",
    "  if (func == 'freq' and r > 0.10):\n",
    "    input_str = input_str[:-1]+ random.choice(input_str.split())  \n",
    "\n",
    "  #Join function and input string \n",
    "  s = func + input_str\n",
    "  #print(s)\n",
    "\n",
    "  #Get encoded input\n",
    "  encoded_input = get_encoded_input(s)\n",
    "  encoded_func = encoded_input[:len(alphabets)]\n",
    "  encoded_str = encoded_input[len(alphabets): - len(alphabets)]\n",
    "  encoded_f_or_l = encoded_input[-len(alphabets):]\n",
    "\n",
    "  \n",
    "  #Generating Output for above generated input\n",
    "  output = [0]*(len(alphabets)+1)\n",
    "  \n",
    "  if (func == 'first'):\n",
    "    output[encoded_f_or_l.index(1)] = 1\n",
    "  elif (func == 'last'):\n",
    "    output[len(encoded_f_or_l)-encoded_f_or_l[::-1].index(1)-1] = 1\n",
    "  elif (func == 'freq'):\n",
    "    output[encoded_str.index(max(encoded_str))] = 1\n",
    "  elif (func == 'next'):\n",
    "    if (input_str[-1] == 'z'):\n",
    "      #If z then a\n",
    "      output[0] = 1\n",
    "    else:\n",
    "      output[len(encoded_f_or_l)-encoded_f_or_l[::-1].index(1)] = 1\n",
    "  else:\n",
    "    output[-1] = 1\n",
    "\n",
    "  assert len(encoded_input) == 3*len(alphabets), 'Input is invalid.'\n",
    "  assert len(encoded_func) == len(alphabets), 'Problem in function name.'\n",
    "  assert len(encoded_str) == len(alphabets), 'Problem in input string.'\n",
    "  assert len(encoded_f_or_l) == len(alphabets), 'Problem in first or last flag.'\n",
    "  assert len(output) == len(alphabets)+1, 'Output is not proper.'\n",
    "\n",
    "  return encoded_input, output"
   ]
  },
  {
   "cell_type": "code",
   "execution_count": 10,
   "metadata": {
    "id": "4ZVnOKt2flWQ"
   },
   "outputs": [],
   "source": [
    "def simulate_batch(n_batch= BATCH_SIZE, max_input_len=MAX_LEN):\n",
    "  batch = []\n",
    "  Y = []\n",
    "  n_samples = BATCH_SIZE*n_batch\n",
    "  for i in range(n_samples):\n",
    "    func = random.choice(function_list)\n",
    "    instring, label = simulate_sample(func, max_input_len)\n",
    "    batch.append(instring)\n",
    "    Y.append(label)\n",
    "  return np.array(batch),np.array(Y)"
   ]
  },
  {
   "cell_type": "code",
   "execution_count": 11,
   "metadata": {
    "id": "WC4wYfBQbZGi"
   },
   "outputs": [],
   "source": [
    "def decode_single_output(output):\n",
    "  '''Return alphabet given index'''\n",
    "  #print(output)\n",
    "  if(output>len(alphabets) -1):\n",
    "    return 0\n",
    "  else:\n",
    "    return alphabets[output]\n",
    "\n",
    "def decode_batch_output(batches):\n",
    "  '''Returns letter output of a batch. Output should be squeezed to list with len of batches'''\n",
    "  output = []\n",
    "  for batch in batches:\n",
    "    batch_o = []\n",
    "    for o in batch:\n",
    "      batch_o.append(decode_single_output(o))\n",
    "    output.append(batch_o)\n",
    "\n",
    "  return output"
   ]
  },
  {
   "cell_type": "markdown",
   "metadata": {
    "id": "OBOTS9EBXNhp"
   },
   "source": [
    "**Create Dataset and Dataloader**"
   ]
  },
  {
   "cell_type": "code",
   "execution_count": 12,
   "metadata": {
    "id": "4CWW7ZmEhkY4"
   },
   "outputs": [],
   "source": [
    "class ClassifierDataset(Dataset):\n",
    "    def __init__(self, X, Y):\n",
    "        self.X = X\n",
    "        self.Y = Y\n",
    "        \n",
    "    def __getitem__(self, index):\n",
    "        return self.X[index], self.Y[index]\n",
    "        \n",
    "    def __len__ (self):\n",
    "        return len(self.Y)"
   ]
  },
  {
   "cell_type": "code",
   "execution_count": 13,
   "metadata": {
    "id": "_IVkFRgSL3u2"
   },
   "outputs": [],
   "source": [
    "train_X, train_Y = simulate_batch(1024)\n",
    "val_X, val_Y = simulate_batch(256)\n",
    "test_X, test_Y = simulate_batch(256)"
   ]
  },
  {
   "cell_type": "code",
   "execution_count": 15,
   "metadata": {},
   "outputs": [
    {
     "data": {
      "text/plain": [
       "(4096, 27)"
      ]
     },
     "execution_count": 15,
     "metadata": {},
     "output_type": "execute_result"
    }
   ],
   "source": [
    "test_Y.shape"
   ]
  },
  {
   "cell_type": "code",
   "execution_count": 14,
   "metadata": {
    "id": "nfs4Wp5nadU8"
   },
   "outputs": [],
   "source": [
    "train_data = ClassifierDataset(torch.from_numpy(train_X).float(), torch.from_numpy(train_Y).long())\n",
    "val_data = ClassifierDataset(torch.from_numpy(val_X).float(), torch.from_numpy(val_Y).long())\n",
    "test_data = ClassifierDataset(torch.from_numpy(test_X).float(), torch.from_numpy(test_Y).long())"
   ]
  },
  {
   "cell_type": "code",
   "execution_count": 15,
   "metadata": {
    "id": "VdzpcwMIHWVT"
   },
   "outputs": [],
   "source": [
    "train_loader = torch.utils.data.DataLoader(train_data, batch_size = BATCH_SIZE)\n",
    "val_loader = torch.utils.data.DataLoader(val_data, batch_size = BATCH_SIZE)\n",
    "test_loader = torch.utils.data.DataLoader(test_data, batch_size = BATCH_SIZE)"
   ]
  },
  {
   "cell_type": "markdown",
   "metadata": {
    "id": "UGDaiMoRopYC"
   },
   "source": [
    "**Define the network**"
   ]
  },
  {
   "cell_type": "code",
   "execution_count": 16,
   "metadata": {
    "colab": {
     "base_uri": "https://localhost:8080/"
    },
    "id": "A6VDM18VLukA",
    "outputId": "93b4d2cf-54ec-4086-bb4a-6a1ef1714edb"
   },
   "outputs": [
    {
     "name": "stdout",
     "output_type": "stream",
     "text": [
      "Net(\n",
      "  (layer_1): Linear(in_features=78, out_features=512, bias=True)\n",
      "  (layer_2): Linear(in_features=512, out_features=128, bias=True)\n",
      "  (layer_3): Linear(in_features=128, out_features=64, bias=True)\n",
      "  (layer_out): Linear(in_features=64, out_features=27, bias=True)\n",
      "  (relu): ReLU()\n",
      "  (dropout): Dropout(p=0.4, inplace=False)\n",
      "  (batchnorm1): BatchNorm1d(512, eps=1e-05, momentum=0.1, affine=True, track_running_stats=True)\n",
      "  (batchnorm2): BatchNorm1d(128, eps=1e-05, momentum=0.1, affine=True, track_running_stats=True)\n",
      "  (batchnorm3): BatchNorm1d(64, eps=1e-05, momentum=0.1, affine=True, track_running_stats=True)\n",
      ")\n"
     ]
    }
   ],
   "source": [
    "class Net(nn.Module):\n",
    "  def __init__(self, num_feature, num_class):\n",
    "    super(Net, self).__init__()\n",
    "    \n",
    "    self.layer_1 = nn.Linear(num_feature, 512)\n",
    "    self.layer_2 = nn.Linear(512, 128)\n",
    "    self.layer_3 = nn.Linear(128, 64)\n",
    "    self.layer_out = nn.Linear(64, num_class) \n",
    "    \n",
    "    self.relu = nn.ReLU()\n",
    "    self.dropout = nn.Dropout(p=0.4)\n",
    "    self.batchnorm1 = nn.BatchNorm1d(512)\n",
    "    self.batchnorm2 = nn.BatchNorm1d(128)\n",
    "    self.batchnorm3 = nn.BatchNorm1d(64)\n",
    "      \n",
    "  def forward(self, x):\n",
    "    x = self.layer_1(x)\n",
    "    x = self.batchnorm1(x)\n",
    "    x = self.relu(x)\n",
    "    \n",
    "    x = self.layer_2(x)\n",
    "    x = self.batchnorm2(x)\n",
    "    x = self.relu(x)\n",
    "    x = self.dropout(x)\n",
    "    \n",
    "    x = self.layer_3(x)\n",
    "    x = self.batchnorm3(x)\n",
    "    x = self.relu(x)\n",
    "    x = self.dropout(x)\n",
    "    \n",
    "    x = self.layer_out(x)\n",
    "    \n",
    "    return x\n",
    "\n",
    "model = Net(num_feature = len(alphabets)*3, num_class=len(alphabets)+1)\n",
    "print(model)"
   ]
  },
  {
   "cell_type": "markdown",
   "metadata": {
    "id": "3rU0Z5zXouuA"
   },
   "source": [
    "**Training the Model**\n",
    "\n"
   ]
  },
  {
   "cell_type": "code",
   "execution_count": 17,
   "metadata": {
    "colab": {
     "base_uri": "https://localhost:8080/"
    },
    "id": "P3Y6NSFoiD7g",
    "outputId": "2a76b859-7290-42c9-fd4f-abac9d5e3f52"
   },
   "outputs": [
    {
     "name": "stdout",
     "output_type": "stream",
     "text": [
      "cuda:0\n"
     ]
    }
   ],
   "source": [
    "device = torch.device(\"cuda:0\" if torch.cuda.is_available() else \"cpu\")\n",
    "print(device)"
   ]
  },
  {
   "cell_type": "code",
   "execution_count": 18,
   "metadata": {
    "colab": {
     "base_uri": "https://localhost:8080/"
    },
    "id": "6nr7ck-YiFsC",
    "outputId": "67e64a9b-bfcc-42a4-ec33-fbff70801611"
   },
   "outputs": [
    {
     "name": "stdout",
     "output_type": "stream",
     "text": [
      "Net(\n",
      "  (layer_1): Linear(in_features=78, out_features=512, bias=True)\n",
      "  (layer_2): Linear(in_features=512, out_features=128, bias=True)\n",
      "  (layer_3): Linear(in_features=128, out_features=64, bias=True)\n",
      "  (layer_out): Linear(in_features=64, out_features=27, bias=True)\n",
      "  (relu): ReLU()\n",
      "  (dropout): Dropout(p=0.4, inplace=False)\n",
      "  (batchnorm1): BatchNorm1d(512, eps=1e-05, momentum=0.1, affine=True, track_running_stats=True)\n",
      "  (batchnorm2): BatchNorm1d(128, eps=1e-05, momentum=0.1, affine=True, track_running_stats=True)\n",
      "  (batchnorm3): BatchNorm1d(64, eps=1e-05, momentum=0.1, affine=True, track_running_stats=True)\n",
      ")\n"
     ]
    }
   ],
   "source": [
    "model.to(device)\n",
    "criterion = nn.CrossEntropyLoss()\n",
    "optimizer = optim.Adam(model.parameters(), lr=LEARNING_RATE)\n",
    "print(model)"
   ]
  },
  {
   "cell_type": "code",
   "execution_count": 19,
   "metadata": {
    "id": "Gfhl0fXAdWWz"
   },
   "outputs": [],
   "source": [
    "def prediction_acc(y_pred, y_true):\n",
    "  '''Returns prediction accuracy for a batch of output'''\n",
    "  y_pred_softmax = torch.log_softmax(y_pred, dim = 1)\n",
    "  _, y_pred_tags = torch.max(y_pred_softmax, dim = 1)    \n",
    "  \n",
    "  correct_pred = (y_pred_tags == y_true).float()\n",
    "  acc = correct_pred.sum() / len(correct_pred)\n",
    "  acc = acc * 100\n",
    "  \n",
    "  return acc"
   ]
  },
  {
   "cell_type": "code",
   "execution_count": 20,
   "metadata": {
    "id": "ERGSWm8-fGIj"
   },
   "outputs": [],
   "source": [
    "#Dictionary to store accuracy and loss stats\n",
    "accuracy_stats = {\n",
    "    'train': [],\n",
    "    \"val\": []\n",
    "}\n",
    "loss_stats = {\n",
    "    'train': [],\n",
    "    \"val\": []\n",
    "}"
   ]
  },
  {
   "cell_type": "code",
   "execution_count": 21,
   "metadata": {
    "colab": {
     "base_uri": "https://localhost:8080/"
    },
    "id": "_p6gVYEi9OnL",
    "outputId": "72e9a2ac-cde9-4c0b-b33f-01dc7a845a0e"
   },
   "outputs": [
    {
     "name": "stderr",
     "output_type": "stream",
     "text": [
      "\r",
      "  0%|          | 0/10 [00:00<?, ?it/s]"
     ]
    },
    {
     "name": "stdout",
     "output_type": "stream",
     "text": [
      "Begin training.\n"
     ]
    },
    {
     "name": "stderr",
     "output_type": "stream",
     "text": [
      "\r",
      " 10%|█         | 1/10 [00:04<00:36,  4.09s/it]"
     ]
    },
    {
     "name": "stdout",
     "output_type": "stream",
     "text": [
      "Epoch 001: | Train Loss: 1.46727 | Val Loss: 0.26329 | Train Acc: 62.109| Val Acc: 95.068\n"
     ]
    },
    {
     "name": "stderr",
     "output_type": "stream",
     "text": [
      "\r",
      " 20%|██        | 2/10 [00:08<00:32,  4.06s/it]"
     ]
    },
    {
     "name": "stdout",
     "output_type": "stream",
     "text": [
      "Epoch 002: | Train Loss: 0.52485 | Val Loss: 0.13693 | Train Acc: 86.749| Val Acc: 96.411\n"
     ]
    },
    {
     "name": "stderr",
     "output_type": "stream",
     "text": [
      "\r",
      " 30%|███       | 3/10 [00:11<00:28,  4.00s/it]"
     ]
    },
    {
     "name": "stdout",
     "output_type": "stream",
     "text": [
      "Epoch 003: | Train Loss: 0.36539 | Val Loss: 0.10811 | Train Acc: 90.332| Val Acc: 96.777\n"
     ]
    },
    {
     "name": "stderr",
     "output_type": "stream",
     "text": [
      "\r",
      " 40%|████      | 4/10 [00:15<00:23,  3.98s/it]"
     ]
    },
    {
     "name": "stdout",
     "output_type": "stream",
     "text": [
      "Epoch 004: | Train Loss: 0.31076 | Val Loss: 0.09310 | Train Acc: 91.644| Val Acc: 97.192\n"
     ]
    },
    {
     "name": "stderr",
     "output_type": "stream",
     "text": [
      "\r",
      " 50%|█████     | 5/10 [00:19<00:19,  3.99s/it]"
     ]
    },
    {
     "name": "stdout",
     "output_type": "stream",
     "text": [
      "Epoch 005: | Train Loss: 0.26875 | Val Loss: 0.09887 | Train Acc: 92.560| Val Acc: 97.144\n"
     ]
    },
    {
     "name": "stderr",
     "output_type": "stream",
     "text": [
      "\r",
      " 60%|██████    | 6/10 [00:23<00:16,  4.01s/it]"
     ]
    },
    {
     "name": "stdout",
     "output_type": "stream",
     "text": [
      "Epoch 006: | Train Loss: 0.23711 | Val Loss: 0.09271 | Train Acc: 93.335| Val Acc: 97.217\n"
     ]
    },
    {
     "name": "stderr",
     "output_type": "stream",
     "text": [
      "\r",
      " 70%|███████   | 7/10 [00:28<00:12,  4.10s/it]"
     ]
    },
    {
     "name": "stdout",
     "output_type": "stream",
     "text": [
      "Epoch 007: | Train Loss: 0.20445 | Val Loss: 0.08021 | Train Acc: 94.427| Val Acc: 97.559\n"
     ]
    },
    {
     "name": "stderr",
     "output_type": "stream",
     "text": [
      "\r",
      " 80%|████████  | 8/10 [00:31<00:07,  3.99s/it]"
     ]
    },
    {
     "name": "stdout",
     "output_type": "stream",
     "text": [
      "Epoch 008: | Train Loss: 0.18296 | Val Loss: 0.08533 | Train Acc: 94.586| Val Acc: 97.656\n"
     ]
    },
    {
     "name": "stderr",
     "output_type": "stream",
     "text": [
      "\r",
      " 90%|█████████ | 9/10 [00:35<00:03,  3.98s/it]"
     ]
    },
    {
     "name": "stdout",
     "output_type": "stream",
     "text": [
      "Epoch 009: | Train Loss: 0.17010 | Val Loss: 0.07497 | Train Acc: 95.148| Val Acc: 97.754\n"
     ]
    },
    {
     "name": "stderr",
     "output_type": "stream",
     "text": [
      "100%|██████████| 10/10 [00:39<00:00,  4.00s/it]"
     ]
    },
    {
     "name": "stdout",
     "output_type": "stream",
     "text": [
      "Epoch 010: | Train Loss: 0.16008 | Val Loss: 0.07177 | Train Acc: 95.422| Val Acc: 98.047\n"
     ]
    },
    {
     "name": "stderr",
     "output_type": "stream",
     "text": [
      "\n"
     ]
    }
   ],
   "source": [
    "print(\"Begin training.\")\n",
    "for e in tqdm(range(1, EPOCHS+1)):\n",
    "    # TRAINING\n",
    "    train_epoch_loss = 0\n",
    "    train_epoch_acc = 0\n",
    "    model.train()\n",
    "    for i, data in enumerate(train_loader):\n",
    "      X_train_batch, y_train_batch = data\n",
    "      X_train_batch, y_train_batch = X_train_batch.to(device), y_train_batch.to(device)\n",
    "      labels = torch.max(y_train_batch, 1)[1]\n",
    "      optimizer.zero_grad()\n",
    "      \n",
    "      y_train_pred = model(X_train_batch)\n",
    "      \n",
    "      train_loss = criterion(y_train_pred, labels)\n",
    "      train_acc = prediction_acc(y_train_pred, labels)\n",
    "      \n",
    "      train_loss.backward()\n",
    "      optimizer.step()\n",
    "      \n",
    "      train_epoch_loss += train_loss.item()\n",
    "      train_epoch_acc += train_acc.item()\n",
    "\n",
    "\n",
    "    # Validation    \n",
    "    with torch.no_grad():\n",
    "        \n",
    "        val_epoch_loss = 0\n",
    "        val_epoch_acc = 0\n",
    "        \n",
    "        model.eval()\n",
    "        for X_val_batch, y_val_batch in val_loader:\n",
    "            X_val_batch, y_val_batch = X_val_batch.to(device), y_val_batch.to(device)\n",
    "            labels = torch.max(y_val_batch, 1)[1]\n",
    "            \n",
    "            y_val_pred = model(X_val_batch)\n",
    "                        \n",
    "            val_loss = criterion(y_val_pred, labels)\n",
    "            val_acc = prediction_acc(y_val_pred, labels)\n",
    "            \n",
    "            val_epoch_loss += val_loss.item()\n",
    "            val_epoch_acc += val_acc.item()\n",
    "            \n",
    "    loss_stats['train'].append(train_epoch_loss/len(train_loader))\n",
    "    loss_stats['val'].append(val_epoch_loss/len(val_loader))\n",
    "    accuracy_stats['train'].append(train_epoch_acc/len(train_loader))\n",
    "    accuracy_stats['val'].append(val_epoch_acc/len(val_loader))\n",
    "                              \n",
    "    \n",
    "    print(f'Epoch {e+0:03}: | Train Loss: {train_epoch_loss/len(train_loader):.5f} | Val Loss: {val_epoch_loss/len(val_loader):.5f} | Train Acc: {train_epoch_acc/len(train_loader):.3f}| Val Acc: {val_epoch_acc/len(val_loader):.3f}')"
   ]
  },
  {
   "cell_type": "code",
   "execution_count": 22,
   "metadata": {
    "colab": {
     "base_uri": "https://localhost:8080/",
     "height": 475
    },
    "id": "UUnIWhtRrGUx",
    "outputId": "02e10e51-b9eb-4239-8796-251f9c09a8be"
   },
   "outputs": [
    {
     "data": {
      "text/plain": [
       "Text(0.5, 1.0, 'Train-Val Loss/Epoch')"
      ]
     },
     "execution_count": 22,
     "metadata": {
      "tags": []
     },
     "output_type": "execute_result"
    },
    {
     "data": {
      "image/png": "[encoded data removed]",
      "text/plain": [
       "<Figure size 1440x504 with 2 Axes>"
      ]
     },
     "metadata": {
      "needs_background": "light",
      "tags": []
     },
     "output_type": "display_data"
    }
   ],
   "source": [
    "# Create dataframes\n",
    "train_val_acc_df = pd.DataFrame.from_dict(accuracy_stats).reset_index().melt(id_vars=['index']).rename(columns={\"index\":\"epochs\"})\n",
    "train_val_loss_df = pd.DataFrame.from_dict(loss_stats).reset_index().melt(id_vars=['index']).rename(columns={\"index\":\"epochs\"})\n",
    "# Plot the dataframes\n",
    "fig, axes = plt.subplots(nrows=1, ncols=2, figsize=(20,7))\n",
    "sns.lineplot(data=train_val_acc_df, x = \"epochs\", y=\"value\", hue=\"variable\",  ax=axes[0]).set_title('Train-Val Accuracy/Epoch')\n",
    "sns.lineplot(data=train_val_loss_df, x = \"epochs\", y=\"value\", hue=\"variable\", ax=axes[1]).set_title('Train-Val Loss/Epoch')"
   ]
  },
  {
   "cell_type": "markdown",
   "metadata": {
    "id": "YZCrA0AKpGC6"
   },
   "source": [
    "**Prediction**"
   ]
  },
  {
   "cell_type": "code",
   "execution_count": 23,
   "metadata": {
    "id": "pB5nvNXBhQWI"
   },
   "outputs": [],
   "source": [
    "def predict(model, input_str):\n",
    "  '''Function to predict single input string'''\n",
    "  model.eval()\n",
    "  encoded_input = get_encoded_input(input_str)\n",
    "  encoded_input = torch.from_numpy(np.array(encoded_input)).float()\n",
    "  encoded_input = encoded_input.view(1,len(alphabets)*3)\n",
    "  encoded_input = encoded_input.to(device)\n",
    "  y_pred = model(encoded_input)\n",
    "  y_pred = torch.log_softmax(y_pred, dim = 1)\n",
    "  _, prediction = torch.max(y_pred, dim = 1)\n",
    "  prediction = prediction.detach().cpu().numpy()[0]\n",
    "  out = decode_single_output(prediction)\n",
    "  return out"
   ]
  },
  {
   "cell_type": "code",
   "execution_count": 24,
   "metadata": {
    "colab": {
     "base_uri": "https://localhost:8080/",
     "height": 35
    },
    "id": "qsjdJW06lxjh",
    "outputId": "7fd57f27-1aa9-44b8-d44d-f4189cd949cf"
   },
   "outputs": [
    {
     "data": {
      "application/vnd.google.colaboratory.intrinsic+json": {
       "type": "string"
      },
      "text/plain": [
       "'q'"
      ]
     },
     "execution_count": 24,
     "metadata": {
      "tags": []
     },
     "output_type": "execute_result"
    }
   ],
   "source": [
    "predict(model, 'next d f j k f m f o p')"
   ]
  },
  {
   "cell_type": "code",
   "execution_count": 25,
   "metadata": {
    "colab": {
     "base_uri": "https://localhost:8080/",
     "height": 35
    },
    "id": "D7cZt8CEtONR",
    "outputId": "4ee27481-0306-4b0d-c2f1-ff2be4a40ee0"
   },
   "outputs": [
    {
     "data": {
      "application/vnd.google.colaboratory.intrinsic+json": {
       "type": "string"
      },
      "text/plain": [
       "'f'"
      ]
     },
     "execution_count": 25,
     "metadata": {
      "tags": []
     },
     "output_type": "execute_result"
    }
   ],
   "source": [
    "predict(model, 'freq d f j k f m f o p')"
   ]
  },
  {
   "cell_type": "code",
   "execution_count": 26,
   "metadata": {
    "colab": {
     "base_uri": "https://localhost:8080/",
     "height": 35
    },
    "id": "CGLO8xm4ushH",
    "outputId": "d9ab941c-f5ef-47e8-be2a-6b007a561b36"
   },
   "outputs": [
    {
     "data": {
      "application/vnd.google.colaboratory.intrinsic+json": {
       "type": "string"
      },
      "text/plain": [
       "'k'"
      ]
     },
     "execution_count": 26,
     "metadata": {
      "tags": []
     },
     "output_type": "execute_result"
    }
   ],
   "source": [
    "predict(model, \"freqd f j k f m f o p\") "
   ]
  },
  {
   "cell_type": "code",
   "execution_count": 31,
   "metadata": {
    "colab": {
     "base_uri": "https://localhost:8080/",
     "height": 35
    },
    "id": "723WwuPnwmCJ",
    "outputId": "bd7578f2-241b-477a-d8de-43653794e588"
   },
   "outputs": [
    {
     "data": {
      "application/vnd.google.colaboratory.intrinsic+json": {
       "type": "string"
      },
      "text/plain": [
       "'f'"
      ]
     },
     "execution_count": 31,
     "metadata": {
      "tags": []
     },
     "output_type": "execute_result"
    }
   ],
   "source": [
    "predict(model, \"first f j k f m f o p\") "
   ]
  },
  {
   "cell_type": "code",
   "execution_count": 28,
   "metadata": {
    "colab": {
     "base_uri": "https://localhost:8080/"
    },
    "id": "3SFe41JXvElh",
    "outputId": "2cc806fc-9f11-4ea3-aa1b-c781a47dddb8"
   },
   "outputs": [
    {
     "data": {
      "text/plain": [
       "0"
      ]
     },
     "execution_count": 28,
     "metadata": {
      "tags": []
     },
     "output_type": "execute_result"
    }
   ],
   "source": [
    "predict(model, \"asfjklasdsfgffdh a r l m n o h n u s a f p k m p l g a t u l\")  #Can handle any length of function name"
   ]
  },
  {
   "cell_type": "code",
   "execution_count": 32,
   "metadata": {
    "colab": {
     "base_uri": "https://localhost:8080/",
     "height": 35
    },
    "id": "PebPnM8IvULQ",
    "outputId": "da25ac0f-b868-46e8-817d-d48b5adcf02a"
   },
   "outputs": [
    {
     "data": {
      "application/vnd.google.colaboratory.intrinsic+json": {
       "type": "string"
      },
      "text/plain": [
       "'l'"
      ]
     },
     "execution_count": 32,
     "metadata": {
      "tags": []
     },
     "output_type": "execute_result"
    }
   ],
   "source": [
    "predict(model, \"freq a r l m n o h n u s a f p k m p l g a t u l\")  #Can handle any length of input"
   ]
  },
  {
   "cell_type": "code",
   "execution_count": 33,
   "metadata": {
    "colab": {
     "base_uri": "https://localhost:8080/",
     "height": 35
    },
    "id": "ZaMUFEDsyJyR",
    "outputId": "46542c77-bede-496e-a09e-5caa9a11661e"
   },
   "outputs": [
    {
     "data": {
      "application/vnd.google.colaboratory.intrinsic+json": {
       "type": "string"
      },
      "text/plain": [
       "'l'"
      ]
     },
     "execution_count": 33,
     "metadata": {
      "tags": []
     },
     "output_type": "execute_result"
    }
   ],
   "source": [
    "predict(model, \"last a r l m n o h n u s a f p k m p l g a t u l\")  #Can handle any length of input"
   ]
  },
  {
   "cell_type": "code",
   "execution_count": 34,
   "metadata": {
    "colab": {
     "base_uri": "https://localhost:8080/",
     "height": 35
    },
    "id": "7EgAk90uwVEY",
    "outputId": "d146207c-5f55-4453-9673-4a1e69f0ccb9"
   },
   "outputs": [
    {
     "data": {
      "application/vnd.google.colaboratory.intrinsic+json": {
       "type": "string"
      },
      "text/plain": [
       "'a'"
      ]
     },
     "execution_count": 34,
     "metadata": {
      "tags": []
     },
     "output_type": "execute_result"
    }
   ],
   "source": [
    "predict(model, \"next a r l m n p l g a t u l z\")  #Next letter when last is z"
   ]
  },
  {
   "cell_type": "code",
   "execution_count": 35,
   "metadata": {
    "colab": {
     "base_uri": "https://localhost:8080/"
    },
    "id": "OUyWvdG_wXrR",
    "outputId": "c96da31b-724e-4623-92f1-2cf40c021533"
   },
   "outputs": [
    {
     "name": "stdout",
     "output_type": "stream",
     "text": [
      "Not a valid function name: '1' is not in list\n"
     ]
    },
    {
     "data": {
      "text/plain": [
       "0"
      ]
     },
     "execution_count": 35,
     "metadata": {
      "tags": []
     },
     "output_type": "execute_result"
    }
   ],
   "source": [
    "predict(model, \"asdf12 a r l m n p l g a t u l z\")  #Invalid function name"
   ]
  },
  {
   "cell_type": "code",
   "execution_count": 38,
   "metadata": {
    "colab": {
     "base_uri": "https://localhost:8080/"
    },
    "id": "GgNbCB9hyO15",
    "outputId": "bcb0642b-c7b5-4a82-bbcf-d7d68970f4a1"
   },
   "outputs": [
    {
     "name": "stdout",
     "output_type": "stream",
     "text": [
      "Invalid letter '2334' is not in list\n"
     ]
    },
    {
     "data": {
      "text/plain": [
       "0"
      ]
     },
     "execution_count": 38,
     "metadata": {
      "tags": []
     },
     "output_type": "execute_result"
    }
   ],
   "source": [
    "predict(model, \"asdf a r l 2334 a t u l z\")  #Invalid sring"
   ]
  },
  {
   "cell_type": "code",
   "execution_count": 39,
   "metadata": {
    "colab": {
     "base_uri": "https://localhost:8080/"
    },
    "id": "smpMS7vpyUDp",
    "outputId": "691db3c4-261a-4995-e34e-17c0cb04ee0a"
   },
   "outputs": [
    {
     "name": "stdout",
     "output_type": "stream",
     "text": [
      "Not a valid function name: '1' is not in list\n",
      "Invalid letter '86576' is not in list\n"
     ]
    },
    {
     "data": {
      "text/plain": [
       "0"
      ]
     },
     "execution_count": 39,
     "metadata": {
      "tags": []
     },
     "output_type": "execute_result"
    }
   ],
   "source": [
    "predict(model, \"asdf1344 a r l 86576 a t u l z\")  #Invalid function and string"
   ]
  },
  {
   "cell_type": "code",
   "execution_count": null,
   "metadata": {
    "id": "QwiM24jLyeIq"
   },
   "outputs": [],
   "source": []
  }
 ],
 "metadata": {
  "accelerator": "GPU",
  "colab": {
   "collapsed_sections": [],
   "name": "ml_take_home.ipynb",
   "provenance": []
  },
  "kernelspec": {
   "display_name": "Python 3",
   "language": "python",
   "name": "python3"
  },
  "language_info": {
   "codemirror_mode": {
    "name": "ipython",
    "version": 3
   },
   "file_extension": ".py",
   "mimetype": "text/x-python",
   "name": "python",
   "nbconvert_exporter": "python",
   "pygments_lexer": "ipython3",
   "version": "3.7.9"
  }
 },
 "nbformat": 4,
 "nbformat_minor": 1
}

{
 "cells": [
  {
   "cell_type": "markdown",
   "metadata": {},
   "source": [
    "# Analysis"
   ]
  },
  {
   "cell_type": "markdown",
   "metadata": {},
   "source": [
    "## Data"
   ]
  },
  {
   "cell_type": "markdown",
   "metadata": {},
   "source": [
    "The dataset contains 12083 rows and 940 columns. Glancing over the layout file of the dataset provides information about the type of the data. There are regional and demographic information about the household. There are finer details about the house such as type of walls, number of rooms, type of rooms and heating, cooling and insulations used. There are details of electrical appliances used such as number of heaters, bulbs, air conditioning, tv, gaming console, celieng fans etc. Most of the data consists of categorical variables such as type of television while some of the data is numerical such as temperature at night, and number of tv in the household. The goal is to create a simple model which can explain with good accuracy the amount of energy usage provided in 'KWH' column.<br>\n",
    "\n",
    "<br>\n",
    "Based on initial intuition, I defined some functions which are used to preprocess the data. The function 'get_countofmax' takes a range of columns as input and gives the details of element with highest occurence in each column. This is used to understand if the column contains high entropy and hence high information variables. For example the column 'STOVEN' stands for number of stoves and contains 88.7% count of '1'. While this information is useful, such columns are discarded for now considering that they contain less randomness, hence would not have affect on building a simpler model. Consequently, I defined a function 'dropcolsinrange' which is used to drop columns in a given range and accept range of the columns and columns to keep in that range. Since, most of the data is in categorical form, I defined a method 'findreplace_incols' to replace missing values in a list of categorical columns with their mode. I defined two functions to encode the categorical columns: 'binaryencode_cols' and 'onehotencode_cols'. First one encodes all columns in a given range in binary form, while the second function encodes columns with cardinality less than 8 to one-hot encoding. Both the functions repalce boolean labels for columns containing two values. Finally, I implemented MAPE(mean absolute percentage error) is a metrics of prediction accuracy in regression problems.<br>\n",
    "<br>\n",
    "\n",
    "Loading data is followed by analysis of the distribution of the target variable. It's a somewhat skeId distribution with around 140 rows containing values more than 35k KWH. To lead to a better regularization and avoid effect of outliers on the model, I removed all rows with KWH more than 35,000. The resulting distribution is show in cell 18 above."
   ]
  },
  {
   "cell_type": "markdown",
   "metadata": {},
   "source": [
    "## Data Preprocessing"
   ]
  },
  {
   "cell_type": "markdown",
   "metadata": {},
   "source": [
    "I start by picking a range of columns and analyzing it. The steps followed to preprocess the data were as following: <br>\n",
    "<br>\n",
    "1.) Select a range of columns.<br>\n",
    "2.) Analyze the distribution of variables in the columns using get_countofmax function.<br>\n",
    "3.) Decide columns to keep based on subjective understanding of its relation to usage of electricity. Drop the obvious collinear columns - for example only TOTROOMS(total no of rooms) was kept in the data and BEDROOMS (no of bedrooms), NCOMBATH(no of combined bathrooms), NHAFBATH(no of half bathrooms), OTHROOMS(other rooms), TOTROOMS were droppped.<br>\n",
    "4.) Encode categorical variables using the function onehotencode_cols<br>\n",
    "5.) Drop all the columns starting from Z (since they are imputation flags and not useful here).<br>\n",
    "<br>\n",
    "This process is repeated by picking a range of columns till the target variable 'KWH'. Some columns after this contain direct information to compute KWH. For example, summation of a combination of values from columns KWHSPH, KWHCOL, KWHWTH, KWHRFG, KWHOTH directly yields KWH.<br> Also columns which contain cost of electricity and total cost occured contain a direct calculation to KWH. To avoid 'cheating' we drop all such columns to avoid any direct computation.\n"
   ]
  },
  {
   "cell_type": "markdown",
   "metadata": {},
   "source": [
    "## Model Building"
   ]
  },
  {
   "cell_type": "markdown",
   "metadata": {},
   "source": [
    "The curated data is split into 85% train and 15% test set. <br>\n",
    "I performed PCA on the data followed by linear regression using 130 principal components. The result with such a simple model is impressive with 0.58 R_squared score on train and  0.57 on the test set. This shows that the data did not overfit and regularized well on the test set.<br>\n",
    "Next, I used random forest regressor on the curated data. A simple grid search was performed to check the best combination of parameters out of an empirical set. This yields an improved result with 0.44 MAPE on train and 0.41 MAPE on test set. The R_squared score is 0.77 on the train set and 0.59 on the test set which is better than the linear regression model.<br>\n",
    "Finally, I tried a KNN regression with KD_tree algorithm. Though, the MAPE is 0.49 on train and 0.38 on test set, the R_squared score is lesser than random forest regressor in both train and test set."
   ]
  },
  {
   "cell_type": "code",
   "execution_count": null,
   "metadata": {},
   "outputs": [],
   "source": []
  },
  {
   "cell_type": "code",
   "execution_count": 2,
   "metadata": {},
   "outputs": [],
   "source": [
    "import pandas as pd\n",
    "import numpy as np"
   ]
  },
  {
   "cell_type": "code",
   "execution_count": 3,
   "metadata": {},
   "outputs": [],
   "source": [
    "import matplotlib.pyplot as plt\n",
    "import seaborn as sns"
   ]
  },
  {
   "cell_type": "code",
   "execution_count": 4,
   "metadata": {},
   "outputs": [],
   "source": [
    "import category_encoders as ce\n",
    "from sklearn.preprocessing import LabelEncoder"
   ]
  },
  {
   "cell_type": "markdown",
   "metadata": {},
   "source": [
    "# Utility Functions"
   ]
  },
  {
   "cell_type": "code",
   "execution_count": 6,
   "metadata": {},
   "outputs": [],
   "source": [
    "#Function to loop over range of columns and give the count of element with highest occurence. \n",
    "#This will be used to decide if a column contains useful information\n",
    "\n",
    "def get_countofmax(df, start_col, end_col):\n",
    "    try:\n",
    "        print( 'Column_name   unique_values    frequent_element      frequency      percentage')\n",
    "        shape = df.shape\n",
    "        start_col = df.columns.get_loc(start_col)\n",
    "        end_col = df.columns.get_loc(end_col)\n",
    "        for i in range(start_col, end_col+1):\n",
    "            col = data.columns[i]\n",
    "            unqiue = len(set(data.iloc[:,i]))\n",
    "            x = (data.iloc[:,i]).value_counts()[:1]\n",
    "            x1 = x[:1].index.tolist()\n",
    "            x2 = int(x)\n",
    "            print( col +str(' : ') +\"    \" + str(unqiue) +\"    \" + str(x1) +\"    \" + str(x2)+\"    \" + str(x2/shape[0]*100)+'%')\n",
    "    except Exception as e:\n",
    "        print(e)"
   ]
  },
  {
   "cell_type": "code",
   "execution_count": 7,
   "metadata": {},
   "outputs": [],
   "source": [
    "#Function to drop columns in a range with exception of few columns\n",
    "def dropcolsinrange(df, start_col, end_col, skip_columns = []):\n",
    "    \n",
    "    print( 'Dropped columns:')\n",
    "    try:\n",
    "        shape = df.shape\n",
    "        start_col = df.columns.get_loc(start_col)\n",
    "        end_col = df.columns.get_loc(end_col)\n",
    "        for i in range(start_col, end_col+1):\n",
    "            col = data.columns[i]\n",
    "            if not col in skip_columns:\n",
    "                print(col)\n",
    "                df = df.drop([col], axis = 1)\n",
    "    except Exception as e:\n",
    "        print(e)    \n",
    "    \n",
    "    return df"
   ]
  },
  {
   "cell_type": "code",
   "execution_count": 8,
   "metadata": {},
   "outputs": [],
   "source": [
    "#fUNCTION to check if a particulat value exists in a list of columns.. Replace with mode if yes\n",
    "\n",
    "def findreplace_incols(df, col_list, value, replace= False):\n",
    "    print('Count of ' +str(value)+ \" in list of columns:\")\n",
    "    \n",
    "    if replace:\n",
    "        print('Values will be replaced by mode.')\n",
    "        \n",
    "    try:\n",
    "        for col in col_list:\n",
    "            x = df[col].to_list().count(value)\n",
    "            print(col + str(\":   \")+str(x))\n",
    "            if(x and replace):\n",
    "                m = df[col].mode()[0]\n",
    "                df[col].replace(value, m, inplace = True )\n",
    "    except Exception as e:\n",
    "        print(e)      "
   ]
  },
  {
   "cell_type": "code",
   "execution_count": 9,
   "metadata": {},
   "outputs": [],
   "source": [
    "#Encoding of a list of columns using binary encoding\n",
    "def binaryencode_cols(df, col_list = []):\n",
    "    if(len(col_list) < 1):\n",
    "        return\n",
    "\n",
    "    try:\n",
    "        #print('here')\n",
    "        for i in col_list:\n",
    "            if len(set(df[i])) > 2:\n",
    "                print('Binary Encoding column ' +str(i))\n",
    "                #Binary encoding \n",
    "                domain_ec = ce.BinaryEncoder(cols = [i])\n",
    "                dfbin = domain_ec.fit_transform(df[i])\n",
    "                df = pd.concat([df, dfbin], axis = 1)\n",
    "                df = df.drop([i], axis = 1)\n",
    "            else:\n",
    "                print('Boolean labels for column ' +str(i))\n",
    "                x = set(df[i])\n",
    "                df[i].replace(x, (1, 0), inplace=True)\n",
    "    except Exception as e:\n",
    "        print(e)     \n",
    "    return df"
   ]
  },
  {
   "cell_type": "code",
   "execution_count": 10,
   "metadata": {},
   "outputs": [],
   "source": [
    "#Encoding of a list of columns using onehot encoding if no of columns less than 8\n",
    "def onehotencode_cols(df, col_list = []):\n",
    "    if(len(col_list) < 1):\n",
    "        return\n",
    "\n",
    "    try:\n",
    "        #print('here')\n",
    "        for i in col_list:\n",
    "            if len(set(df[i])) > 8:\n",
    "                print('Binary Encoding column ' +str(i))\n",
    "                #Binary encoding \n",
    "                domain_ec = ce.BinaryEncoder(cols = [i])\n",
    "                dfbin = domain_ec.fit_transform(df[i])\n",
    "                df = pd.concat([df, dfbin], axis = 1)\n",
    "                df = df.drop([i], axis = 1)\n",
    "            elif len(set(df[i])) > 2:\n",
    "                print('One Hot Encoding column ' +str(i))\n",
    "                #One hot encoding \n",
    "                df = pd.get_dummies(df, columns= [i], prefix=[i], drop_first=True)\n",
    "            else:\n",
    "                print('Boolean labels for column ' +str(i))\n",
    "                x = set(df[i])\n",
    "                df[i].replace(x, (1, 0), inplace=True)\n",
    "    except Exception as e:\n",
    "        print(e)     \n",
    "    return df"
   ]
  },
  {
   "cell_type": "code",
   "execution_count": 5,
   "metadata": {},
   "outputs": [],
   "source": [
    "def mean_absolute_percentage_error(y_true, y_pred, sample_weight=None, multioutput='uniform_average'):\n",
    "\n",
    "    epsilon = np.finfo(np.float64).eps\n",
    "    mape = np.abs(y_pred - y_true) / np.maximum(np.abs(y_true), epsilon)\n",
    "    output_errors = np.average(mape, weights=sample_weight, axis=0)\n",
    "    if isinstance(multioutput, str):\n",
    "        if multioutput == 'raw_values':\n",
    "            return output_errors\n",
    "        elif multioutput == 'uniform_average':\n",
    "            # pass None as weights to np.average: uniform mean\n",
    "            multioutput = None\n",
    "\n",
    "    return np.average(output_errors, weights=multioutput)"
   ]
  },
  {
   "cell_type": "markdown",
   "metadata": {},
   "source": [
    "# Load Data"
   ]
  },
  {
   "cell_type": "code",
   "execution_count": 11,
   "metadata": {
    "scrolled": false
   },
   "outputs": [
    {
     "name": "stderr",
     "output_type": "stream",
     "text": [
      "C:\\Users\\Manish\\Miniconda3\\lib\\site-packages\\IPython\\core\\interactiveshell.py:3146: DtypeWarning: Columns (717,718) have mixed types.Specify dtype option on import or set low_memory=False.\n",
      "  interactivity=interactivity, compiler=compiler, result=result)\n"
     ]
    }
   ],
   "source": [
    "raw_data = pd.read_csv('recs2009_public.csv')"
   ]
  },
  {
   "cell_type": "code",
   "execution_count": 12,
   "metadata": {},
   "outputs": [
    {
     "data": {
      "text/html": [
       "<div>\n",
       "<style scoped>\n",
       "    .dataframe tbody tr th:only-of-type {\n",
       "        vertical-align: middle;\n",
       "    }\n",
       "\n",
       "    .dataframe tbody tr th {\n",
       "        vertical-align: top;\n",
       "    }\n",
       "\n",
       "    .dataframe thead th {\n",
       "        text-align: right;\n",
       "    }\n",
       "</style>\n",
       "<table border=\"1\" class=\"dataframe\">\n",
       "  <thead>\n",
       "    <tr style=\"text-align: right;\">\n",
       "      <th></th>\n",
       "      <th>DOEID</th>\n",
       "      <th>REGIONC</th>\n",
       "      <th>DIVISION</th>\n",
       "      <th>REPORTABLE_DOMAIN</th>\n",
       "      <th>TYPEHUQ</th>\n",
       "      <th>NWEIGHT</th>\n",
       "      <th>HDD65</th>\n",
       "      <th>CDD65</th>\n",
       "      <th>HDD30YR</th>\n",
       "      <th>CDD30YR</th>\n",
       "      <th>...</th>\n",
       "      <th>SCALEKER</th>\n",
       "      <th>IECC_Climate_Pub</th>\n",
       "      <th>HDD50</th>\n",
       "      <th>CDD80</th>\n",
       "      <th>GND_HDD65</th>\n",
       "      <th>WSF</th>\n",
       "      <th>OA_LAT</th>\n",
       "      <th>GWT</th>\n",
       "      <th>DesignDBT99</th>\n",
       "      <th>DesignDBT1</th>\n",
       "    </tr>\n",
       "  </thead>\n",
       "  <tbody>\n",
       "    <tr>\n",
       "      <th>0</th>\n",
       "      <td>1</td>\n",
       "      <td>2</td>\n",
       "      <td>4</td>\n",
       "      <td>12</td>\n",
       "      <td>2</td>\n",
       "      <td>2471.68</td>\n",
       "      <td>4742</td>\n",
       "      <td>1080</td>\n",
       "      <td>4953</td>\n",
       "      <td>1271</td>\n",
       "      <td>...</td>\n",
       "      <td>-2</td>\n",
       "      <td>4A</td>\n",
       "      <td>2117</td>\n",
       "      <td>56</td>\n",
       "      <td>4250</td>\n",
       "      <td>0.48</td>\n",
       "      <td>6</td>\n",
       "      <td>56</td>\n",
       "      <td>9</td>\n",
       "      <td>96</td>\n",
       "    </tr>\n",
       "    <tr>\n",
       "      <th>1</th>\n",
       "      <td>2</td>\n",
       "      <td>4</td>\n",
       "      <td>10</td>\n",
       "      <td>26</td>\n",
       "      <td>2</td>\n",
       "      <td>8599.17</td>\n",
       "      <td>2662</td>\n",
       "      <td>199</td>\n",
       "      <td>2688</td>\n",
       "      <td>143</td>\n",
       "      <td>...</td>\n",
       "      <td>-2</td>\n",
       "      <td>3C</td>\n",
       "      <td>62</td>\n",
       "      <td>26</td>\n",
       "      <td>2393</td>\n",
       "      <td>0.61</td>\n",
       "      <td>0</td>\n",
       "      <td>64</td>\n",
       "      <td>38</td>\n",
       "      <td>73</td>\n",
       "    </tr>\n",
       "    <tr>\n",
       "      <th>2</th>\n",
       "      <td>3</td>\n",
       "      <td>1</td>\n",
       "      <td>1</td>\n",
       "      <td>1</td>\n",
       "      <td>5</td>\n",
       "      <td>8969.92</td>\n",
       "      <td>6233</td>\n",
       "      <td>505</td>\n",
       "      <td>5741</td>\n",
       "      <td>829</td>\n",
       "      <td>...</td>\n",
       "      <td>-2</td>\n",
       "      <td>5A</td>\n",
       "      <td>2346</td>\n",
       "      <td>49</td>\n",
       "      <td>5654</td>\n",
       "      <td>0.48</td>\n",
       "      <td>3</td>\n",
       "      <td>52</td>\n",
       "      <td>12</td>\n",
       "      <td>88</td>\n",
       "    </tr>\n",
       "    <tr>\n",
       "      <th>3</th>\n",
       "      <td>4</td>\n",
       "      <td>2</td>\n",
       "      <td>3</td>\n",
       "      <td>7</td>\n",
       "      <td>2</td>\n",
       "      <td>18003.64</td>\n",
       "      <td>6034</td>\n",
       "      <td>672</td>\n",
       "      <td>5781</td>\n",
       "      <td>868</td>\n",
       "      <td>...</td>\n",
       "      <td>-2</td>\n",
       "      <td>5A</td>\n",
       "      <td>2746</td>\n",
       "      <td>0</td>\n",
       "      <td>4941</td>\n",
       "      <td>0.55</td>\n",
       "      <td>4</td>\n",
       "      <td>55</td>\n",
       "      <td>7</td>\n",
       "      <td>87</td>\n",
       "    </tr>\n",
       "    <tr>\n",
       "      <th>4</th>\n",
       "      <td>5</td>\n",
       "      <td>1</td>\n",
       "      <td>1</td>\n",
       "      <td>1</td>\n",
       "      <td>3</td>\n",
       "      <td>5999.61</td>\n",
       "      <td>5388</td>\n",
       "      <td>702</td>\n",
       "      <td>5313</td>\n",
       "      <td>797</td>\n",
       "      <td>...</td>\n",
       "      <td>-2</td>\n",
       "      <td>5A</td>\n",
       "      <td>2251</td>\n",
       "      <td>0</td>\n",
       "      <td>5426</td>\n",
       "      <td>0.61</td>\n",
       "      <td>4</td>\n",
       "      <td>50</td>\n",
       "      <td>13</td>\n",
       "      <td>90</td>\n",
       "    </tr>\n",
       "  </tbody>\n",
       "</table>\n",
       "<p>5 rows × 940 columns</p>\n",
       "</div>"
      ],
      "text/plain": [
       "   DOEID  REGIONC  DIVISION  REPORTABLE_DOMAIN  TYPEHUQ   NWEIGHT  HDD65  \\\n",
       "0      1        2         4                 12        2   2471.68   4742   \n",
       "1      2        4        10                 26        2   8599.17   2662   \n",
       "2      3        1         1                  1        5   8969.92   6233   \n",
       "3      4        2         3                  7        2  18003.64   6034   \n",
       "4      5        1         1                  1        3   5999.61   5388   \n",
       "\n",
       "   CDD65  HDD30YR  CDD30YR  ...  SCALEKER  IECC_Climate_Pub HDD50 CDD80  \\\n",
       "0   1080     4953     1271  ...        -2                4A  2117    56   \n",
       "1    199     2688      143  ...        -2                3C    62    26   \n",
       "2    505     5741      829  ...        -2                5A  2346    49   \n",
       "3    672     5781      868  ...        -2                5A  2746     0   \n",
       "4    702     5313      797  ...        -2                5A  2251     0   \n",
       "\n",
       "   GND_HDD65   WSF  OA_LAT  GWT  DesignDBT99  DesignDBT1  \n",
       "0       4250  0.48       6   56            9          96  \n",
       "1       2393  0.61       0   64           38          73  \n",
       "2       5654  0.48       3   52           12          88  \n",
       "3       4941  0.55       4   55            7          87  \n",
       "4       5426  0.61       4   50           13          90  \n",
       "\n",
       "[5 rows x 940 columns]"
      ]
     },
     "execution_count": 12,
     "metadata": {},
     "output_type": "execute_result"
    }
   ],
   "source": [
    "raw_data.head(5)"
   ]
  },
  {
   "cell_type": "code",
   "execution_count": 13,
   "metadata": {
    "scrolled": true
   },
   "outputs": [
    {
     "data": {
      "text/plain": [
       "(12083, 940)"
      ]
     },
     "execution_count": 13,
     "metadata": {},
     "output_type": "execute_result"
    }
   ],
   "source": [
    "raw_data.shape"
   ]
  },
  {
   "cell_type": "code",
   "execution_count": 14,
   "metadata": {},
   "outputs": [
    {
     "data": {
      "text/plain": [
       "count     12083.000000\n",
       "mean      11288.159398\n",
       "std        7641.190845\n",
       "min          17.000000\n",
       "25%        5837.000000\n",
       "50%        9623.000000\n",
       "75%       14765.000000\n",
       "max      150254.000000\n",
       "Name: KWH, dtype: float64"
      ]
     },
     "execution_count": 14,
     "metadata": {},
     "output_type": "execute_result"
    }
   ],
   "source": [
    "#Target variable\n",
    "y = raw_data['KWH']\n",
    "y.describe()"
   ]
  },
  {
   "cell_type": "code",
   "execution_count": 15,
   "metadata": {},
   "outputs": [
    {
     "data": {
      "text/plain": [
       "<AxesSubplot:ylabel='Frequency'>"
      ]
     },
     "execution_count": 15,
     "metadata": {},
     "output_type": "execute_result"
    },
    {
     "data": {
      "image/png": "[encoded data removed]",
      "text/plain": [
       "<Figure size 432x288 with 1 Axes>"
      ]
     },
     "metadata": {
      "needs_background": "light"
     },
     "output_type": "display_data"
    }
   ],
   "source": [
    "y.plot.hist(bins=20, alpha=0.5)"
   ]
  },
  {
   "cell_type": "code",
   "execution_count": 16,
   "metadata": {},
   "outputs": [
    {
     "data": {
      "text/plain": [
       "(297, 140, 29, 2, 1)"
      ]
     },
     "execution_count": 16,
     "metadata": {},
     "output_type": "execute_result"
    }
   ],
   "source": [
    "#How many above 30000\n",
    "y[y > 30000].count(),y[y > 35000].count(), y[y > 50000].count(), y[y > 75000].count(), y[y > 100000].count()"
   ]
  },
  {
   "cell_type": "markdown",
   "metadata": {},
   "source": [
    "## Data Preprocessing"
   ]
  },
  {
   "cell_type": "code",
   "execution_count": 17,
   "metadata": {},
   "outputs": [],
   "source": [
    "data = raw_data"
   ]
  },
  {
   "cell_type": "code",
   "execution_count": 18,
   "metadata": {},
   "outputs": [],
   "source": [
    "#Drop columns greater than 35k since it will affect the model\n",
    "data = data[data['KWH'] < 35000] \n",
    "y = data['KWH']"
   ]
  },
  {
   "cell_type": "code",
   "execution_count": 19,
   "metadata": {},
   "outputs": [
    {
     "data": {
      "text/plain": [
       "<AxesSubplot:ylabel='Frequency'>"
      ]
     },
     "execution_count": 19,
     "metadata": {},
     "output_type": "execute_result"
    },
    {
     "data": {
      "image/png": "[encoded data removed]",
      "text/plain": [
       "<Figure size 432x288 with 1 Axes>"
      ]
     },
     "metadata": {
      "needs_background": "light"
     },
     "output_type": "display_data"
    }
   ],
   "source": [
    "y.plot.hist(bins=20, alpha=0.5)"
   ]
  },
  {
   "cell_type": "code",
   "execution_count": 20,
   "metadata": {},
   "outputs": [],
   "source": [
    "#Drop DOEID\n",
    "#Drop first column\n",
    "data = data.drop('DOEID', axis = 1)"
   ]
  },
  {
   "cell_type": "code",
   "execution_count": 21,
   "metadata": {},
   "outputs": [
    {
     "name": "stdout",
     "output_type": "stream",
     "text": [
      "REGIONC {1, 2, 3, 4}\n",
      "DIVISION {1, 2, 3, 4, 5, 6, 7, 8, 9, 10}\n",
      "REPORTABLE_DOMAIN {1, 2, 3, 4, 5, 6, 7, 8, 9, 10, 11, 12, 13, 14, 15, 16, 17, 18, 19, 20, 21, 22, 23, 24, 25, 26, 27}\n",
      "TYPEHUQ {1, 2, 3, 4, 5}\n"
     ]
    }
   ],
   "source": [
    "#location and housetype variables\n",
    "print( 'REGIONC ' + str(set(data['REGIONC']))),  \n",
    "print( 'DIVISION ' +str(set(data['DIVISION']))), \n",
    "print( 'REPORTABLE_DOMAIN ' + str(set(data['REPORTABLE_DOMAIN']))), \n",
    "print( 'TYPEHUQ ' + str(set(data['TYPEHUQ'])))"
   ]
  },
  {
   "cell_type": "code",
   "execution_count": 22,
   "metadata": {},
   "outputs": [
    {
     "name": "stdout",
     "output_type": "stream",
     "text": [
      "Column_name   unique_values    frequent_element      frequency      percentage\n",
      "REGIONC :     4    [3]    4024    33.69337687348237%\n",
      "DIVISION :     10    [5]    2202    18.43757849786486%\n",
      "REPORTABLE_DOMAIN :     27    [26]    1598    13.380222724608556%\n",
      "TYPEHUQ :     5    [2]    7670    64.22171983588713%\n"
     ]
    }
   ],
   "source": [
    "#Get distribution of highest occuring element\n",
    "get_countofmax(data,'REGIONC','TYPEHUQ' )"
   ]
  },
  {
   "cell_type": "code",
   "execution_count": 23,
   "metadata": {
    "scrolled": true
   },
   "outputs": [
    {
     "name": "stdout",
     "output_type": "stream",
     "text": [
      "One Hot Encoding column REGIONC\n",
      "Binary Encoding column DIVISION\n"
     ]
    },
    {
     "name": "stderr",
     "output_type": "stream",
     "text": [
      "C:\\Users\\Manish\\Miniconda3\\lib\\site-packages\\category_encoders\\utils.py:21: FutureWarning: is_categorical is deprecated and will be removed in a future version.  Use is_categorical_dtype instead\n",
      "  elif pd.api.types.is_categorical(cols):\n"
     ]
    },
    {
     "name": "stdout",
     "output_type": "stream",
     "text": [
      "Binary Encoding column REPORTABLE_DOMAIN\n"
     ]
    },
    {
     "name": "stderr",
     "output_type": "stream",
     "text": [
      "C:\\Users\\Manish\\Miniconda3\\lib\\site-packages\\category_encoders\\utils.py:21: FutureWarning: is_categorical is deprecated and will be removed in a future version.  Use is_categorical_dtype instead\n",
      "  elif pd.api.types.is_categorical(cols):\n"
     ]
    },
    {
     "name": "stdout",
     "output_type": "stream",
     "text": [
      "One Hot Encoding column TYPEHUQ\n"
     ]
    }
   ],
   "source": [
    "data = onehotencode_cols(data,['REGIONC', 'DIVISION','REPORTABLE_DOMAIN', 'TYPEHUQ'])"
   ]
  },
  {
   "cell_type": "code",
   "execution_count": 24,
   "metadata": {},
   "outputs": [
    {
     "data": {
      "text/html": [
       "<div>\n",
       "<style scoped>\n",
       "    .dataframe tbody tr th:only-of-type {\n",
       "        vertical-align: middle;\n",
       "    }\n",
       "\n",
       "    .dataframe tbody tr th {\n",
       "        vertical-align: top;\n",
       "    }\n",
       "\n",
       "    .dataframe thead th {\n",
       "        text-align: right;\n",
       "    }\n",
       "</style>\n",
       "<table border=\"1\" class=\"dataframe\">\n",
       "  <thead>\n",
       "    <tr style=\"text-align: right;\">\n",
       "      <th></th>\n",
       "      <th>DesignDBT99</th>\n",
       "      <th>DesignDBT1</th>\n",
       "      <th>REGIONC_2</th>\n",
       "      <th>REGIONC_3</th>\n",
       "      <th>REGIONC_4</th>\n",
       "      <th>DIVISION_0</th>\n",
       "      <th>DIVISION_1</th>\n",
       "      <th>DIVISION_2</th>\n",
       "      <th>DIVISION_3</th>\n",
       "      <th>DIVISION_4</th>\n",
       "      <th>REPORTABLE_DOMAIN_0</th>\n",
       "      <th>REPORTABLE_DOMAIN_1</th>\n",
       "      <th>REPORTABLE_DOMAIN_2</th>\n",
       "      <th>REPORTABLE_DOMAIN_3</th>\n",
       "      <th>REPORTABLE_DOMAIN_4</th>\n",
       "      <th>REPORTABLE_DOMAIN_5</th>\n",
       "      <th>TYPEHUQ_2</th>\n",
       "      <th>TYPEHUQ_3</th>\n",
       "      <th>TYPEHUQ_4</th>\n",
       "      <th>TYPEHUQ_5</th>\n",
       "    </tr>\n",
       "  </thead>\n",
       "  <tbody>\n",
       "    <tr>\n",
       "      <th>0</th>\n",
       "      <td>9</td>\n",
       "      <td>96</td>\n",
       "      <td>1</td>\n",
       "      <td>0</td>\n",
       "      <td>0</td>\n",
       "      <td>0</td>\n",
       "      <td>0</td>\n",
       "      <td>0</td>\n",
       "      <td>0</td>\n",
       "      <td>1</td>\n",
       "      <td>0</td>\n",
       "      <td>0</td>\n",
       "      <td>0</td>\n",
       "      <td>0</td>\n",
       "      <td>0</td>\n",
       "      <td>1</td>\n",
       "      <td>1</td>\n",
       "      <td>0</td>\n",
       "      <td>0</td>\n",
       "      <td>0</td>\n",
       "    </tr>\n",
       "    <tr>\n",
       "      <th>1</th>\n",
       "      <td>38</td>\n",
       "      <td>73</td>\n",
       "      <td>0</td>\n",
       "      <td>0</td>\n",
       "      <td>1</td>\n",
       "      <td>0</td>\n",
       "      <td>0</td>\n",
       "      <td>0</td>\n",
       "      <td>1</td>\n",
       "      <td>0</td>\n",
       "      <td>0</td>\n",
       "      <td>0</td>\n",
       "      <td>0</td>\n",
       "      <td>0</td>\n",
       "      <td>1</td>\n",
       "      <td>0</td>\n",
       "      <td>1</td>\n",
       "      <td>0</td>\n",
       "      <td>0</td>\n",
       "      <td>0</td>\n",
       "    </tr>\n",
       "    <tr>\n",
       "      <th>2</th>\n",
       "      <td>12</td>\n",
       "      <td>88</td>\n",
       "      <td>0</td>\n",
       "      <td>0</td>\n",
       "      <td>0</td>\n",
       "      <td>0</td>\n",
       "      <td>0</td>\n",
       "      <td>0</td>\n",
       "      <td>1</td>\n",
       "      <td>1</td>\n",
       "      <td>0</td>\n",
       "      <td>0</td>\n",
       "      <td>0</td>\n",
       "      <td>0</td>\n",
       "      <td>1</td>\n",
       "      <td>1</td>\n",
       "      <td>0</td>\n",
       "      <td>0</td>\n",
       "      <td>0</td>\n",
       "      <td>1</td>\n",
       "    </tr>\n",
       "    <tr>\n",
       "      <th>3</th>\n",
       "      <td>7</td>\n",
       "      <td>87</td>\n",
       "      <td>1</td>\n",
       "      <td>0</td>\n",
       "      <td>0</td>\n",
       "      <td>0</td>\n",
       "      <td>0</td>\n",
       "      <td>1</td>\n",
       "      <td>0</td>\n",
       "      <td>0</td>\n",
       "      <td>0</td>\n",
       "      <td>0</td>\n",
       "      <td>0</td>\n",
       "      <td>1</td>\n",
       "      <td>0</td>\n",
       "      <td>0</td>\n",
       "      <td>1</td>\n",
       "      <td>0</td>\n",
       "      <td>0</td>\n",
       "      <td>0</td>\n",
       "    </tr>\n",
       "    <tr>\n",
       "      <th>4</th>\n",
       "      <td>13</td>\n",
       "      <td>90</td>\n",
       "      <td>0</td>\n",
       "      <td>0</td>\n",
       "      <td>0</td>\n",
       "      <td>0</td>\n",
       "      <td>0</td>\n",
       "      <td>0</td>\n",
       "      <td>1</td>\n",
       "      <td>1</td>\n",
       "      <td>0</td>\n",
       "      <td>0</td>\n",
       "      <td>0</td>\n",
       "      <td>0</td>\n",
       "      <td>1</td>\n",
       "      <td>1</td>\n",
       "      <td>0</td>\n",
       "      <td>1</td>\n",
       "      <td>0</td>\n",
       "      <td>0</td>\n",
       "    </tr>\n",
       "    <tr>\n",
       "      <th>...</th>\n",
       "      <td>...</td>\n",
       "      <td>...</td>\n",
       "      <td>...</td>\n",
       "      <td>...</td>\n",
       "      <td>...</td>\n",
       "      <td>...</td>\n",
       "      <td>...</td>\n",
       "      <td>...</td>\n",
       "      <td>...</td>\n",
       "      <td>...</td>\n",
       "      <td>...</td>\n",
       "      <td>...</td>\n",
       "      <td>...</td>\n",
       "      <td>...</td>\n",
       "      <td>...</td>\n",
       "      <td>...</td>\n",
       "      <td>...</td>\n",
       "      <td>...</td>\n",
       "      <td>...</td>\n",
       "      <td>...</td>\n",
       "    </tr>\n",
       "    <tr>\n",
       "      <th>12078</th>\n",
       "      <td>-3</td>\n",
       "      <td>84</td>\n",
       "      <td>1</td>\n",
       "      <td>0</td>\n",
       "      <td>0</td>\n",
       "      <td>0</td>\n",
       "      <td>0</td>\n",
       "      <td>1</td>\n",
       "      <td>0</td>\n",
       "      <td>0</td>\n",
       "      <td>0</td>\n",
       "      <td>1</td>\n",
       "      <td>0</td>\n",
       "      <td>0</td>\n",
       "      <td>0</td>\n",
       "      <td>0</td>\n",
       "      <td>1</td>\n",
       "      <td>0</td>\n",
       "      <td>0</td>\n",
       "      <td>0</td>\n",
       "    </tr>\n",
       "    <tr>\n",
       "      <th>12079</th>\n",
       "      <td>26</td>\n",
       "      <td>101</td>\n",
       "      <td>0</td>\n",
       "      <td>1</td>\n",
       "      <td>0</td>\n",
       "      <td>0</td>\n",
       "      <td>1</td>\n",
       "      <td>0</td>\n",
       "      <td>0</td>\n",
       "      <td>0</td>\n",
       "      <td>0</td>\n",
       "      <td>1</td>\n",
       "      <td>0</td>\n",
       "      <td>0</td>\n",
       "      <td>1</td>\n",
       "      <td>0</td>\n",
       "      <td>0</td>\n",
       "      <td>0</td>\n",
       "      <td>1</td>\n",
       "      <td>0</td>\n",
       "    </tr>\n",
       "    <tr>\n",
       "      <th>12080</th>\n",
       "      <td>-9</td>\n",
       "      <td>89</td>\n",
       "      <td>1</td>\n",
       "      <td>0</td>\n",
       "      <td>0</td>\n",
       "      <td>0</td>\n",
       "      <td>0</td>\n",
       "      <td>0</td>\n",
       "      <td>0</td>\n",
       "      <td>1</td>\n",
       "      <td>0</td>\n",
       "      <td>0</td>\n",
       "      <td>0</td>\n",
       "      <td>1</td>\n",
       "      <td>0</td>\n",
       "      <td>1</td>\n",
       "      <td>1</td>\n",
       "      <td>0</td>\n",
       "      <td>0</td>\n",
       "      <td>0</td>\n",
       "    </tr>\n",
       "    <tr>\n",
       "      <th>12081</th>\n",
       "      <td>13</td>\n",
       "      <td>93</td>\n",
       "      <td>0</td>\n",
       "      <td>0</td>\n",
       "      <td>1</td>\n",
       "      <td>0</td>\n",
       "      <td>0</td>\n",
       "      <td>1</td>\n",
       "      <td>1</td>\n",
       "      <td>1</td>\n",
       "      <td>0</td>\n",
       "      <td>0</td>\n",
       "      <td>1</td>\n",
       "      <td>1</td>\n",
       "      <td>0</td>\n",
       "      <td>0</td>\n",
       "      <td>1</td>\n",
       "      <td>0</td>\n",
       "      <td>0</td>\n",
       "      <td>0</td>\n",
       "    </tr>\n",
       "    <tr>\n",
       "      <th>12082</th>\n",
       "      <td>44</td>\n",
       "      <td>75</td>\n",
       "      <td>0</td>\n",
       "      <td>0</td>\n",
       "      <td>1</td>\n",
       "      <td>0</td>\n",
       "      <td>0</td>\n",
       "      <td>0</td>\n",
       "      <td>1</td>\n",
       "      <td>0</td>\n",
       "      <td>0</td>\n",
       "      <td>0</td>\n",
       "      <td>0</td>\n",
       "      <td>0</td>\n",
       "      <td>1</td>\n",
       "      <td>0</td>\n",
       "      <td>1</td>\n",
       "      <td>0</td>\n",
       "      <td>0</td>\n",
       "      <td>0</td>\n",
       "    </tr>\n",
       "  </tbody>\n",
       "</table>\n",
       "<p>11943 rows × 20 columns</p>\n",
       "</div>"
      ],
      "text/plain": [
       "       DesignDBT99  DesignDBT1  REGIONC_2  REGIONC_3  REGIONC_4  DIVISION_0  \\\n",
       "0                9          96          1          0          0           0   \n",
       "1               38          73          0          0          1           0   \n",
       "2               12          88          0          0          0           0   \n",
       "3                7          87          1          0          0           0   \n",
       "4               13          90          0          0          0           0   \n",
       "...            ...         ...        ...        ...        ...         ...   \n",
       "12078           -3          84          1          0          0           0   \n",
       "12079           26         101          0          1          0           0   \n",
       "12080           -9          89          1          0          0           0   \n",
       "12081           13          93          0          0          1           0   \n",
       "12082           44          75          0          0          1           0   \n",
       "\n",
       "       DIVISION_1  DIVISION_2  DIVISION_3  DIVISION_4  REPORTABLE_DOMAIN_0  \\\n",
       "0               0           0           0           1                    0   \n",
       "1               0           0           1           0                    0   \n",
       "2               0           0           1           1                    0   \n",
       "3               0           1           0           0                    0   \n",
       "4               0           0           1           1                    0   \n",
       "...           ...         ...         ...         ...                  ...   \n",
       "12078           0           1           0           0                    0   \n",
       "12079           1           0           0           0                    0   \n",
       "12080           0           0           0           1                    0   \n",
       "12081           0           1           1           1                    0   \n",
       "12082           0           0           1           0                    0   \n",
       "\n",
       "       REPORTABLE_DOMAIN_1  REPORTABLE_DOMAIN_2  REPORTABLE_DOMAIN_3  \\\n",
       "0                        0                    0                    0   \n",
       "1                        0                    0                    0   \n",
       "2                        0                    0                    0   \n",
       "3                        0                    0                    1   \n",
       "4                        0                    0                    0   \n",
       "...                    ...                  ...                  ...   \n",
       "12078                    1                    0                    0   \n",
       "12079                    1                    0                    0   \n",
       "12080                    0                    0                    1   \n",
       "12081                    0                    1                    1   \n",
       "12082                    0                    0                    0   \n",
       "\n",
       "       REPORTABLE_DOMAIN_4  REPORTABLE_DOMAIN_5  TYPEHUQ_2  TYPEHUQ_3  \\\n",
       "0                        0                    1          1          0   \n",
       "1                        1                    0          1          0   \n",
       "2                        1                    1          0          0   \n",
       "3                        0                    0          1          0   \n",
       "4                        1                    1          0          1   \n",
       "...                    ...                  ...        ...        ...   \n",
       "12078                    0                    0          1          0   \n",
       "12079                    1                    0          0          0   \n",
       "12080                    0                    1          1          0   \n",
       "12081                    0                    0          1          0   \n",
       "12082                    1                    0          1          0   \n",
       "\n",
       "       TYPEHUQ_4  TYPEHUQ_5  \n",
       "0              0          0  \n",
       "1              0          0  \n",
       "2              0          1  \n",
       "3              0          0  \n",
       "4              0          0  \n",
       "...          ...        ...  \n",
       "12078          0          0  \n",
       "12079          1          0  \n",
       "12080          0          0  \n",
       "12081          0          0  \n",
       "12082          0          0  \n",
       "\n",
       "[11943 rows x 20 columns]"
      ]
     },
     "execution_count": 24,
     "metadata": {},
     "output_type": "execute_result"
    }
   ],
   "source": [
    "data.iloc[:,-20:]"
   ]
  },
  {
   "cell_type": "code",
   "execution_count": 25,
   "metadata": {
    "scrolled": true
   },
   "outputs": [
    {
     "name": "stdout",
     "output_type": "stream",
     "text": [
      "            HDD65     CDD65   HDD30YR   CDD30YR\n",
      "HDD65    1.000000 -0.805770  0.990851 -0.755653\n",
      "CDD65   -0.805770  1.000000 -0.805528  0.977959\n",
      "HDD30YR  0.990851 -0.805528  1.000000 -0.768620\n",
      "CDD30YR -0.755653  0.977959 -0.768620  1.000000\n"
     ]
    }
   ],
   "source": [
    "data_x = data.loc[: ,['HDD65','CDD65','HDD30YR','CDD30YR']]\n",
    "corr = data_x.corr()\n",
    "print(corr)"
   ]
  },
  {
   "cell_type": "markdown",
   "metadata": {},
   "source": [
    "Some correlation here. Let's keep HDD65 and CDD65 since they are specific to year 2009 and drop the other two."
   ]
  },
  {
   "cell_type": "code",
   "execution_count": 26,
   "metadata": {},
   "outputs": [],
   "source": [
    "data = data.drop(['HDD30YR','CDD30YR'], axis = 1)"
   ]
  },
  {
   "cell_type": "code",
   "execution_count": 27,
   "metadata": {},
   "outputs": [
    {
     "name": "stdout",
     "output_type": "stream",
     "text": [
      "Climate_Region_Pub :{1, 2, 3, 4, 5}\n",
      "AIA_Zone :{1, 2, 3, 4, 5}\n"
     ]
    },
    {
     "data": {
      "text/plain": [
       "({'METRO', 'MICRO', 'NONE'}, {'R', 'U'})"
      ]
     },
     "execution_count": 27,
     "metadata": {},
     "output_type": "execute_result"
    }
   ],
   "source": [
    "#Climate zones\n",
    "print(\"Climate_Region_Pub :\" +str( set(raw_data[\"Climate_Region_Pub\"])))\n",
    "print(\"AIA_Zone :\" +str(set(raw_data[\"AIA_Zone\"])))\n",
    "\n",
    "#unique values METRO or MICRO homes and UR\n",
    "set (data['METROMICRO']),set(data['UR'])"
   ]
  },
  {
   "cell_type": "code",
   "execution_count": 28,
   "metadata": {},
   "outputs": [
    {
     "name": "stdout",
     "output_type": "stream",
     "text": [
      "Column_name   unique_values    frequent_element      frequency      percentage\n",
      "Climate_Region_Pub :     5    [1]    3957    33.13237879929666%\n",
      "AIA_Zone :     5    [3]    3047    25.512852717072764%\n",
      "METROMICRO :     3    ['METRO']    10191    85.33031901532279%\n",
      "UR :     2    ['U']    9584    80.2478439253119%\n"
     ]
    }
   ],
   "source": [
    "get_countofmax(data,\"Climate_Region_Pub\",  'UR')"
   ]
  },
  {
   "cell_type": "code",
   "execution_count": 29,
   "metadata": {},
   "outputs": [
    {
     "name": "stdout",
     "output_type": "stream",
     "text": [
      "One Hot Encoding column Climate_Region_Pub\n",
      "One Hot Encoding column AIA_Zone\n",
      "One Hot Encoding column METROMICRO\n",
      "Boolean labels for column UR\n"
     ]
    }
   ],
   "source": [
    "data = onehotencode_cols(data,[\"Climate_Region_Pub\", \"AIA_Zone\",'METROMICRO', 'UR'] )"
   ]
  },
  {
   "cell_type": "code",
   "execution_count": 30,
   "metadata": {},
   "outputs": [
    {
     "data": {
      "text/html": [
       "<div>\n",
       "<style scoped>\n",
       "    .dataframe tbody tr th:only-of-type {\n",
       "        vertical-align: middle;\n",
       "    }\n",
       "\n",
       "    .dataframe tbody tr th {\n",
       "        vertical-align: top;\n",
       "    }\n",
       "\n",
       "    .dataframe thead th {\n",
       "        text-align: right;\n",
       "    }\n",
       "</style>\n",
       "<table border=\"1\" class=\"dataframe\">\n",
       "  <thead>\n",
       "    <tr style=\"text-align: right;\">\n",
       "      <th></th>\n",
       "      <th>NWEIGHT</th>\n",
       "      <th>HDD65</th>\n",
       "      <th>CDD65</th>\n",
       "      <th>UR</th>\n",
       "      <th>KOWNRENT</th>\n",
       "      <th>CONDCOOP</th>\n",
       "      <th>YEARMADE</th>\n",
       "      <th>YEARMADERANGE</th>\n",
       "      <th>OCCUPYYRANGE</th>\n",
       "      <th>CONVERSION</th>\n",
       "      <th>...</th>\n",
       "      <th>Climate_Region_Pub_2</th>\n",
       "      <th>Climate_Region_Pub_3</th>\n",
       "      <th>Climate_Region_Pub_4</th>\n",
       "      <th>Climate_Region_Pub_5</th>\n",
       "      <th>AIA_Zone_2</th>\n",
       "      <th>AIA_Zone_3</th>\n",
       "      <th>AIA_Zone_4</th>\n",
       "      <th>AIA_Zone_5</th>\n",
       "      <th>METROMICRO_MICRO</th>\n",
       "      <th>METROMICRO_NONE</th>\n",
       "    </tr>\n",
       "  </thead>\n",
       "  <tbody>\n",
       "    <tr>\n",
       "      <th>0</th>\n",
       "      <td>2471.68</td>\n",
       "      <td>4742</td>\n",
       "      <td>1080</td>\n",
       "      <td>1</td>\n",
       "      <td>1</td>\n",
       "      <td>-2</td>\n",
       "      <td>2004</td>\n",
       "      <td>7</td>\n",
       "      <td>8</td>\n",
       "      <td>-2</td>\n",
       "      <td>...</td>\n",
       "      <td>0</td>\n",
       "      <td>0</td>\n",
       "      <td>1</td>\n",
       "      <td>0</td>\n",
       "      <td>0</td>\n",
       "      <td>1</td>\n",
       "      <td>0</td>\n",
       "      <td>0</td>\n",
       "      <td>0</td>\n",
       "      <td>0</td>\n",
       "    </tr>\n",
       "    <tr>\n",
       "      <th>1</th>\n",
       "      <td>8599.17</td>\n",
       "      <td>2662</td>\n",
       "      <td>199</td>\n",
       "      <td>1</td>\n",
       "      <td>2</td>\n",
       "      <td>-2</td>\n",
       "      <td>1998</td>\n",
       "      <td>6</td>\n",
       "      <td>8</td>\n",
       "      <td>-2</td>\n",
       "      <td>...</td>\n",
       "      <td>0</td>\n",
       "      <td>0</td>\n",
       "      <td>0</td>\n",
       "      <td>1</td>\n",
       "      <td>0</td>\n",
       "      <td>0</td>\n",
       "      <td>1</td>\n",
       "      <td>0</td>\n",
       "      <td>0</td>\n",
       "      <td>0</td>\n",
       "    </tr>\n",
       "    <tr>\n",
       "      <th>2</th>\n",
       "      <td>8969.92</td>\n",
       "      <td>6233</td>\n",
       "      <td>505</td>\n",
       "      <td>1</td>\n",
       "      <td>2</td>\n",
       "      <td>-2</td>\n",
       "      <td>1965</td>\n",
       "      <td>3</td>\n",
       "      <td>7</td>\n",
       "      <td>-2</td>\n",
       "      <td>...</td>\n",
       "      <td>0</td>\n",
       "      <td>0</td>\n",
       "      <td>0</td>\n",
       "      <td>0</td>\n",
       "      <td>1</td>\n",
       "      <td>0</td>\n",
       "      <td>0</td>\n",
       "      <td>0</td>\n",
       "      <td>0</td>\n",
       "      <td>0</td>\n",
       "    </tr>\n",
       "    <tr>\n",
       "      <th>3</th>\n",
       "      <td>18003.64</td>\n",
       "      <td>6034</td>\n",
       "      <td>672</td>\n",
       "      <td>1</td>\n",
       "      <td>1</td>\n",
       "      <td>-2</td>\n",
       "      <td>1985</td>\n",
       "      <td>5</td>\n",
       "      <td>5</td>\n",
       "      <td>-2</td>\n",
       "      <td>...</td>\n",
       "      <td>0</td>\n",
       "      <td>0</td>\n",
       "      <td>0</td>\n",
       "      <td>0</td>\n",
       "      <td>1</td>\n",
       "      <td>0</td>\n",
       "      <td>0</td>\n",
       "      <td>0</td>\n",
       "      <td>0</td>\n",
       "      <td>0</td>\n",
       "    </tr>\n",
       "    <tr>\n",
       "      <th>4</th>\n",
       "      <td>5999.61</td>\n",
       "      <td>5388</td>\n",
       "      <td>702</td>\n",
       "      <td>1</td>\n",
       "      <td>1</td>\n",
       "      <td>1</td>\n",
       "      <td>1983</td>\n",
       "      <td>5</td>\n",
       "      <td>5</td>\n",
       "      <td>-2</td>\n",
       "      <td>...</td>\n",
       "      <td>0</td>\n",
       "      <td>0</td>\n",
       "      <td>0</td>\n",
       "      <td>0</td>\n",
       "      <td>0</td>\n",
       "      <td>1</td>\n",
       "      <td>0</td>\n",
       "      <td>0</td>\n",
       "      <td>0</td>\n",
       "      <td>0</td>\n",
       "    </tr>\n",
       "  </tbody>\n",
       "</table>\n",
       "<p>5 rows × 958 columns</p>\n",
       "</div>"
      ],
      "text/plain": [
       "    NWEIGHT  HDD65  CDD65  UR  KOWNRENT  CONDCOOP  YEARMADE  YEARMADERANGE  \\\n",
       "0   2471.68   4742   1080   1         1        -2      2004              7   \n",
       "1   8599.17   2662    199   1         2        -2      1998              6   \n",
       "2   8969.92   6233    505   1         2        -2      1965              3   \n",
       "3  18003.64   6034    672   1         1        -2      1985              5   \n",
       "4   5999.61   5388    702   1         1         1      1983              5   \n",
       "\n",
       "   OCCUPYYRANGE  CONVERSION  ...  Climate_Region_Pub_2  Climate_Region_Pub_3  \\\n",
       "0             8          -2  ...                     0                     0   \n",
       "1             8          -2  ...                     0                     0   \n",
       "2             7          -2  ...                     0                     0   \n",
       "3             5          -2  ...                     0                     0   \n",
       "4             5          -2  ...                     0                     0   \n",
       "\n",
       "   Climate_Region_Pub_4  Climate_Region_Pub_5  AIA_Zone_2  AIA_Zone_3  \\\n",
       "0                     1                     0           0           1   \n",
       "1                     0                     1           0           0   \n",
       "2                     0                     0           1           0   \n",
       "3                     0                     0           1           0   \n",
       "4                     0                     0           0           1   \n",
       "\n",
       "   AIA_Zone_4  AIA_Zone_5  METROMICRO_MICRO  METROMICRO_NONE  \n",
       "0           0           0                 0                0  \n",
       "1           1           0                 0                0  \n",
       "2           0           0                 0                0  \n",
       "3           0           0                 0                0  \n",
       "4           0           0                 0                0  \n",
       "\n",
       "[5 rows x 958 columns]"
      ]
     },
     "execution_count": 30,
     "metadata": {},
     "output_type": "execute_result"
    }
   ],
   "source": [
    "data.head(5)"
   ]
  },
  {
   "cell_type": "markdown",
   "metadata": {},
   "source": [
    "We will sometimes create a subset of original dataframe, for example *data_x* here to do analysis on a group of variables."
   ]
  },
  {
   "cell_type": "code",
   "execution_count": 31,
   "metadata": {},
   "outputs": [
    {
     "data": {
      "text/html": [
       "<div>\n",
       "<style scoped>\n",
       "    .dataframe tbody tr th:only-of-type {\n",
       "        vertical-align: middle;\n",
       "    }\n",
       "\n",
       "    .dataframe tbody tr th {\n",
       "        vertical-align: top;\n",
       "    }\n",
       "\n",
       "    .dataframe thead th {\n",
       "        text-align: right;\n",
       "    }\n",
       "</style>\n",
       "<table border=\"1\" class=\"dataframe\">\n",
       "  <thead>\n",
       "    <tr style=\"text-align: right;\">\n",
       "      <th></th>\n",
       "      <th>AIA_Zone_5</th>\n",
       "      <th>METROMICRO_MICRO</th>\n",
       "      <th>METROMICRO_NONE</th>\n",
       "      <th>UR</th>\n",
       "    </tr>\n",
       "  </thead>\n",
       "  <tbody>\n",
       "    <tr>\n",
       "      <th>0</th>\n",
       "      <td>0</td>\n",
       "      <td>0</td>\n",
       "      <td>0</td>\n",
       "      <td>1</td>\n",
       "    </tr>\n",
       "    <tr>\n",
       "      <th>1</th>\n",
       "      <td>0</td>\n",
       "      <td>0</td>\n",
       "      <td>0</td>\n",
       "      <td>1</td>\n",
       "    </tr>\n",
       "    <tr>\n",
       "      <th>2</th>\n",
       "      <td>0</td>\n",
       "      <td>0</td>\n",
       "      <td>0</td>\n",
       "      <td>1</td>\n",
       "    </tr>\n",
       "    <tr>\n",
       "      <th>3</th>\n",
       "      <td>0</td>\n",
       "      <td>0</td>\n",
       "      <td>0</td>\n",
       "      <td>1</td>\n",
       "    </tr>\n",
       "    <tr>\n",
       "      <th>4</th>\n",
       "      <td>0</td>\n",
       "      <td>0</td>\n",
       "      <td>0</td>\n",
       "      <td>1</td>\n",
       "    </tr>\n",
       "  </tbody>\n",
       "</table>\n",
       "</div>"
      ],
      "text/plain": [
       "   AIA_Zone_5  METROMICRO_MICRO  METROMICRO_NONE  UR\n",
       "0           0                 0                0   1\n",
       "1           0                 0                0   1\n",
       "2           0                 0                0   1\n",
       "3           0                 0                0   1\n",
       "4           0                 0                0   1"
      ]
     },
     "execution_count": 31,
     "metadata": {},
     "output_type": "execute_result"
    }
   ],
   "source": [
    "data_x = pd.concat([data.iloc[:,-3:], data['UR']], axis = 1)\n",
    "data_x.head()"
   ]
  },
  {
   "cell_type": "code",
   "execution_count": 32,
   "metadata": {},
   "outputs": [
    {
     "name": "stdout",
     "output_type": "stream",
     "text": [
      "                  AIA_Zone_5  METROMICRO_MICRO  METROMICRO_NONE        UR\n",
      "AIA_Zone_5          1.000000         -0.031841        -0.022940 -0.000369\n",
      "METROMICRO_MICRO   -0.031841          1.000000        -0.076656 -0.168868\n",
      "METROMICRO_NONE    -0.022940         -0.076656         1.000000 -0.332278\n",
      "UR                 -0.000369         -0.168868        -0.332278  1.000000\n"
     ]
    }
   ],
   "source": [
    "corr = data_x.corr()\n",
    "print(corr)"
   ]
  },
  {
   "cell_type": "markdown",
   "metadata": {},
   "source": [
    "MICROMETRO and UR do not seem correlated. Let's keep encoded columns for both."
   ]
  },
  {
   "cell_type": "code",
   "execution_count": 33,
   "metadata": {},
   "outputs": [],
   "source": [
    "data = data.drop(['NWEIGHT','KOWNRENT','CONDCOOP','YEARMADE'], axis = 1)"
   ]
  },
  {
   "cell_type": "code",
   "execution_count": 34,
   "metadata": {},
   "outputs": [
    {
     "data": {
      "image/png": "[encoded data removed]",
      "text/plain": [
       "<Figure size 432x288 with 1 Axes>"
      ]
     },
     "metadata": {
      "needs_background": "light"
     },
     "output_type": "display_data"
    }
   ],
   "source": [
    "#Does house age affect electricity consumption?\n",
    "plt.scatter(data['YEARMADERANGE'], data['KWH'])\n",
    "plt.xlabel('year')\n",
    "plt.ylabel('Consumption in kwh')\n",
    "plt.show()"
   ]
  },
  {
   "cell_type": "code",
   "execution_count": 35,
   "metadata": {},
   "outputs": [
    {
     "name": "stdout",
     "output_type": "stream",
     "text": [
      "One Hot Encoding column YEARMADERANGE\n"
     ]
    }
   ],
   "source": [
    "#Let's keep it for now\n",
    "data = onehotencode_cols(data,['YEARMADERANGE'] )"
   ]
  },
  {
   "cell_type": "code",
   "execution_count": 36,
   "metadata": {},
   "outputs": [],
   "source": [
    "data = data.drop(['OCCUPYYRANGE'], axis = 1) #seems irrelevant"
   ]
  },
  {
   "cell_type": "markdown",
   "metadata": {},
   "source": [
    "From now on, many columns with -2 or 0.  Let's check few columns here."
   ]
  },
  {
   "cell_type": "code",
   "execution_count": 37,
   "metadata": {},
   "outputs": [
    {
     "name": "stdout",
     "output_type": "stream",
     "text": [
      "CONVERSION {1, 2, -2}\n",
      "ORIG1FAM {0, 1, -2}\n",
      "LOOKLIKE {1, 2, -2}\n",
      "NUMFLRS {1, 2, 3, 4, 5, 6, 7, 8, 9, 10, 11, 12, 13, 14, 15, 20, 21, 35, -2}\n",
      "NUMAPTS {5, 6, 7, 8, 9, 10, 11, 12, 13, 14, 15, 16, 17, 18, 19, 20, 21, 22, 23, 24, 25, 26, 27, 28, 30, 31, 32, 33, 34, 35, 36, 37, 39, 40, 41, 42, 43, 44, 45, 46, 47, 48, 49, 50, 51, 52, 53, 54, 55, 56, 57, 58, 59, 60, 63, 64, 65, 66, 68, 70, 72, 75, 76, 80, 81, 84, 86, 88, 90, 95, 96, 99, 100, 102, 105, 108, 110, 112, 115, 116, 118, 120, 123, 125, 126, 130, 133, 135, 140, 141, 145, 150, 155, 160, 168, 170, 175, 178, 180, 187, 192, 199, 200, 313, 316, 322, 365, -2}\n"
     ]
    }
   ],
   "source": [
    "print( 'CONVERSION ' + str(set(raw_data['CONVERSION']))),  \n",
    "print( 'ORIG1FAM ' +str(set(raw_data['ORIG1FAM']))), \n",
    "print( 'LOOKLIKE ' + str(set(raw_data['LOOKLIKE']))), \n",
    "print( 'NUMFLRS ' + str(set(raw_data['NUMFLRS'])))\n",
    "print( 'NUMAPTS ' + str(set(raw_data['NUMAPTS'])))"
   ]
  },
  {
   "cell_type": "code",
   "execution_count": 38,
   "metadata": {},
   "outputs": [
    {
     "name": "stdout",
     "output_type": "stream",
     "text": [
      "Column_name   unique_values    frequent_element      frequency      percentage\n",
      "CONVERSION :     3    [-2]    11018    92.25487733400318%\n",
      "ORIG1FAM :     3    [-2]    11734    98.25002093276396%\n",
      "LOOKLIKE :     3    [-2]    11783    98.66030310642218%\n",
      "NUMFLRS :     19    [-2]    10020    83.89851796031148%\n",
      "NUMAPTS :     108    [-2]    10020    83.89851796031148%\n",
      "WALLTYPE :     9    [3]    4069    34.07016662480114%\n",
      "ROOFTYPE :     9    [5]    5743    48.086745373859166%\n",
      "STUDIO :     3    [-2]    9095    76.15339529431466%\n",
      "NAPTFLRS :     4    [-2]    9095    76.15339529431466%\n",
      "STORIES :     6    [10]    5605    46.93125680314829%\n",
      "TYPEHUQ4 :     3    [-2]    11405    95.49526919534456%\n",
      "BEDROOMS :     12    [3]    4816    40.324876496692625%\n",
      "NCOMBATH :     8    [1]    5516    46.18605040609562%\n",
      "NHAFBATH :     5    [0]    8524    71.37235200535879%\n",
      "OTHROOMS :     13    [2]    3616    30.277149794858914%\n",
      "TOTROOMS :     19    [6]    2353    19.701917441178935%\n",
      "CELLAR :     3    [0]    5597    46.864271958469395%\n",
      "CRAWL :     3    [0]    6872    57.53998157916771%\n",
      "CONCRETE :     3    [0]    4980    41.6980658126099%\n",
      "BASEFIN :     3    [-2]    8058    67.47048480281337%\n",
      "FINBASERMS :     6    [-2]    9999    83.72268274302938%\n",
      "BASEHEAT :     3    [-2]    8058    67.47048480281337%\n",
      "BASEHT2 :     3    [-2]    9855    82.51695553880934%\n",
      "PCTBSTHT :     6    [-2]    11316    94.75006279829189%\n",
      "BASECOOL :     3    [-2]    8058    67.47048480281337%\n",
      "BASECL2 :     3    [-2]    10855    90.89006112367078%\n",
      "PCTBSTCL :     6    [-2]    11665    97.67227664740852%\n",
      "BASEUSE :     4    [-2]    8058    67.47048480281337%\n",
      "ATTIC :     3    [0]    6484    54.29121661224148%\n",
      "ATTICFIN :     3    [-2]    8945    74.89742945658546%\n",
      "FINATTRMS :     5    [-2]    11687    97.85648497027547%\n",
      "ATTCHEAT :     3    [-2]    8945    74.89742945658546%\n",
      "ATTCHT2 :     3    [-2]    11831    99.06221217449553%\n",
      "PCTATTHT :     5    [-2]    11913    99.74880683245416%\n",
      "ATTCCOOL :     3    [-2]    8945    74.89742945658546%\n",
      "ATTCCL2 :     3    [-2]    11856    99.27153981411706%\n",
      "PCTATTCL :     6    [-2]    11917    99.7822992547936%\n",
      "ATTICUSE :     4    [-2]    8945    74.89742945658546%\n",
      "PRKGPLC1 :     3    [1]    4843    40.550950347483884%\n",
      "SIZEOFGARAGE :     4    [-2]    7100    59.449049652516116%\n",
      "GARGLOC :     4    [-2]    7100    59.449049652516116%\n",
      "GARGHEAT :     3    [-2]    7100    59.449049652516116%\n",
      "GARGCOOL :     3    [-2]    7100    59.449049652516116%\n",
      "PRKGPLC2 :     3    [-2]    7691    64.39755505316921%\n",
      "SIZEOFDETACH :     5    [-2]    9892    82.82676044544922%\n",
      "OUTLET :     5    [0]    5476    45.851126182701165%\n"
     ]
    }
   ],
   "source": [
    "get_countofmax(data, \"CONVERSION\", \"OUTLET\")"
   ]
  },
  {
   "cell_type": "markdown",
   "metadata": {},
   "source": [
    "Looking at above result, most of columns contain a lot of '-2'. There isn't much information which is gained by knowing what value such columns contain. We discard all the columns which contain more than 50% values filled with -2.\n",
    "The columns which seem to have some meaningful values are: WALLTYPE, ROOFTYPE, STORIES, BEDROOMS, NCOMBATH, OTHROOMS,TOTROOMS , CELLAR, CRAWL, CONCRETE, ATTIC , PRKGPLC1."
   ]
  },
  {
   "cell_type": "code",
   "execution_count": 39,
   "metadata": {},
   "outputs": [
    {
     "name": "stdout",
     "output_type": "stream",
     "text": [
      "Dropped columns:\n",
      "CONVERSION\n",
      "ORIG1FAM\n",
      "LOOKLIKE\n",
      "NUMFLRS\n",
      "NUMAPTS\n",
      "STUDIO\n",
      "NAPTFLRS\n",
      "STORIES\n",
      "TYPEHUQ4\n",
      "BEDROOMS\n",
      "NCOMBATH\n",
      "NHAFBATH\n",
      "OTHROOMS\n",
      "BASEFIN\n",
      "FINBASERMS\n",
      "BASEHEAT\n",
      "BASEHT2\n",
      "PCTBSTHT\n",
      "BASECOOL\n",
      "BASECL2\n",
      "PCTBSTCL\n",
      "ATTICFIN\n",
      "FINATTRMS\n",
      "ATTCHEAT\n",
      "ATTCHT2\n",
      "PCTATTHT\n",
      "ATTCCOOL\n",
      "ATTCCL2\n",
      "PCTATTCL\n",
      "ATTICUSE\n",
      "GARGLOC\n",
      "GARGHEAT\n",
      "GARGCOOL\n",
      "PRKGPLC2\n",
      "SIZEOFDETACH\n",
      "OUTLET\n"
     ]
    }
   ],
   "source": [
    "colstokeep = ['WALLTYPE', 'ROOFTYPE', 'CELLAR', 'CRAWL','BASEUSE', 'CONCRETE', 'ATTIC','SIZEOFGARAGE', 'PRKGPLC1', 'TOTROOMS']\n",
    "data = dropcolsinrange(data, \"CONVERSION\", \"OUTLET\", colstokeep)"
   ]
  },
  {
   "cell_type": "code",
   "execution_count": 40,
   "metadata": {},
   "outputs": [
    {
     "data": {
      "text/plain": [
       "3    4069\n",
       "1    2930\n",
       "2    2255\n",
       "4    1798\n",
       "7     543\n",
       "5     189\n",
       "6     105\n",
       "9      47\n",
       "8       7\n",
       "Name: WALLTYPE, dtype: int64"
      ]
     },
     "execution_count": 40,
     "metadata": {},
     "output_type": "execute_result"
    }
   ],
   "source": [
    "data['WALLTYPE'].value_counts()"
   ]
  },
  {
   "cell_type": "code",
   "execution_count": 41,
   "metadata": {},
   "outputs": [
    {
     "name": "stdout",
     "output_type": "stream",
     "text": [
      "Binary Encoding column WALLTYPE\n"
     ]
    },
    {
     "name": "stderr",
     "output_type": "stream",
     "text": [
      "C:\\Users\\Manish\\Miniconda3\\lib\\site-packages\\category_encoders\\utils.py:21: FutureWarning: is_categorical is deprecated and will be removed in a future version.  Use is_categorical_dtype instead\n",
      "  elif pd.api.types.is_categorical(cols):\n"
     ]
    },
    {
     "name": "stdout",
     "output_type": "stream",
     "text": [
      "Binary Encoding column ROOFTYPE\n",
      "One Hot Encoding column CELLAR\n"
     ]
    },
    {
     "name": "stderr",
     "output_type": "stream",
     "text": [
      "C:\\Users\\Manish\\Miniconda3\\lib\\site-packages\\category_encoders\\utils.py:21: FutureWarning: is_categorical is deprecated and will be removed in a future version.  Use is_categorical_dtype instead\n",
      "  elif pd.api.types.is_categorical(cols):\n"
     ]
    },
    {
     "name": "stdout",
     "output_type": "stream",
     "text": [
      "One Hot Encoding column CRAWL\n",
      "One Hot Encoding column BASEUSE\n",
      "One Hot Encoding column CONCRETE\n",
      "One Hot Encoding column ATTIC\n",
      "One Hot Encoding column SIZEOFGARAGE\n",
      "One Hot Encoding column PRKGPLC1\n"
     ]
    }
   ],
   "source": [
    "#Binary encoding for walltype and rooftype\n",
    "data = onehotencode_cols(data, ['WALLTYPE', 'ROOFTYPE', 'CELLAR', 'CRAWL','BASEUSE', 'CONCRETE', 'ATTIC','SIZEOFGARAGE', 'PRKGPLC1'])"
   ]
  },
  {
   "cell_type": "code",
   "execution_count": 42,
   "metadata": {},
   "outputs": [
    {
     "data": {
      "text/html": [
       "<div>\n",
       "<style scoped>\n",
       "    .dataframe tbody tr th:only-of-type {\n",
       "        vertical-align: middle;\n",
       "    }\n",
       "\n",
       "    .dataframe tbody tr th {\n",
       "        vertical-align: top;\n",
       "    }\n",
       "\n",
       "    .dataframe thead th {\n",
       "        text-align: right;\n",
       "    }\n",
       "</style>\n",
       "<table border=\"1\" class=\"dataframe\">\n",
       "  <thead>\n",
       "    <tr style=\"text-align: right;\">\n",
       "      <th></th>\n",
       "      <th>HDD65</th>\n",
       "      <th>CDD65</th>\n",
       "      <th>UR</th>\n",
       "      <th>TOTROOMS</th>\n",
       "      <th>ZKOWNRENT</th>\n",
       "      <th>ZCONDCOOP</th>\n",
       "      <th>ZYEARMADE</th>\n",
       "      <th>ZYEARMADERANGE</th>\n",
       "      <th>ZOCCUPYYRANGE</th>\n",
       "      <th>ZCONVERSION</th>\n",
       "      <th>...</th>\n",
       "      <th>BASEUSE_2</th>\n",
       "      <th>CONCRETE_0</th>\n",
       "      <th>CONCRETE_1</th>\n",
       "      <th>ATTIC_0</th>\n",
       "      <th>ATTIC_1</th>\n",
       "      <th>SIZEOFGARAGE_1</th>\n",
       "      <th>SIZEOFGARAGE_2</th>\n",
       "      <th>SIZEOFGARAGE_3</th>\n",
       "      <th>PRKGPLC1_0</th>\n",
       "      <th>PRKGPLC1_1</th>\n",
       "    </tr>\n",
       "  </thead>\n",
       "  <tbody>\n",
       "    <tr>\n",
       "      <th>0</th>\n",
       "      <td>4742</td>\n",
       "      <td>1080</td>\n",
       "      <td>1</td>\n",
       "      <td>9</td>\n",
       "      <td>0</td>\n",
       "      <td>0</td>\n",
       "      <td>0</td>\n",
       "      <td>0</td>\n",
       "      <td>0</td>\n",
       "      <td>0</td>\n",
       "      <td>...</td>\n",
       "      <td>0</td>\n",
       "      <td>1</td>\n",
       "      <td>0</td>\n",
       "      <td>1</td>\n",
       "      <td>0</td>\n",
       "      <td>0</td>\n",
       "      <td>1</td>\n",
       "      <td>0</td>\n",
       "      <td>0</td>\n",
       "      <td>1</td>\n",
       "    </tr>\n",
       "    <tr>\n",
       "      <th>1</th>\n",
       "      <td>2662</td>\n",
       "      <td>199</td>\n",
       "      <td>1</td>\n",
       "      <td>4</td>\n",
       "      <td>0</td>\n",
       "      <td>0</td>\n",
       "      <td>0</td>\n",
       "      <td>0</td>\n",
       "      <td>0</td>\n",
       "      <td>0</td>\n",
       "      <td>...</td>\n",
       "      <td>0</td>\n",
       "      <td>1</td>\n",
       "      <td>0</td>\n",
       "      <td>1</td>\n",
       "      <td>0</td>\n",
       "      <td>0</td>\n",
       "      <td>1</td>\n",
       "      <td>0</td>\n",
       "      <td>0</td>\n",
       "      <td>1</td>\n",
       "    </tr>\n",
       "    <tr>\n",
       "      <th>2</th>\n",
       "      <td>6233</td>\n",
       "      <td>505</td>\n",
       "      <td>1</td>\n",
       "      <td>2</td>\n",
       "      <td>0</td>\n",
       "      <td>0</td>\n",
       "      <td>0</td>\n",
       "      <td>0</td>\n",
       "      <td>0</td>\n",
       "      <td>0</td>\n",
       "      <td>...</td>\n",
       "      <td>0</td>\n",
       "      <td>0</td>\n",
       "      <td>0</td>\n",
       "      <td>0</td>\n",
       "      <td>0</td>\n",
       "      <td>0</td>\n",
       "      <td>0</td>\n",
       "      <td>0</td>\n",
       "      <td>0</td>\n",
       "      <td>0</td>\n",
       "    </tr>\n",
       "    <tr>\n",
       "      <th>3</th>\n",
       "      <td>6034</td>\n",
       "      <td>672</td>\n",
       "      <td>1</td>\n",
       "      <td>7</td>\n",
       "      <td>0</td>\n",
       "      <td>0</td>\n",
       "      <td>0</td>\n",
       "      <td>0</td>\n",
       "      <td>0</td>\n",
       "      <td>0</td>\n",
       "      <td>...</td>\n",
       "      <td>0</td>\n",
       "      <td>1</td>\n",
       "      <td>0</td>\n",
       "      <td>1</td>\n",
       "      <td>0</td>\n",
       "      <td>0</td>\n",
       "      <td>1</td>\n",
       "      <td>0</td>\n",
       "      <td>0</td>\n",
       "      <td>1</td>\n",
       "    </tr>\n",
       "    <tr>\n",
       "      <th>4</th>\n",
       "      <td>5388</td>\n",
       "      <td>702</td>\n",
       "      <td>1</td>\n",
       "      <td>5</td>\n",
       "      <td>0</td>\n",
       "      <td>0</td>\n",
       "      <td>0</td>\n",
       "      <td>0</td>\n",
       "      <td>0</td>\n",
       "      <td>0</td>\n",
       "      <td>...</td>\n",
       "      <td>0</td>\n",
       "      <td>1</td>\n",
       "      <td>0</td>\n",
       "      <td>1</td>\n",
       "      <td>0</td>\n",
       "      <td>0</td>\n",
       "      <td>0</td>\n",
       "      <td>0</td>\n",
       "      <td>1</td>\n",
       "      <td>0</td>\n",
       "    </tr>\n",
       "  </tbody>\n",
       "</table>\n",
       "<p>5 rows × 940 columns</p>\n",
       "</div>"
      ],
      "text/plain": [
       "   HDD65  CDD65  UR  TOTROOMS  ZKOWNRENT  ZCONDCOOP  ZYEARMADE  \\\n",
       "0   4742   1080   1         9          0          0          0   \n",
       "1   2662    199   1         4          0          0          0   \n",
       "2   6233    505   1         2          0          0          0   \n",
       "3   6034    672   1         7          0          0          0   \n",
       "4   5388    702   1         5          0          0          0   \n",
       "\n",
       "   ZYEARMADERANGE  ZOCCUPYYRANGE  ZCONVERSION  ...  BASEUSE_2  CONCRETE_0  \\\n",
       "0               0              0            0  ...          0           1   \n",
       "1               0              0            0  ...          0           1   \n",
       "2               0              0            0  ...          0           0   \n",
       "3               0              0            0  ...          0           1   \n",
       "4               0              0            0  ...          0           1   \n",
       "\n",
       "   CONCRETE_1  ATTIC_0  ATTIC_1  SIZEOFGARAGE_1  SIZEOFGARAGE_2  \\\n",
       "0           0        1        0               0               1   \n",
       "1           0        1        0               0               1   \n",
       "2           0        0        0               0               0   \n",
       "3           0        1        0               0               1   \n",
       "4           0        1        0               0               0   \n",
       "\n",
       "   SIZEOFGARAGE_3  PRKGPLC1_0  PRKGPLC1_1  \n",
       "0               0           0           1  \n",
       "1               0           0           1  \n",
       "2               0           0           0  \n",
       "3               0           0           1  \n",
       "4               0           1           0  \n",
       "\n",
       "[5 rows x 940 columns]"
      ]
     },
     "execution_count": 42,
     "metadata": {},
     "output_type": "execute_result"
    }
   ],
   "source": [
    "data.head()"
   ]
  },
  {
   "cell_type": "code",
   "execution_count": 43,
   "metadata": {},
   "outputs": [
    {
     "name": "stdout",
     "output_type": "stream",
     "text": [
      "Dropped columns:\n",
      "ZKOWNRENT\n",
      "ZCONDCOOP\n",
      "ZYEARMADE\n",
      "ZYEARMADERANGE\n",
      "ZOCCUPYYRANGE\n",
      "ZCONVERSION\n",
      "ZORIG1FAM\n",
      "ZLOOKLIKE\n",
      "ZNUMFLRS\n",
      "ZNUMAPTS\n",
      "ZWALLTYPE\n",
      "ZROOFTYPE\n",
      "ZSTUDIO\n",
      "ZNAPTFLRS\n",
      "ZSTORIES\n",
      "ZTYPEHUQ4\n",
      "ZBEDROOMS\n",
      "ZNCOMBATH\n",
      "ZNHAFBATH\n",
      "ZOTHROOMS\n",
      "ZCELLAR\n",
      "ZCRAWL\n",
      "ZCONCRETE\n",
      "ZBASEFIN\n",
      "ZFINBASERMS\n",
      "ZBASEHEAT\n",
      "ZBASEHT2\n",
      "ZPCTBSTHT\n",
      "ZBASECOOL\n",
      "ZBASECL2\n",
      "ZPCTBSTCL\n",
      "ZBASEUSE\n",
      "ZATTIC\n",
      "ZATTICFIN\n",
      "ZFINATTRMS\n",
      "ZATTCHEAT\n",
      "ZATTCHT2\n",
      "ZPCTATTHT\n",
      "ZATTCCOOL\n",
      "ZPCTATTCL\n",
      "ZATTCCL2\n",
      "ZATTICUSE\n",
      "ZPRKGPLC1\n",
      "ZSIZEOFGARAGE\n",
      "ZGARGLOC\n",
      "ZGARGHEAT\n",
      "ZGARGCOOL\n",
      "ZPRKGPLC2\n",
      "ZSIZEOFDETACH\n"
     ]
    },
    {
     "data": {
      "text/html": [
       "<div>\n",
       "<style scoped>\n",
       "    .dataframe tbody tr th:only-of-type {\n",
       "        vertical-align: middle;\n",
       "    }\n",
       "\n",
       "    .dataframe tbody tr th {\n",
       "        vertical-align: top;\n",
       "    }\n",
       "\n",
       "    .dataframe thead th {\n",
       "        text-align: right;\n",
       "    }\n",
       "</style>\n",
       "<table border=\"1\" class=\"dataframe\">\n",
       "  <thead>\n",
       "    <tr style=\"text-align: right;\">\n",
       "      <th></th>\n",
       "      <th>HDD65</th>\n",
       "      <th>CDD65</th>\n",
       "      <th>UR</th>\n",
       "      <th>TOTROOMS</th>\n",
       "      <th>STOVEN</th>\n",
       "      <th>STOVENFUEL</th>\n",
       "      <th>STOVE</th>\n",
       "      <th>STOVEFUEL</th>\n",
       "      <th>OVEN</th>\n",
       "      <th>OVENFUEL</th>\n",
       "      <th>...</th>\n",
       "      <th>BASEUSE_2</th>\n",
       "      <th>CONCRETE_0</th>\n",
       "      <th>CONCRETE_1</th>\n",
       "      <th>ATTIC_0</th>\n",
       "      <th>ATTIC_1</th>\n",
       "      <th>SIZEOFGARAGE_1</th>\n",
       "      <th>SIZEOFGARAGE_2</th>\n",
       "      <th>SIZEOFGARAGE_3</th>\n",
       "      <th>PRKGPLC1_0</th>\n",
       "      <th>PRKGPLC1_1</th>\n",
       "    </tr>\n",
       "  </thead>\n",
       "  <tbody>\n",
       "    <tr>\n",
       "      <th>0</th>\n",
       "      <td>4742</td>\n",
       "      <td>1080</td>\n",
       "      <td>1</td>\n",
       "      <td>9</td>\n",
       "      <td>1</td>\n",
       "      <td>5</td>\n",
       "      <td>0</td>\n",
       "      <td>-2</td>\n",
       "      <td>0</td>\n",
       "      <td>-2</td>\n",
       "      <td>...</td>\n",
       "      <td>0</td>\n",
       "      <td>1</td>\n",
       "      <td>0</td>\n",
       "      <td>1</td>\n",
       "      <td>0</td>\n",
       "      <td>0</td>\n",
       "      <td>1</td>\n",
       "      <td>0</td>\n",
       "      <td>0</td>\n",
       "      <td>1</td>\n",
       "    </tr>\n",
       "    <tr>\n",
       "      <th>1</th>\n",
       "      <td>2662</td>\n",
       "      <td>199</td>\n",
       "      <td>1</td>\n",
       "      <td>4</td>\n",
       "      <td>1</td>\n",
       "      <td>1</td>\n",
       "      <td>0</td>\n",
       "      <td>-2</td>\n",
       "      <td>0</td>\n",
       "      <td>-2</td>\n",
       "      <td>...</td>\n",
       "      <td>0</td>\n",
       "      <td>1</td>\n",
       "      <td>0</td>\n",
       "      <td>1</td>\n",
       "      <td>0</td>\n",
       "      <td>0</td>\n",
       "      <td>1</td>\n",
       "      <td>0</td>\n",
       "      <td>0</td>\n",
       "      <td>1</td>\n",
       "    </tr>\n",
       "    <tr>\n",
       "      <th>2</th>\n",
       "      <td>6233</td>\n",
       "      <td>505</td>\n",
       "      <td>1</td>\n",
       "      <td>2</td>\n",
       "      <td>1</td>\n",
       "      <td>1</td>\n",
       "      <td>0</td>\n",
       "      <td>-2</td>\n",
       "      <td>0</td>\n",
       "      <td>-2</td>\n",
       "      <td>...</td>\n",
       "      <td>0</td>\n",
       "      <td>0</td>\n",
       "      <td>0</td>\n",
       "      <td>0</td>\n",
       "      <td>0</td>\n",
       "      <td>0</td>\n",
       "      <td>0</td>\n",
       "      <td>0</td>\n",
       "      <td>0</td>\n",
       "      <td>0</td>\n",
       "    </tr>\n",
       "    <tr>\n",
       "      <th>3</th>\n",
       "      <td>6034</td>\n",
       "      <td>672</td>\n",
       "      <td>1</td>\n",
       "      <td>7</td>\n",
       "      <td>0</td>\n",
       "      <td>-2</td>\n",
       "      <td>1</td>\n",
       "      <td>5</td>\n",
       "      <td>1</td>\n",
       "      <td>5</td>\n",
       "      <td>...</td>\n",
       "      <td>0</td>\n",
       "      <td>1</td>\n",
       "      <td>0</td>\n",
       "      <td>1</td>\n",
       "      <td>0</td>\n",
       "      <td>0</td>\n",
       "      <td>1</td>\n",
       "      <td>0</td>\n",
       "      <td>0</td>\n",
       "      <td>1</td>\n",
       "    </tr>\n",
       "    <tr>\n",
       "      <th>4</th>\n",
       "      <td>5388</td>\n",
       "      <td>702</td>\n",
       "      <td>1</td>\n",
       "      <td>5</td>\n",
       "      <td>1</td>\n",
       "      <td>5</td>\n",
       "      <td>0</td>\n",
       "      <td>-2</td>\n",
       "      <td>0</td>\n",
       "      <td>-2</td>\n",
       "      <td>...</td>\n",
       "      <td>0</td>\n",
       "      <td>1</td>\n",
       "      <td>0</td>\n",
       "      <td>1</td>\n",
       "      <td>0</td>\n",
       "      <td>0</td>\n",
       "      <td>0</td>\n",
       "      <td>0</td>\n",
       "      <td>1</td>\n",
       "      <td>0</td>\n",
       "    </tr>\n",
       "  </tbody>\n",
       "</table>\n",
       "<p>5 rows × 891 columns</p>\n",
       "</div>"
      ],
      "text/plain": [
       "   HDD65  CDD65  UR  TOTROOMS  STOVEN  STOVENFUEL  STOVE  STOVEFUEL  OVEN  \\\n",
       "0   4742   1080   1         9       1           5      0         -2     0   \n",
       "1   2662    199   1         4       1           1      0         -2     0   \n",
       "2   6233    505   1         2       1           1      0         -2     0   \n",
       "3   6034    672   1         7       0          -2      1          5     1   \n",
       "4   5388    702   1         5       1           5      0         -2     0   \n",
       "\n",
       "   OVENFUEL  ...  BASEUSE_2  CONCRETE_0  CONCRETE_1  ATTIC_0  ATTIC_1  \\\n",
       "0        -2  ...          0           1           0        1        0   \n",
       "1        -2  ...          0           1           0        1        0   \n",
       "2        -2  ...          0           0           0        0        0   \n",
       "3         5  ...          0           1           0        1        0   \n",
       "4        -2  ...          0           1           0        1        0   \n",
       "\n",
       "   SIZEOFGARAGE_1  SIZEOFGARAGE_2  SIZEOFGARAGE_3  PRKGPLC1_0  PRKGPLC1_1  \n",
       "0               0               1               0           0           1  \n",
       "1               0               1               0           0           1  \n",
       "2               0               0               0           0           0  \n",
       "3               0               1               0           0           1  \n",
       "4               0               0               0           1           0  \n",
       "\n",
       "[5 rows x 891 columns]"
      ]
     },
     "execution_count": 43,
     "metadata": {},
     "output_type": "execute_result"
    }
   ],
   "source": [
    "#Drop columns from ZKOWNRENT to ZSIZEOFDETACH\n",
    "data = dropcolsinrange(data, \"ZKOWNRENT\",\"ZSIZEOFDETACH\")\n",
    "data.head()"
   ]
  },
  {
   "cell_type": "code",
   "execution_count": 44,
   "metadata": {},
   "outputs": [
    {
     "name": "stdout",
     "output_type": "stream",
     "text": [
      "Column_name   unique_values    frequent_element      frequency      percentage\n",
      "STOVEN :     4    [1]    10588    88.65444193251277%\n",
      "STOVENFUEL :     5    [5]    6570    55.011303692539556%\n",
      "STOVE :     3    [0]    10520    88.08507075274218%\n",
      "STOVEFUEL :     4    [-2]    10520    88.08507075274218%\n",
      "OVEN :     4    [0]    10493    87.85899690195093%\n",
      "OVENFUEL :     4    [-2]    10493    87.85899690195093%\n",
      "OVENUSE :     8    [4]    4196    35.13355103407854%\n",
      "OVENCLN :     3    [1]    7464    62.49686008540568%\n",
      "TYPECLN :     3    [2]    6746    56.48497027547518%\n",
      "MICRO :     2    [1]    11476    96.08975969186972%\n",
      "AMTMICRO :     5    [3]    4142    34.681403332496025%\n",
      "DEFROST :     3    [0]    6445    53.964665494431884%\n",
      "OUTGRILL :     2    [1]    7256    60.7552541237545%\n",
      "OUTGRILLFUEL :     4    [-2]    4687    39.2447458762455%\n",
      "TOPGRILL :     2    [0]    11785    98.6770493175919%\n",
      "STGRILA :     5    [-2]    11785    98.6770493175919%\n",
      "TOASTER :     2    [0]    7521    62.97412710374278%\n",
      "NUMMEAL :     7    [3]    4405    36.88353010131458%\n",
      "FUELFOOD :     5    [5]    7235    60.57941890647241%\n",
      "COFFEE :     2    [1]    7558    63.28393201038265%\n",
      "NUMFRIG :     7    [1]    9110    76.27899187808758%\n",
      "TYPERFR1 :     8    [22]    5850    48.98266767143934%\n",
      "SIZRFRI1 :     6    [3]    5395    45.17290463032739%\n",
      "REFRIGT1 :     4    [2]    11062    92.62329397973708%\n",
      "ICE :     3    [0]    7837    65.62002846855898%\n",
      "AGERFRI1 :     7    [3]    4154    34.78188059951436%\n",
      "ESFRIG :     5    [1]    4580    38.348823578665325%\n",
      "REPLCFRI :     4    [-2]    8094    67.77191660386838%\n",
      "HELPFRI :     9    [-2]    8913    74.62949007786989%\n",
      "HELPFRIY :     9    [-2]    11592    97.06103993971365%\n",
      "TYPERFR2 :     8    [-2]    9129    76.43808088419995%\n",
      "SIZRFRI2 :     6    [-2]    9129    76.43808088419995%\n",
      "REFRIGT2 :     4    [-2]    9129    76.43808088419995%\n",
      "MONRFRI2 :     14    [-2]    9129    76.43808088419995%\n",
      "AGERFRI2 :     7    [-2]    9129    76.43808088419995%\n",
      "ESFRIG2 :     4    [-2]    10517    88.0599514359876%\n",
      "TYPERFR3 :     8    [-2]    11694    97.91509670936951%\n",
      "SIZRFRI3 :     6    [-2]    11694    97.91509670936951%\n",
      "REFRIGT3 :     4    [-2]    11694    97.91509670936951%\n",
      "MONRFRI3 :     13    [-2]    11694    97.91509670936951%\n",
      "AGERFRI3 :     7    [-2]    11694    97.91509670936951%\n",
      "ESFRIG3 :     4    [-2]    11791    98.72728795110106%\n",
      "SEPFREEZ :     2    [0]    8446    70.7192497697396%\n",
      "NUMFREEZ :     4    [-2]    8446    70.7192497697396%\n",
      "UPRTFRZR :     3    [-2]    8446    70.7192497697396%\n",
      "SIZFREEZ :     5    [-2]    8446    70.7192497697396%\n",
      "FREEZER :     3    [-2]    8446    70.7192497697396%\n",
      "AGEFRZR :     7    [-2]    8446    70.7192497697396%\n",
      "REPLCFRZ :     4    [-2]    11110    93.02520304781044%\n",
      "HELPFRZ :     6    [-2]    11265    94.32303441346396%\n",
      "HELPFRZY :     7    [-2]    11908    99.70694130452985%\n",
      "UPRTFRZR2 :     3    [-2]    11685    97.83973875910576%\n",
      "SIZFREEZ2 :     5    [-2]    11685    97.83973875910576%\n",
      "FREEZER2 :     3    [-2]    11685    97.83973875910576%\n",
      "AGEFRZR2 :     7    [-2]    11685    97.83973875910576%\n",
      "DISHWASH :     2    [1]    7260    60.78874654609394%\n",
      "DWASHUSE :     6    [-2]    4683    39.21125345390605%\n",
      "AGEDW :     7    [-2]    4683    39.21125345390605%\n",
      "ESDISHW :     5    [-2]    6719    56.25889642468391%\n",
      "REPLCDW :     4    [-2]    9510    79.62823411203215%\n",
      "HELPDW :     8    [-2]    10076    84.36741187306373%\n",
      "HELPDWY :     9    [-2]    11736    98.26676714393369%\n"
     ]
    }
   ],
   "source": [
    "get_countofmax(data, \"STOVEN\", \"HELPDWY\")"
   ]
  },
  {
   "cell_type": "markdown",
   "metadata": {},
   "source": [
    "#### Selecting columns in which -2 is not the most frequently occuring value, and ignoring the obvious collinear columns."
   ]
  },
  {
   "cell_type": "code",
   "execution_count": 45,
   "metadata": {},
   "outputs": [],
   "source": [
    "colstokeep = ['STOVENFUEL','OVENUSE','AMTMICRO','OUTGRILLFUEL',\n",
    "              'TOASTER','NUMMEAL','FUELFOOD','COFFEE','NUMFRIG','SIZRFRI1', 'DWASHUSE']"
   ]
  },
  {
   "cell_type": "code",
   "execution_count": 46,
   "metadata": {},
   "outputs": [
    {
     "name": "stdout",
     "output_type": "stream",
     "text": [
      "Dropped columns:\n",
      "STOVEN\n",
      "STOVE\n",
      "STOVEFUEL\n",
      "OVEN\n",
      "OVENFUEL\n",
      "OVENCLN\n",
      "TYPECLN\n",
      "MICRO\n",
      "DEFROST\n",
      "OUTGRILL\n",
      "TOPGRILL\n",
      "STGRILA\n",
      "TYPERFR1\n",
      "REFRIGT1\n",
      "ICE\n",
      "AGERFRI1\n",
      "ESFRIG\n",
      "REPLCFRI\n",
      "HELPFRI\n",
      "HELPFRIY\n",
      "TYPERFR2\n",
      "SIZRFRI2\n",
      "REFRIGT2\n",
      "MONRFRI2\n",
      "AGERFRI2\n",
      "ESFRIG2\n",
      "TYPERFR3\n",
      "SIZRFRI3\n",
      "REFRIGT3\n",
      "MONRFRI3\n",
      "AGERFRI3\n",
      "ESFRIG3\n",
      "SEPFREEZ\n",
      "NUMFREEZ\n",
      "UPRTFRZR\n",
      "SIZFREEZ\n",
      "FREEZER\n",
      "AGEFRZR\n",
      "REPLCFRZ\n",
      "HELPFRZ\n",
      "HELPFRZY\n",
      "UPRTFRZR2\n",
      "SIZFREEZ2\n",
      "FREEZER2\n",
      "AGEFRZR2\n",
      "DISHWASH\n",
      "AGEDW\n",
      "ESDISHW\n",
      "REPLCDW\n",
      "HELPDW\n",
      "HELPDWY\n"
     ]
    }
   ],
   "source": [
    "data = dropcolsinrange(data, \"STOVEN\", \"HELPDWY\", colstokeep)"
   ]
  },
  {
   "cell_type": "code",
   "execution_count": 47,
   "metadata": {},
   "outputs": [
    {
     "data": {
      "text/plain": [
       "-2     4687\n",
       " 2     4448\n",
       " 21    2328\n",
       " 1      480\n",
       "Name: OUTGRILLFUEL, dtype: int64"
      ]
     },
     "execution_count": 47,
     "metadata": {},
     "output_type": "execute_result"
    }
   ],
   "source": [
    "data['OUTGRILLFUEL'].value_counts()"
   ]
  },
  {
   "cell_type": "code",
   "execution_count": 48,
   "metadata": {},
   "outputs": [
    {
     "data": {
      "text/plain": [
       " 5     7344\n",
       " 1     4109\n",
       " 2      474\n",
       "-2      143\n",
       " 21      13\n",
       "Name: FUELFOOD, dtype: int64"
      ]
     },
     "execution_count": 48,
     "metadata": {},
     "output_type": "execute_result"
    }
   ],
   "source": [
    "raw_data['FUELFOOD'].value_counts() #21 seems like a valid fuel"
   ]
  },
  {
   "cell_type": "code",
   "execution_count": 49,
   "metadata": {},
   "outputs": [
    {
     "name": "stdout",
     "output_type": "stream",
     "text": [
      "One Hot Encoding column STOVENFUEL\n",
      "One Hot Encoding column OVENUSE\n",
      "One Hot Encoding column AMTMICRO\n",
      "One Hot Encoding column OUTGRILLFUEL\n",
      "Boolean labels for column TOASTER\n",
      "One Hot Encoding column NUMMEAL\n",
      "One Hot Encoding column FUELFOOD\n",
      "Boolean labels for column COFFEE\n",
      "One Hot Encoding column NUMFRIG\n",
      "One Hot Encoding column SIZRFRI1\n",
      "One Hot Encoding column DWASHUSE\n"
     ]
    }
   ],
   "source": [
    "data = onehotencode_cols(data, colstokeep)"
   ]
  },
  {
   "cell_type": "code",
   "execution_count": 50,
   "metadata": {},
   "outputs": [
    {
     "data": {
      "text/html": [
       "<div>\n",
       "<style scoped>\n",
       "    .dataframe tbody tr th:only-of-type {\n",
       "        vertical-align: middle;\n",
       "    }\n",
       "\n",
       "    .dataframe tbody tr th {\n",
       "        vertical-align: top;\n",
       "    }\n",
       "\n",
       "    .dataframe thead th {\n",
       "        text-align: right;\n",
       "    }\n",
       "</style>\n",
       "<table border=\"1\" class=\"dataframe\">\n",
       "  <thead>\n",
       "    <tr style=\"text-align: right;\">\n",
       "      <th></th>\n",
       "      <th>HDD65</th>\n",
       "      <th>CDD65</th>\n",
       "      <th>UR</th>\n",
       "      <th>TOTROOMS</th>\n",
       "      <th>TOASTER</th>\n",
       "      <th>COFFEE</th>\n",
       "      <th>ZSTOVEN</th>\n",
       "      <th>ZSTOVENFUEL</th>\n",
       "      <th>ZSTOVE</th>\n",
       "      <th>ZSTOVEFUEL</th>\n",
       "      <th>...</th>\n",
       "      <th>SIZRFRI1_1</th>\n",
       "      <th>SIZRFRI1_2</th>\n",
       "      <th>SIZRFRI1_3</th>\n",
       "      <th>SIZRFRI1_4</th>\n",
       "      <th>SIZRFRI1_5</th>\n",
       "      <th>DWASHUSE_11</th>\n",
       "      <th>DWASHUSE_12</th>\n",
       "      <th>DWASHUSE_13</th>\n",
       "      <th>DWASHUSE_20</th>\n",
       "      <th>DWASHUSE_30</th>\n",
       "    </tr>\n",
       "  </thead>\n",
       "  <tbody>\n",
       "    <tr>\n",
       "      <th>0</th>\n",
       "      <td>4742</td>\n",
       "      <td>1080</td>\n",
       "      <td>1</td>\n",
       "      <td>9</td>\n",
       "      <td>1</td>\n",
       "      <td>0</td>\n",
       "      <td>0</td>\n",
       "      <td>0</td>\n",
       "      <td>0</td>\n",
       "      <td>0</td>\n",
       "      <td>...</td>\n",
       "      <td>0</td>\n",
       "      <td>0</td>\n",
       "      <td>0</td>\n",
       "      <td>1</td>\n",
       "      <td>0</td>\n",
       "      <td>0</td>\n",
       "      <td>0</td>\n",
       "      <td>1</td>\n",
       "      <td>0</td>\n",
       "      <td>0</td>\n",
       "    </tr>\n",
       "    <tr>\n",
       "      <th>1</th>\n",
       "      <td>2662</td>\n",
       "      <td>199</td>\n",
       "      <td>1</td>\n",
       "      <td>4</td>\n",
       "      <td>1</td>\n",
       "      <td>0</td>\n",
       "      <td>0</td>\n",
       "      <td>0</td>\n",
       "      <td>0</td>\n",
       "      <td>0</td>\n",
       "      <td>...</td>\n",
       "      <td>0</td>\n",
       "      <td>0</td>\n",
       "      <td>0</td>\n",
       "      <td>1</td>\n",
       "      <td>0</td>\n",
       "      <td>0</td>\n",
       "      <td>0</td>\n",
       "      <td>0</td>\n",
       "      <td>0</td>\n",
       "      <td>0</td>\n",
       "    </tr>\n",
       "    <tr>\n",
       "      <th>2</th>\n",
       "      <td>6233</td>\n",
       "      <td>505</td>\n",
       "      <td>1</td>\n",
       "      <td>2</td>\n",
       "      <td>1</td>\n",
       "      <td>1</td>\n",
       "      <td>0</td>\n",
       "      <td>0</td>\n",
       "      <td>0</td>\n",
       "      <td>0</td>\n",
       "      <td>...</td>\n",
       "      <td>0</td>\n",
       "      <td>0</td>\n",
       "      <td>1</td>\n",
       "      <td>0</td>\n",
       "      <td>0</td>\n",
       "      <td>0</td>\n",
       "      <td>0</td>\n",
       "      <td>0</td>\n",
       "      <td>0</td>\n",
       "      <td>0</td>\n",
       "    </tr>\n",
       "    <tr>\n",
       "      <th>3</th>\n",
       "      <td>6034</td>\n",
       "      <td>672</td>\n",
       "      <td>1</td>\n",
       "      <td>7</td>\n",
       "      <td>1</td>\n",
       "      <td>0</td>\n",
       "      <td>0</td>\n",
       "      <td>0</td>\n",
       "      <td>0</td>\n",
       "      <td>0</td>\n",
       "      <td>...</td>\n",
       "      <td>0</td>\n",
       "      <td>0</td>\n",
       "      <td>0</td>\n",
       "      <td>1</td>\n",
       "      <td>0</td>\n",
       "      <td>0</td>\n",
       "      <td>0</td>\n",
       "      <td>0</td>\n",
       "      <td>1</td>\n",
       "      <td>0</td>\n",
       "    </tr>\n",
       "    <tr>\n",
       "      <th>4</th>\n",
       "      <td>5388</td>\n",
       "      <td>702</td>\n",
       "      <td>1</td>\n",
       "      <td>5</td>\n",
       "      <td>1</td>\n",
       "      <td>0</td>\n",
       "      <td>0</td>\n",
       "      <td>0</td>\n",
       "      <td>0</td>\n",
       "      <td>0</td>\n",
       "      <td>...</td>\n",
       "      <td>0</td>\n",
       "      <td>0</td>\n",
       "      <td>1</td>\n",
       "      <td>0</td>\n",
       "      <td>0</td>\n",
       "      <td>0</td>\n",
       "      <td>0</td>\n",
       "      <td>0</td>\n",
       "      <td>0</td>\n",
       "      <td>1</td>\n",
       "    </tr>\n",
       "  </tbody>\n",
       "</table>\n",
       "<p>5 rows × 875 columns</p>\n",
       "</div>"
      ],
      "text/plain": [
       "   HDD65  CDD65  UR  TOTROOMS  TOASTER  COFFEE  ZSTOVEN  ZSTOVENFUEL  ZSTOVE  \\\n",
       "0   4742   1080   1         9        1       0        0            0       0   \n",
       "1   2662    199   1         4        1       0        0            0       0   \n",
       "2   6233    505   1         2        1       1        0            0       0   \n",
       "3   6034    672   1         7        1       0        0            0       0   \n",
       "4   5388    702   1         5        1       0        0            0       0   \n",
       "\n",
       "   ZSTOVEFUEL  ...  SIZRFRI1_1  SIZRFRI1_2  SIZRFRI1_3  SIZRFRI1_4  \\\n",
       "0           0  ...           0           0           0           1   \n",
       "1           0  ...           0           0           0           1   \n",
       "2           0  ...           0           0           1           0   \n",
       "3           0  ...           0           0           0           1   \n",
       "4           0  ...           0           0           1           0   \n",
       "\n",
       "   SIZRFRI1_5  DWASHUSE_11  DWASHUSE_12  DWASHUSE_13  DWASHUSE_20  DWASHUSE_30  \n",
       "0           0            0            0            1            0            0  \n",
       "1           0            0            0            0            0            0  \n",
       "2           0            0            0            0            0            0  \n",
       "3           0            0            0            0            1            0  \n",
       "4           0            0            0            0            0            1  \n",
       "\n",
       "[5 rows x 875 columns]"
      ]
     },
     "execution_count": 50,
     "metadata": {},
     "output_type": "execute_result"
    }
   ],
   "source": [
    "data.head()"
   ]
  },
  {
   "cell_type": "code",
   "execution_count": 51,
   "metadata": {
    "scrolled": true
   },
   "outputs": [
    {
     "name": "stdout",
     "output_type": "stream",
     "text": [
      "Dropped columns:\n",
      "ZSTOVE\n",
      "ZSTOVEFUEL\n",
      "ZOVEN\n",
      "ZOVENFUEL\n",
      "ZOVENUSE\n",
      "ZOVENCLN\n",
      "ZTYPECLN\n",
      "ZMICRO\n",
      "ZAMTMICRO\n",
      "ZDEFROST\n",
      "ZOUTGRILL\n",
      "ZOUTGRILLFUEL\n",
      "ZTOPGRILL\n",
      "ZSTGRILA\n",
      "ZTOASTER\n",
      "ZNUMMEAL\n",
      "ZFUELFOOD\n",
      "ZCOFFEE\n",
      "ZNUMFRIG\n",
      "ZTYPERFR1\n",
      "ZSIZRFRI1\n",
      "ZREFRIGT1\n",
      "ZICE\n",
      "ZAGERFRI1\n",
      "ZTYPERFR2\n",
      "ZSIZRFRI2\n",
      "ZREFRIGT2\n",
      "ZMONRFRI2\n",
      "ZAGERFRI2\n",
      "ZTYPERFR3\n",
      "ZSIZRFRI3\n",
      "ZREFRIGT3\n",
      "ZMONRFRI3\n",
      "ZAGERFRI3\n",
      "ZSEPFREEZ\n",
      "ZNUMFREEZ\n",
      "ZUPRTFRZR\n",
      "ZSIZFREEZ\n",
      "ZFREEZER\n",
      "ZAGEFRZR\n",
      "ZUPRTFRZR2\n",
      "ZSIZFREEZ2\n",
      "ZFREEZER2\n",
      "ZAGEFRZR2\n",
      "ZDISHWASH\n",
      "ZDWASHUSE\n",
      "ZAGEDW\n"
     ]
    },
    {
     "data": {
      "text/html": [
       "<div>\n",
       "<style scoped>\n",
       "    .dataframe tbody tr th:only-of-type {\n",
       "        vertical-align: middle;\n",
       "    }\n",
       "\n",
       "    .dataframe tbody tr th {\n",
       "        vertical-align: top;\n",
       "    }\n",
       "\n",
       "    .dataframe thead th {\n",
       "        text-align: right;\n",
       "    }\n",
       "</style>\n",
       "<table border=\"1\" class=\"dataframe\">\n",
       "  <thead>\n",
       "    <tr style=\"text-align: right;\">\n",
       "      <th></th>\n",
       "      <th>HDD65</th>\n",
       "      <th>CDD65</th>\n",
       "      <th>UR</th>\n",
       "      <th>TOTROOMS</th>\n",
       "      <th>TOASTER</th>\n",
       "      <th>COFFEE</th>\n",
       "      <th>ZSTOVEN</th>\n",
       "      <th>ZSTOVENFUEL</th>\n",
       "      <th>CWASHER</th>\n",
       "      <th>TOPFRONT</th>\n",
       "      <th>...</th>\n",
       "      <th>SIZRFRI1_1</th>\n",
       "      <th>SIZRFRI1_2</th>\n",
       "      <th>SIZRFRI1_3</th>\n",
       "      <th>SIZRFRI1_4</th>\n",
       "      <th>SIZRFRI1_5</th>\n",
       "      <th>DWASHUSE_11</th>\n",
       "      <th>DWASHUSE_12</th>\n",
       "      <th>DWASHUSE_13</th>\n",
       "      <th>DWASHUSE_20</th>\n",
       "      <th>DWASHUSE_30</th>\n",
       "    </tr>\n",
       "  </thead>\n",
       "  <tbody>\n",
       "    <tr>\n",
       "      <th>0</th>\n",
       "      <td>4742</td>\n",
       "      <td>1080</td>\n",
       "      <td>1</td>\n",
       "      <td>9</td>\n",
       "      <td>1</td>\n",
       "      <td>0</td>\n",
       "      <td>0</td>\n",
       "      <td>0</td>\n",
       "      <td>1</td>\n",
       "      <td>2</td>\n",
       "      <td>...</td>\n",
       "      <td>0</td>\n",
       "      <td>0</td>\n",
       "      <td>0</td>\n",
       "      <td>1</td>\n",
       "      <td>0</td>\n",
       "      <td>0</td>\n",
       "      <td>0</td>\n",
       "      <td>1</td>\n",
       "      <td>0</td>\n",
       "      <td>0</td>\n",
       "    </tr>\n",
       "    <tr>\n",
       "      <th>1</th>\n",
       "      <td>2662</td>\n",
       "      <td>199</td>\n",
       "      <td>1</td>\n",
       "      <td>4</td>\n",
       "      <td>1</td>\n",
       "      <td>0</td>\n",
       "      <td>0</td>\n",
       "      <td>0</td>\n",
       "      <td>1</td>\n",
       "      <td>1</td>\n",
       "      <td>...</td>\n",
       "      <td>0</td>\n",
       "      <td>0</td>\n",
       "      <td>0</td>\n",
       "      <td>1</td>\n",
       "      <td>0</td>\n",
       "      <td>0</td>\n",
       "      <td>0</td>\n",
       "      <td>0</td>\n",
       "      <td>0</td>\n",
       "      <td>0</td>\n",
       "    </tr>\n",
       "    <tr>\n",
       "      <th>2</th>\n",
       "      <td>6233</td>\n",
       "      <td>505</td>\n",
       "      <td>1</td>\n",
       "      <td>2</td>\n",
       "      <td>1</td>\n",
       "      <td>1</td>\n",
       "      <td>0</td>\n",
       "      <td>0</td>\n",
       "      <td>0</td>\n",
       "      <td>-2</td>\n",
       "      <td>...</td>\n",
       "      <td>0</td>\n",
       "      <td>0</td>\n",
       "      <td>1</td>\n",
       "      <td>0</td>\n",
       "      <td>0</td>\n",
       "      <td>0</td>\n",
       "      <td>0</td>\n",
       "      <td>0</td>\n",
       "      <td>0</td>\n",
       "      <td>0</td>\n",
       "    </tr>\n",
       "    <tr>\n",
       "      <th>3</th>\n",
       "      <td>6034</td>\n",
       "      <td>672</td>\n",
       "      <td>1</td>\n",
       "      <td>7</td>\n",
       "      <td>1</td>\n",
       "      <td>0</td>\n",
       "      <td>0</td>\n",
       "      <td>0</td>\n",
       "      <td>1</td>\n",
       "      <td>1</td>\n",
       "      <td>...</td>\n",
       "      <td>0</td>\n",
       "      <td>0</td>\n",
       "      <td>0</td>\n",
       "      <td>1</td>\n",
       "      <td>0</td>\n",
       "      <td>0</td>\n",
       "      <td>0</td>\n",
       "      <td>0</td>\n",
       "      <td>1</td>\n",
       "      <td>0</td>\n",
       "    </tr>\n",
       "    <tr>\n",
       "      <th>4</th>\n",
       "      <td>5388</td>\n",
       "      <td>702</td>\n",
       "      <td>1</td>\n",
       "      <td>5</td>\n",
       "      <td>1</td>\n",
       "      <td>0</td>\n",
       "      <td>0</td>\n",
       "      <td>0</td>\n",
       "      <td>1</td>\n",
       "      <td>1</td>\n",
       "      <td>...</td>\n",
       "      <td>0</td>\n",
       "      <td>0</td>\n",
       "      <td>1</td>\n",
       "      <td>0</td>\n",
       "      <td>0</td>\n",
       "      <td>0</td>\n",
       "      <td>0</td>\n",
       "      <td>0</td>\n",
       "      <td>0</td>\n",
       "      <td>1</td>\n",
       "    </tr>\n",
       "  </tbody>\n",
       "</table>\n",
       "<p>5 rows × 828 columns</p>\n",
       "</div>"
      ],
      "text/plain": [
       "   HDD65  CDD65  UR  TOTROOMS  TOASTER  COFFEE  ZSTOVEN  ZSTOVENFUEL  CWASHER  \\\n",
       "0   4742   1080   1         9        1       0        0            0        1   \n",
       "1   2662    199   1         4        1       0        0            0        1   \n",
       "2   6233    505   1         2        1       1        0            0        0   \n",
       "3   6034    672   1         7        1       0        0            0        1   \n",
       "4   5388    702   1         5        1       0        0            0        1   \n",
       "\n",
       "   TOPFRONT  ...  SIZRFRI1_1  SIZRFRI1_2  SIZRFRI1_3  SIZRFRI1_4  SIZRFRI1_5  \\\n",
       "0         2  ...           0           0           0           1           0   \n",
       "1         1  ...           0           0           0           1           0   \n",
       "2        -2  ...           0           0           1           0           0   \n",
       "3         1  ...           0           0           0           1           0   \n",
       "4         1  ...           0           0           1           0           0   \n",
       "\n",
       "   DWASHUSE_11  DWASHUSE_12  DWASHUSE_13  DWASHUSE_20  DWASHUSE_30  \n",
       "0            0            0            1            0            0  \n",
       "1            0            0            0            0            0  \n",
       "2            0            0            0            0            0  \n",
       "3            0            0            0            1            0  \n",
       "4            0            0            0            0            1  \n",
       "\n",
       "[5 rows x 828 columns]"
      ]
     },
     "execution_count": 51,
     "metadata": {},
     "output_type": "execute_result"
    }
   ],
   "source": [
    "#Drop columns from ZSTOVE to ZAGEDW\n",
    "data = dropcolsinrange(data,\"ZSTOVE\", \"ZAGEDW\")\n",
    "data.head()"
   ]
  },
  {
   "cell_type": "code",
   "execution_count": 52,
   "metadata": {},
   "outputs": [
    {
     "name": "stdout",
     "output_type": "stream",
     "text": [
      "Column_name   unique_values    frequent_element      frequency      percentage\n",
      "CWASHER :     2    [1]    9893    82.83513355103408%\n",
      "TOPFRONT :     3    [1]    8013    67.09369505149459%\n",
      "WASHLOAD :     6    [2]    4341    36.34765134388345%\n",
      "WASHTEMP :     4    [2]    4736    39.655028049903706%\n",
      "RNSETEMP :     4    [3]    7965    66.69178598342125%\n",
      "AGECWASH :     7    [3]    3339    27.957799547852296%\n",
      "ESCWASH :     5    [-2]    4694    39.30335761533953%\n",
      "REPLCCW :     4    [-2]    8357    69.97404337268694%\n",
      "HELPCW :     7    [-2]    8831    73.94289541991125%\n",
      "HELPCWY :     8    [-2]    11597    97.10290546763794%\n",
      "DRYER :     2    [1]    9584    80.2478439253119%\n",
      "DRYRFUEL :     4    [5]    7603    63.66072176170141%\n",
      "DRYRUSE :     4    [1]    7862    65.82935610818052%\n",
      "AGECDRYER :     7    [3]    3233    27.070250355856988%\n",
      "TVCOLOR :     12    [2]    3946    33.040274637863185%\n",
      "TVSIZE1 :     4    [2]    5598    46.87264506405426%\n",
      "TVTYPE1 :     6    [1]    5182    43.389433140751905%\n",
      "CABLESAT1 :     4    [1]    6631    55.522063133216115%\n",
      "COMBODVR1 :     3    [0]    5806    48.614251025705435%\n",
      "DVR1 :     3    [0]    6941    58.11772586452315%\n",
      "DIGITSTB1 :     3    [0]    9098    76.17851461106925%\n",
      "PLAYSTA1 :     3    [0]    8621    72.18454324709035%\n",
      "COMBOVCRDVD1 :     3    [0]    8690    72.76228753244578%\n",
      "VCR1 :     3    [0]    9680    81.0516620614586%\n",
      "DVD1 :     3    [1]    6129    51.31876412961568%\n",
      "TVAUDIOSYS1 :     3    [0]    9542    79.89617349074771%\n",
      "OTHERSTB1 :     3    [0]    11443    95.8134472075693%\n",
      "TVONWD1 :     6    [3]    4549    38.08925730553462%\n",
      "TVONWDWATCH1 :     6    [-2]    8769    73.42376287364984%\n",
      "TVONWE1 :     6    [3]    4156    34.79862681068408%\n",
      "TVONWEWATCH1 :     6    [-2]    8769    73.42376287364984%\n",
      "TVSIZE2 :     4    [2]    4688    39.25311898183036%\n",
      "TVTYPE2 :     6    [1]    6016    50.372603198526335%\n",
      "CABLESAT2 :     4    [1]    4556    38.14786904462865%\n",
      "COMBODVR2 :     3    [0]    5404    45.248262580591145%\n",
      "DVR2 :     3    [0]    7680    64.30545089173575%\n",
      "DIGITSTB2 :     3    [0]    8021    67.16067989617349%\n",
      "PLAYSTA2 :     3    [0]    7853    65.75399815791677%\n",
      "COMBOVCRDVD2 :     3    [0]    8167    68.38315331156326%\n",
      "VCR2 :     3    [0]    8263    69.18697144770995%\n",
      "DVD2 :     3    [0]    6529    54.66800636356024%\n",
      "TVAUDIOSYS2 :     3    [0]    8959    75.01465293477351%\n",
      "OTHERSTB2 :     3    [0]    9270    77.61868877166542%\n",
      "TVONWD2 :     6    [2]    3662    30.66231265176254%\n",
      "TVONWDWATCH2 :     6    [-2]    10425    87.28962572218035%\n",
      "TVONWE2 :     6    [2]    3315    27.756845013815624%\n",
      "TVONWEWATCH2 :     6    [-2]    10425    87.28962572218035%\n",
      "TVSIZE3 :     4    [-2]    6518    54.57590220212677%\n",
      "TVTYPE3 :     6    [-2]    6518    54.57590220212677%\n",
      "CABLESAT3 :     4    [-2]    6518    54.57590220212677%\n",
      "COMBODVR3 :     3    [-2]    8466    70.88671188143682%\n",
      "DVR3 :     3    [-2]    6979    58.435903876747886%\n",
      "DIGITSTB3 :     3    [-2]    6518    54.57590220212677%\n",
      "PLAYSTA3 :     3    [-2]    6518    54.57590220212677%\n",
      "COMBOVCRDVD3 :     3    [-2]    6518    54.57590220212677%\n",
      "VCR3 :     3    [-2]    6518    54.57590220212677%\n",
      "DVD3 :     3    [-2]    6518    54.57590220212677%\n",
      "TVAUDIOSYS3 :     3    [-2]    6518    54.57590220212677%\n",
      "OTHERSTB3 :     3    [-2]    6518    54.57590220212677%\n",
      "TVONWD3 :     6    [-2]    6518    54.57590220212677%\n",
      "TVONWDWATCH3 :     6    [-2]    11118    93.09218789248932%\n",
      "TVONWE3 :     6    [-2]    6518    54.57590220212677%\n",
      "TVONWEWATCH3 :     6    [-2]    11118    93.09218789248932%\n",
      "COMPUTER :     2    [1]    9337    78.17968684585112%\n",
      "NUMPC :     12    [1]    4941    41.3715146948003%\n",
      "PCTYPE1 :     3    [1]    5180    43.37268692958218%\n",
      "MONITOR1 :     3    [-2]    6763    56.62731307041782%\n",
      "TIMEON1 :     6    [2]    3466    29.021183957129697%\n",
      "PCONOFF1 :     3    [1]    5451    45.641798543079624%\n",
      "PCSLEEP1 :     3    [-2]    8057    67.4621116972285%\n",
      "PCTYPE2 :     3    [-2]    7547    63.19182784894918%\n",
      "MONITOR2 :     3    [-2]    10211    85.49778112702%\n",
      "TIMEON2 :     6    [-2]    7547    63.19182784894918%\n",
      "PCONOFF2 :     3    [-2]    7547    63.19182784894918%\n",
      "PCSLEEP2 :     3    [-2]    10644    89.123335845265%\n",
      "PCTYPE3 :     3    [-2]    10237    85.7154818722264%\n",
      "MONITOR3 :     3    [-2]    11264    94.31466130787909%\n",
      "TIMEON3 :     6    [-2]    10237    85.7154818722264%\n",
      "PCONOFF3 :     3    [-2]    10237    85.7154818722264%\n",
      "PCSLEEP3 :     3    [-2]    11509    96.36607217617014%\n",
      "INTERNET :     3    [1]    8816    73.81729883613832%\n",
      "INDIALUP :     3    [0]    8238    68.97764380808842%\n",
      "INDSL :     3    [0]    5150    43.12149376203634%\n",
      "INCABLE :     3    [0]    4805    40.23277233525915%\n",
      "INSATEL :     3    [0]    8537    71.48120237796198%\n",
      "INWIRELESS :     3    [1]    5740    48.061626057104576%\n",
      "PCPRINT :     8    [1]    6339    53.07711630243658%\n",
      "FAX :     2    [0]    10864    90.96541907393451%\n",
      "COPIER :     2    [0]    10920    91.43431298668676%\n",
      "WELLPUMP :     3    [0]    7745    64.84970275475173%\n",
      "DIPSTICK :     3    [-2]    8379    70.15825169555389%\n",
      "SWAMPCOL :     3    [-2]    7041    58.9550364230093%\n",
      "AQUARIUM :     2    [0]    11490    96.20698317005777%\n",
      "STEREO :     2    [0]    6804    56.97061039939714%\n",
      "NOCORD :     2    [1]    7549    63.20857406011889%\n",
      "ANSMACH :     2    [0]    6364    53.28644394205811%\n",
      "BATTOOLS :     4    [1]    5353    44.82123419576321%\n",
      "BATCHRG :     4    [2]    5643    47.24943481537302%\n",
      "CHRGPLGT :     4    [-2]    5218    43.690864941806915%\n",
      "ELECDEV :     4    [1]    5950    49.819978229925475%\n",
      "ELECCHRG :     4    [2]    8238    68.97764380808842%\n",
      "CHRGPLGE :     4    [0]    5508    46.119065561416726%\n"
     ]
    }
   ],
   "source": [
    "get_countofmax(data, \"CWASHER\", \"CHRGPLGE\")"
   ]
  },
  {
   "cell_type": "markdown",
   "metadata": {},
   "source": [
    "#### Selecting columns in which -2 is not the most frequently occuring value, and ignoring the obvious collinear columns.\n"
   ]
  },
  {
   "cell_type": "code",
   "execution_count": 53,
   "metadata": {},
   "outputs": [],
   "source": [
    "colstokeep = ['WASHLOAD','WASHTEMP','DRYER','TVCOLOR','TVSIZE1','TVTYPE1','PLAYSTA1','DVD1','TVONWD1',\n",
    "              'TVONWE1', 'TVONWEWATCH1','TVONWD2' , 'TVONWE2', 'PCPRINT','STEREO', \n",
    "              'NUMPC','PCTYPE1','TIMEON1','INTERNET','WELLPUMP','BATTOOLS','BATCHRG']"
   ]
  },
  {
   "cell_type": "code",
   "execution_count": 54,
   "metadata": {},
   "outputs": [
    {
     "name": "stdout",
     "output_type": "stream",
     "text": [
      "Dropped columns:\n",
      "CWASHER\n",
      "TOPFRONT\n",
      "RNSETEMP\n",
      "AGECWASH\n",
      "ESCWASH\n",
      "REPLCCW\n",
      "HELPCW\n",
      "HELPCWY\n",
      "DRYRFUEL\n",
      "DRYRUSE\n",
      "AGECDRYER\n",
      "CABLESAT1\n",
      "COMBODVR1\n",
      "DVR1\n",
      "DIGITSTB1\n",
      "COMBOVCRDVD1\n",
      "VCR1\n",
      "TVAUDIOSYS1\n",
      "OTHERSTB1\n",
      "TVONWDWATCH1\n",
      "TVSIZE2\n",
      "TVTYPE2\n",
      "CABLESAT2\n",
      "COMBODVR2\n",
      "DVR2\n",
      "DIGITSTB2\n",
      "PLAYSTA2\n",
      "COMBOVCRDVD2\n",
      "VCR2\n",
      "DVD2\n",
      "TVAUDIOSYS2\n",
      "OTHERSTB2\n",
      "TVONWDWATCH2\n",
      "TVONWEWATCH2\n",
      "TVSIZE3\n",
      "TVTYPE3\n",
      "CABLESAT3\n",
      "COMBODVR3\n",
      "DVR3\n",
      "DIGITSTB3\n",
      "PLAYSTA3\n",
      "COMBOVCRDVD3\n",
      "VCR3\n",
      "DVD3\n",
      "TVAUDIOSYS3\n",
      "OTHERSTB3\n",
      "TVONWD3\n",
      "TVONWDWATCH3\n",
      "TVONWE3\n",
      "TVONWEWATCH3\n",
      "COMPUTER\n",
      "MONITOR1\n",
      "PCONOFF1\n",
      "PCSLEEP1\n",
      "PCTYPE2\n",
      "MONITOR2\n",
      "TIMEON2\n",
      "PCONOFF2\n",
      "PCSLEEP2\n",
      "PCTYPE3\n",
      "MONITOR3\n",
      "TIMEON3\n",
      "PCONOFF3\n",
      "PCSLEEP3\n",
      "INDIALUP\n",
      "INDSL\n",
      "INCABLE\n",
      "INSATEL\n",
      "INWIRELESS\n",
      "FAX\n",
      "COPIER\n",
      "DIPSTICK\n",
      "SWAMPCOL\n",
      "AQUARIUM\n",
      "NOCORD\n",
      "ANSMACH\n",
      "CHRGPLGT\n",
      "ELECDEV\n",
      "ELECCHRG\n",
      "CHRGPLGE\n"
     ]
    }
   ],
   "source": [
    "data = dropcolsinrange(data, \"CWASHER\", \"CHRGPLGE\", colstokeep)"
   ]
  },
  {
   "cell_type": "code",
   "execution_count": 55,
   "metadata": {},
   "outputs": [
    {
     "name": "stdout",
     "output_type": "stream",
     "text": [
      "One Hot Encoding column WASHLOAD\n",
      "One Hot Encoding column WASHTEMP\n",
      "Boolean labels for column DRYER\n",
      "Binary Encoding column TVCOLOR\n"
     ]
    },
    {
     "name": "stderr",
     "output_type": "stream",
     "text": [
      "C:\\Users\\Manish\\Miniconda3\\lib\\site-packages\\category_encoders\\utils.py:21: FutureWarning: is_categorical is deprecated and will be removed in a future version.  Use is_categorical_dtype instead\n",
      "  elif pd.api.types.is_categorical(cols):\n"
     ]
    },
    {
     "name": "stdout",
     "output_type": "stream",
     "text": [
      "One Hot Encoding column TVSIZE1\n",
      "One Hot Encoding column TVTYPE1\n",
      "One Hot Encoding column PLAYSTA1\n",
      "One Hot Encoding column DVD1\n",
      "One Hot Encoding column TVONWD1\n",
      "One Hot Encoding column TVONWE1\n",
      "One Hot Encoding column TVONWEWATCH1\n",
      "One Hot Encoding column TVONWD2\n",
      "One Hot Encoding column TVONWE2\n",
      "One Hot Encoding column PCPRINT\n",
      "Boolean labels for column STEREO\n",
      "Binary Encoding column NUMPC\n"
     ]
    },
    {
     "name": "stderr",
     "output_type": "stream",
     "text": [
      "C:\\Users\\Manish\\Miniconda3\\lib\\site-packages\\category_encoders\\utils.py:21: FutureWarning: is_categorical is deprecated and will be removed in a future version.  Use is_categorical_dtype instead\n",
      "  elif pd.api.types.is_categorical(cols):\n"
     ]
    },
    {
     "name": "stdout",
     "output_type": "stream",
     "text": [
      "One Hot Encoding column PCTYPE1\n",
      "One Hot Encoding column TIMEON1\n",
      "One Hot Encoding column INTERNET\n",
      "One Hot Encoding column WELLPUMP\n",
      "One Hot Encoding column BATTOOLS\n",
      "One Hot Encoding column BATCHRG\n"
     ]
    }
   ],
   "source": [
    "data = onehotencode_cols(data, colstokeep)"
   ]
  },
  {
   "cell_type": "code",
   "execution_count": 56,
   "metadata": {},
   "outputs": [
    {
     "data": {
      "text/html": [
       "<div>\n",
       "<style scoped>\n",
       "    .dataframe tbody tr th:only-of-type {\n",
       "        vertical-align: middle;\n",
       "    }\n",
       "\n",
       "    .dataframe tbody tr th {\n",
       "        vertical-align: top;\n",
       "    }\n",
       "\n",
       "    .dataframe thead th {\n",
       "        text-align: right;\n",
       "    }\n",
       "</style>\n",
       "<table border=\"1\" class=\"dataframe\">\n",
       "  <thead>\n",
       "    <tr style=\"text-align: right;\">\n",
       "      <th></th>\n",
       "      <th>HDD65</th>\n",
       "      <th>CDD65</th>\n",
       "      <th>UR</th>\n",
       "      <th>TOTROOMS</th>\n",
       "      <th>TOASTER</th>\n",
       "      <th>COFFEE</th>\n",
       "      <th>ZSTOVEN</th>\n",
       "      <th>ZSTOVENFUEL</th>\n",
       "      <th>DRYER</th>\n",
       "      <th>STEREO</th>\n",
       "      <th>...</th>\n",
       "      <th>INTERNET_0</th>\n",
       "      <th>INTERNET_1</th>\n",
       "      <th>WELLPUMP_0</th>\n",
       "      <th>WELLPUMP_1</th>\n",
       "      <th>BATTOOLS_1</th>\n",
       "      <th>BATTOOLS_2</th>\n",
       "      <th>BATTOOLS_3</th>\n",
       "      <th>BATCHRG_1</th>\n",
       "      <th>BATCHRG_2</th>\n",
       "      <th>BATCHRG_3</th>\n",
       "    </tr>\n",
       "  </thead>\n",
       "  <tbody>\n",
       "    <tr>\n",
       "      <th>0</th>\n",
       "      <td>4742</td>\n",
       "      <td>1080</td>\n",
       "      <td>1</td>\n",
       "      <td>9</td>\n",
       "      <td>1</td>\n",
       "      <td>0</td>\n",
       "      <td>0</td>\n",
       "      <td>0</td>\n",
       "      <td>0</td>\n",
       "      <td>1</td>\n",
       "      <td>...</td>\n",
       "      <td>0</td>\n",
       "      <td>1</td>\n",
       "      <td>1</td>\n",
       "      <td>0</td>\n",
       "      <td>1</td>\n",
       "      <td>0</td>\n",
       "      <td>0</td>\n",
       "      <td>0</td>\n",
       "      <td>1</td>\n",
       "      <td>0</td>\n",
       "    </tr>\n",
       "    <tr>\n",
       "      <th>1</th>\n",
       "      <td>2662</td>\n",
       "      <td>199</td>\n",
       "      <td>1</td>\n",
       "      <td>4</td>\n",
       "      <td>1</td>\n",
       "      <td>0</td>\n",
       "      <td>0</td>\n",
       "      <td>0</td>\n",
       "      <td>0</td>\n",
       "      <td>1</td>\n",
       "      <td>...</td>\n",
       "      <td>0</td>\n",
       "      <td>1</td>\n",
       "      <td>1</td>\n",
       "      <td>0</td>\n",
       "      <td>0</td>\n",
       "      <td>0</td>\n",
       "      <td>0</td>\n",
       "      <td>0</td>\n",
       "      <td>0</td>\n",
       "      <td>0</td>\n",
       "    </tr>\n",
       "    <tr>\n",
       "      <th>2</th>\n",
       "      <td>6233</td>\n",
       "      <td>505</td>\n",
       "      <td>1</td>\n",
       "      <td>2</td>\n",
       "      <td>1</td>\n",
       "      <td>1</td>\n",
       "      <td>0</td>\n",
       "      <td>0</td>\n",
       "      <td>1</td>\n",
       "      <td>0</td>\n",
       "      <td>...</td>\n",
       "      <td>0</td>\n",
       "      <td>1</td>\n",
       "      <td>0</td>\n",
       "      <td>0</td>\n",
       "      <td>0</td>\n",
       "      <td>0</td>\n",
       "      <td>0</td>\n",
       "      <td>0</td>\n",
       "      <td>0</td>\n",
       "      <td>0</td>\n",
       "    </tr>\n",
       "    <tr>\n",
       "      <th>3</th>\n",
       "      <td>6034</td>\n",
       "      <td>672</td>\n",
       "      <td>1</td>\n",
       "      <td>7</td>\n",
       "      <td>1</td>\n",
       "      <td>0</td>\n",
       "      <td>0</td>\n",
       "      <td>0</td>\n",
       "      <td>0</td>\n",
       "      <td>0</td>\n",
       "      <td>...</td>\n",
       "      <td>0</td>\n",
       "      <td>1</td>\n",
       "      <td>1</td>\n",
       "      <td>0</td>\n",
       "      <td>0</td>\n",
       "      <td>0</td>\n",
       "      <td>0</td>\n",
       "      <td>0</td>\n",
       "      <td>0</td>\n",
       "      <td>0</td>\n",
       "    </tr>\n",
       "    <tr>\n",
       "      <th>4</th>\n",
       "      <td>5388</td>\n",
       "      <td>702</td>\n",
       "      <td>1</td>\n",
       "      <td>5</td>\n",
       "      <td>1</td>\n",
       "      <td>0</td>\n",
       "      <td>0</td>\n",
       "      <td>0</td>\n",
       "      <td>0</td>\n",
       "      <td>1</td>\n",
       "      <td>...</td>\n",
       "      <td>0</td>\n",
       "      <td>1</td>\n",
       "      <td>1</td>\n",
       "      <td>0</td>\n",
       "      <td>0</td>\n",
       "      <td>0</td>\n",
       "      <td>0</td>\n",
       "      <td>0</td>\n",
       "      <td>0</td>\n",
       "      <td>0</td>\n",
       "    </tr>\n",
       "  </tbody>\n",
       "</table>\n",
       "<p>5 rows × 807 columns</p>\n",
       "</div>"
      ],
      "text/plain": [
       "   HDD65  CDD65  UR  TOTROOMS  TOASTER  COFFEE  ZSTOVEN  ZSTOVENFUEL  DRYER  \\\n",
       "0   4742   1080   1         9        1       0        0            0      0   \n",
       "1   2662    199   1         4        1       0        0            0      0   \n",
       "2   6233    505   1         2        1       1        0            0      1   \n",
       "3   6034    672   1         7        1       0        0            0      0   \n",
       "4   5388    702   1         5        1       0        0            0      0   \n",
       "\n",
       "   STEREO  ...  INTERNET_0  INTERNET_1  WELLPUMP_0  WELLPUMP_1  BATTOOLS_1  \\\n",
       "0       1  ...           0           1           1           0           1   \n",
       "1       1  ...           0           1           1           0           0   \n",
       "2       0  ...           0           1           0           0           0   \n",
       "3       0  ...           0           1           1           0           0   \n",
       "4       1  ...           0           1           1           0           0   \n",
       "\n",
       "   BATTOOLS_2  BATTOOLS_3  BATCHRG_1  BATCHRG_2  BATCHRG_3  \n",
       "0           0           0          0          1          0  \n",
       "1           0           0          0          0          0  \n",
       "2           0           0          0          0          0  \n",
       "3           0           0          0          0          0  \n",
       "4           0           0          0          0          0  \n",
       "\n",
       "[5 rows x 807 columns]"
      ]
     },
     "execution_count": 56,
     "metadata": {},
     "output_type": "execute_result"
    }
   ],
   "source": [
    "data.head()"
   ]
  },
  {
   "cell_type": "code",
   "execution_count": 57,
   "metadata": {},
   "outputs": [
    {
     "name": "stdout",
     "output_type": "stream",
     "text": [
      "Dropped columns:\n",
      "ZCWASHER\n",
      "ZTOPFRONT\n",
      "ZWASHLOAD\n",
      "ZWASHTEMP\n",
      "ZRNSETEMP\n",
      "ZAGECWASH\n",
      "ZDRYER\n",
      "ZDRYRFUEL\n",
      "ZDRYRUSE\n",
      "ZAGECDRYER\n",
      "ZTVCOLOR\n",
      "ZTVSIZE1\n",
      "ZTVTYPE1\n",
      "ZCABLESAT1\n",
      "ZCOMBODVR1\n",
      "ZDVR1\n",
      "ZDIGITSTB1\n",
      "ZPLAYSTA1\n",
      "ZCOMBOVCRDVD1\n",
      "ZVCR1\n",
      "ZDVD1\n",
      "ZTVAUDIOSYS1\n",
      "ZOTHERSTB1\n",
      "ZTVONWD1\n",
      "ZTVONWDWATCH1\n",
      "ZTVONWE1\n",
      "ZTVONWEWATCH1\n",
      "ZTVSIZE2\n",
      "ZTVTYPE2\n",
      "ZCABLESAT2\n",
      "ZCOMBODVR2\n",
      "ZDVR2\n",
      "ZDIGITSTB2\n",
      "ZPLAYSTA2\n",
      "ZCOMBOVCRDVD2\n",
      "ZVCR2\n",
      "ZDVD2\n",
      "ZTVAUDIOSYS2\n",
      "ZOTHERSTB2\n",
      "ZTVONWD2\n",
      "ZTVONWDWATCH2\n",
      "ZTVONWE2\n",
      "ZTVONWEWATCH2\n",
      "ZTVSIZE3\n",
      "ZTVTYPE3\n",
      "ZCABLESAT3\n",
      "ZCOMBODVR3\n",
      "ZDVR3\n",
      "ZDIGITSTB3\n",
      "ZPLAYSTA3\n",
      "ZCOMBOVCRDVD3\n",
      "ZVCR3\n",
      "ZDVD3\n",
      "ZTVAUDIOSYS3\n",
      "ZOTHERSTB3\n",
      "ZTVONWD3\n",
      "ZTVONWDWATCH3\n",
      "ZTVONWE3\n",
      "ZTVONWEWATCH3\n",
      "ZCOMPUTER\n",
      "ZNUMPC\n",
      "ZPCTYPE1\n",
      "ZMONITOR1\n",
      "ZTIMEON1\n",
      "ZPCONOFF1\n",
      "ZPCSLEEP1\n",
      "ZPCTYPE2\n",
      "ZMONITOR2\n",
      "ZTIMEON2\n",
      "ZPCONOFF2\n",
      "ZPCSLEEP2\n",
      "ZPCTYPE3\n",
      "ZMONITOR3\n",
      "ZTIMEON3\n",
      "ZPCONOFF3\n",
      "ZPCSLEEP3\n",
      "ZINTERNET\n",
      "ZINDIALUP\n",
      "ZINDSL\n",
      "ZINCABLE\n",
      "ZINSATEL\n",
      "ZINWIRELESS\n",
      "ZPCPRINT\n",
      "ZFAX\n",
      "ZCOPIER\n",
      "ZWELLPUMP\n",
      "ZDIPSTICK\n",
      "ZSWAMPCOL\n",
      "ZAQUARIUM\n",
      "ZSTEREO\n",
      "ZNOCORD\n",
      "ZANSMACH\n",
      "ZBATTOOLS\n",
      "ZBATCHRG\n",
      "ZCHRGPLGT\n",
      "ZELECDEV\n",
      "ZELECCHRG\n",
      "ZCHRGPLGE\n"
     ]
    }
   ],
   "source": [
    "#Drop columns from ZCWASHER to ZCHRGPLGE\n",
    "data = dropcolsinrange(data,\"ZCWASHER\", \"ZCHRGPLGE\")"
   ]
  },
  {
   "cell_type": "code",
   "execution_count": 58,
   "metadata": {},
   "outputs": [
    {
     "name": "stdout",
     "output_type": "stream",
     "text": [
      "Column_name   unique_values    frequent_element      frequency      percentage\n",
      "HEATHOME :     2    [1]    11501    96.29908733149125%\n",
      "DNTHEAT :     3    [-2]    11501    96.29908733149125%\n",
      "EQUIPNOHEAT :     11    [-2]    11649    97.53830695805074%\n",
      "FUELNOHEAT :     7    [-2]    11649    97.53830695805074%\n",
      "EQUIPM :     13    [3]    7477    62.60571045800888%\n",
      "FUELHEAT :     10    [1]    5877    49.208741522230596%\n",
      "MAINTHT :     3    [0]    6901    57.78280164112869%\n",
      "EQUIPAGE :     7    [5]    2873    24.055932345306875%\n",
      "REPLCHT :     4    [-2]    9351    78.29691032403917%\n",
      "HELPHT :     9    [-2]    6394    53.53763710960395%\n",
      "HELPHTY :     9    [-2]    11433    95.72971615172068%\n",
      "HEATOTH :     3    [0]    10623    88.94750062798292%\n",
      "EQUIPAUX :     3    [0]    7028    58.84618605040609%\n",
      "REVERSE :     3    [0]    11371    95.21058360545926%\n",
      "WARMAIR :     3    [0]    11238    94.09696056267269%\n",
      "FURNFUEL :     6    [-2]    11680    97.79787323118144%\n",
      "STEAMR :     3    [0]    11443    95.8134472075693%\n",
      "RADFUEL :     7    [-2]    11885    99.51435987607805%\n",
      "PERMELEC :     3    [0]    11259    94.27279577995479%\n",
      "PIPELESS :     3    [0]    11477    96.09813279745457%\n",
      "PIPEFUEL :     4    [-2]    11919    99.79904546596332%\n",
      "ROOMHEAT :     3    [0]    11380    95.28594155572301%\n",
      "RMHTFUEL :     5    [-2]    11822    98.98685422423176%\n",
      "WOODKILN :     3    [0]    11209    93.85414050071171%\n",
      "HSFUEL :     3    [-2]    11651    97.55505316922046%\n",
      "CARRYEL :     3    [0]    9139    76.52181194004856%\n",
      "CARRYKER :     3    [0]    11428    95.68785062379636%\n",
      "CHIMNEY :     3    [0]    10090    84.48463535125178%\n",
      "FPFUEL :     5    [-2]    10532    88.18554801976053%\n",
      "NGFPFLUE :     3    [-2]    11268    94.34815373021854%\n",
      "USENGFP :     4    [-2]    11268    94.34815373021854%\n",
      "RANGE :     3    [0]    11416    95.58737335677803%\n",
      "RNGFUEL :     5    [-2]    11858    99.28828602528678%\n",
      "DIFEQUIP :     3    [0]    11422    95.6376119902872%\n",
      "DIFFUEL :     8    [-2]    11864    99.33852465879595%\n",
      "EQMAMT :     4    [-2]    7470    62.54709871891485%\n",
      "HEATROOM :     19    [6]    2143    17.943565268358032%\n",
      "THERMAIN :     3    [1]    10127    84.79444025789165%\n",
      "NUMTHERM :     6    [1]    8327    69.72285020514109%\n",
      "PROTHERM :     3    [0]    5512    46.152557983756175%\n",
      "AUTOHEATNITE :     3    [-2]    7328    61.358117725864524%\n",
      "AUTOHEATDAY :     3    [-2]    7328    61.358117725864524%\n",
      "TEMPHOME :     40    [70]    2703    22.63250439588043%\n",
      "TEMPGONE :     43    [70]    1750    14.652934773507495%\n",
      "TEMPNITE :     45    [70]    2000    16.746211169722848%\n",
      "MOISTURE :     2    [0]    10121    84.74420162438248%\n",
      "USEMOISTURE :     6    [-2]    10121    84.74420162438248%\n"
     ]
    }
   ],
   "source": [
    "get_countofmax(data, \"HEATHOME\", \"USEMOISTURE\")"
   ]
  },
  {
   "cell_type": "code",
   "execution_count": 59,
   "metadata": {},
   "outputs": [],
   "source": [
    "colstokeep= ['FUELHEAT','EQUIPAUX','CARRYEL','DIFEQUIP','HEATROOM',\n",
    "             'NUMTHERM','PROTHERM', 'TEMPHOME','TEMPNITE','MOISTURE']"
   ]
  },
  {
   "cell_type": "code",
   "execution_count": 60,
   "metadata": {},
   "outputs": [
    {
     "name": "stdout",
     "output_type": "stream",
     "text": [
      "Dropped columns:\n",
      "HEATHOME\n",
      "DNTHEAT\n",
      "EQUIPNOHEAT\n",
      "FUELNOHEAT\n",
      "EQUIPM\n",
      "MAINTHT\n",
      "EQUIPAGE\n",
      "REPLCHT\n",
      "HELPHT\n",
      "HELPHTY\n",
      "HEATOTH\n",
      "REVERSE\n",
      "WARMAIR\n",
      "FURNFUEL\n",
      "STEAMR\n",
      "RADFUEL\n",
      "PERMELEC\n",
      "PIPELESS\n",
      "PIPEFUEL\n",
      "ROOMHEAT\n",
      "RMHTFUEL\n",
      "WOODKILN\n",
      "HSFUEL\n",
      "CARRYKER\n",
      "CHIMNEY\n",
      "FPFUEL\n",
      "NGFPFLUE\n",
      "USENGFP\n",
      "RANGE\n",
      "RNGFUEL\n",
      "DIFFUEL\n",
      "EQMAMT\n",
      "THERMAIN\n",
      "AUTOHEATNITE\n",
      "AUTOHEATDAY\n",
      "TEMPGONE\n",
      "USEMOISTURE\n"
     ]
    }
   ],
   "source": [
    "data = dropcolsinrange(data, \"HEATHOME\", \"USEMOISTURE\", colstokeep)"
   ]
  },
  {
   "cell_type": "code",
   "execution_count": 61,
   "metadata": {},
   "outputs": [],
   "source": [
    "colstoencode = ['FUELHEAT','EQUIPAUX','CARRYEL','PROTHERM','MOISTURE'] #Encode except temperature and heatroom column"
   ]
  },
  {
   "cell_type": "code",
   "execution_count": 62,
   "metadata": {},
   "outputs": [
    {
     "name": "stdout",
     "output_type": "stream",
     "text": [
      "Binary Encoding column FUELHEAT\n"
     ]
    },
    {
     "name": "stderr",
     "output_type": "stream",
     "text": [
      "C:\\Users\\Manish\\Miniconda3\\lib\\site-packages\\category_encoders\\utils.py:21: FutureWarning: is_categorical is deprecated and will be removed in a future version.  Use is_categorical_dtype instead\n",
      "  elif pd.api.types.is_categorical(cols):\n"
     ]
    },
    {
     "name": "stdout",
     "output_type": "stream",
     "text": [
      "One Hot Encoding column EQUIPAUX\n",
      "One Hot Encoding column CARRYEL\n",
      "One Hot Encoding column PROTHERM\n",
      "Boolean labels for column MOISTURE\n"
     ]
    }
   ],
   "source": [
    "data = onehotencode_cols(data, colstoencode)"
   ]
  },
  {
   "cell_type": "code",
   "execution_count": 63,
   "metadata": {},
   "outputs": [
    {
     "name": "stdout",
     "output_type": "stream",
     "text": [
      "Dropped columns:\n",
      "ZHEATHOME\n",
      "ZDNTHEAT\n",
      "ZEQUIPNOHEAT\n",
      "ZFUELNOHEAT\n",
      "ZEQUIPM\n",
      "ZFUELHEAT\n",
      "ZMAINTHT\n",
      "ZEQUIPAGE\n",
      "ZHEATOTH\n",
      "ZFURNFUEL\n",
      "ZRADFUEL\n",
      "ZPIPEFUEL\n",
      "ZRMHTFUEL\n",
      "ZHSFUEL\n",
      "ZFPFUEL\n",
      "ZNGFPFLUE\n",
      "ZUSENGFP\n",
      "ZRNGFUEL\n",
      "ZDIFFUEL\n",
      "ZEQMAMT\n",
      "ZHEATROOM\n",
      "ZTHERMAIN\n",
      "ZNUMTHERM\n",
      "ZPROTHERM\n",
      "ZAUTOHEATNITE\n",
      "ZAUTOHEATDAY\n",
      "ZTEMPHOME\n",
      "ZTEMPGONE\n",
      "ZTEMPNITE\n",
      "ZMOISTURE\n",
      "ZUSEMOISTURE\n"
     ]
    }
   ],
   "source": [
    "data = dropcolsinrange(data, \"ZHEATHOME\", \"ZUSEMOISTURE\")"
   ]
  },
  {
   "cell_type": "code",
   "execution_count": 64,
   "metadata": {},
   "outputs": [
    {
     "name": "stdout",
     "output_type": "stream",
     "text": [
      "Column_name   unique_values    frequent_element      frequency      percentage\n",
      "NUMH2ONOTNK :     4    [0]    11567    96.8517123000921%\n",
      "NUMH2OHTRS :     5    [1]    11343    94.97613664908314%\n",
      "H2OTYPE1 :     3    [1]    11591    97.05266683412877%\n",
      "FUELH2O :     9    [1]    6350    53.16922046387005%\n",
      "WHEATOTH :     3    [0]    10574    88.5372184543247%\n",
      "WHEATSIZ :     4    [2]    6052    50.67403499958134%\n",
      "WHEATAGE :     7    [3]    3728    31.214937620363393%\n",
      "WHEATBKT :     3    [0]    10072    84.33391945072427%\n",
      "HELPWH :     7    [-2]    10402    87.09704429372854%\n",
      "HELPWHY :     8    [-2]    11862    99.32177844762623%\n",
      "H2OTYPE2 :     3    [-2]    11589    97.03592062295905%\n",
      "FUELH2O2 :     8    [-2]    11590    97.04429372854392%\n",
      "WHEATSIZ2 :     4    [-2]    11650    97.5466800636356%\n",
      "WHEATAGE2 :     7    [-2]    11589    97.03592062295905%\n"
     ]
    }
   ],
   "source": [
    "get_countofmax(data,\"NUMH2ONOTNK\", \"WHEATAGE2\")"
   ]
  },
  {
   "cell_type": "code",
   "execution_count": 65,
   "metadata": {},
   "outputs": [],
   "source": [
    "colstokeep = ['FUELH2O','WHEATSIZ']"
   ]
  },
  {
   "cell_type": "code",
   "execution_count": 66,
   "metadata": {},
   "outputs": [
    {
     "name": "stdout",
     "output_type": "stream",
     "text": [
      "Dropped columns:\n",
      "NUMH2ONOTNK\n",
      "NUMH2OHTRS\n",
      "H2OTYPE1\n",
      "WHEATOTH\n",
      "WHEATAGE\n",
      "WHEATBKT\n",
      "HELPWH\n",
      "HELPWHY\n",
      "H2OTYPE2\n",
      "FUELH2O2\n",
      "WHEATSIZ2\n",
      "WHEATAGE2\n"
     ]
    }
   ],
   "source": [
    "data = dropcolsinrange(data, \"NUMH2ONOTNK\", \"WHEATAGE2\", colstokeep)"
   ]
  },
  {
   "cell_type": "code",
   "execution_count": 67,
   "metadata": {},
   "outputs": [
    {
     "name": "stdout",
     "output_type": "stream",
     "text": [
      "Binary Encoding column FUELH2O\n",
      "One Hot Encoding column WHEATSIZ\n"
     ]
    },
    {
     "name": "stderr",
     "output_type": "stream",
     "text": [
      "C:\\Users\\Manish\\Miniconda3\\lib\\site-packages\\category_encoders\\utils.py:21: FutureWarning: is_categorical is deprecated and will be removed in a future version.  Use is_categorical_dtype instead\n",
      "  elif pd.api.types.is_categorical(cols):\n"
     ]
    }
   ],
   "source": [
    "data = onehotencode_cols(data, colstokeep)"
   ]
  },
  {
   "cell_type": "code",
   "execution_count": 68,
   "metadata": {},
   "outputs": [
    {
     "name": "stdout",
     "output_type": "stream",
     "text": [
      "Dropped columns:\n",
      "ZNUMH2ONOTNK\n",
      "ZH2OTYPE1\n",
      "ZFUELH2O\n",
      "ZWHEATOTH\n",
      "ZWHEATSIZ\n",
      "ZWHEATAGE\n",
      "ZWHEATBKT\n",
      "ZH2OTYPE2\n",
      "ZFUELH2O2\n",
      "ZWHEATSIZ2\n",
      "ZWHEATAGE2\n"
     ]
    }
   ],
   "source": [
    "data = dropcolsinrange(data, \"ZNUMH2ONOTNK\", \"ZWHEATAGE2\")"
   ]
  },
  {
   "cell_type": "code",
   "execution_count": 69,
   "metadata": {},
   "outputs": [
    {
     "name": "stdout",
     "output_type": "stream",
     "text": [
      "Column_name   unique_values    frequent_element      frequency      percentage\n",
      "AIRCOND :     2    [1]    9806    82.10667336515114%\n",
      "DNTAC :     3    [-2]    9806    82.10667336515114%\n",
      "COOLTYPENOAC :     4    [-2]    11416    95.58737335677803%\n",
      "COOLTYPE :     4    [1]    7168    60.01842083228669%\n",
      "DUCTS :     3    [-2]    11496    96.25722180356694%\n",
      "CENACHP :     3    [0]    6022    50.4228418320355%\n",
      "ACOTHERS :     3    [0]    7121    59.62488486979821%\n",
      "MAINTAC :     3    [-2]    4626    38.73398643556895%\n",
      "AGECENAC :     7    [-2]    4626    38.73398643556895%\n",
      "REPLCCAC :     4    [-2]    10254    85.85782466716906%\n",
      "HELPCAC :     8    [-2]    8356    69.96567026710207%\n",
      "HELPCACY :     8    [-2]    11647    97.52156074688102%\n",
      "ACROOMS :     19    [-2]    4626    38.73398643556895%\n",
      "USECENAC :     4    [-2]    4626    38.73398643556895%\n",
      "THERMAINAC :     3    [1]    7172    60.05191325462614%\n",
      "PROTHERMAC :     3    [-2]    4771    39.94808674537386%\n",
      "AUTOCOOLNITE :     3    [-2]    8363    70.0242820061961%\n",
      "AUTOCOOLDAY :     3    [-2]    8363    70.0242820061961%\n",
      "TEMPHOMEAC :     30    [-2]    6714    56.21703089675961%\n",
      "TEMPGONEAC :     37    [-2]    6714    56.21703089675961%\n",
      "TEMPNITEAC :     37    [-2]    6714    56.21703089675961%\n",
      "NUMBERAC :     10    [-2]    9305    77.91174746713556%\n",
      "WWACAGE :     7    [-2]    9305    77.91174746713556%\n",
      "ESWWAC :     5    [-2]    9903    82.91886460688269%\n",
      "REPLCWWAC :     4    [-2]    10847    90.82307627899188%\n",
      "HELPWWAC :     7    [-2]    10987    91.99531106087248%\n",
      "HELPWWACY :     6    [-2]    11913    99.74880683245416%\n",
      "USEWWAC :     4    [-2]    9305    77.91174746713556%\n",
      "NUMCFAN :     14    [0]    3305    27.67311395796701%\n",
      "USECFAN :     5    [-2]    3305    27.67311395796701%\n",
      "TREESHAD :     2    [0]    6603    55.28761617683999%\n",
      "NOTMOIST :     2    [0]    10352    86.67838901448548%\n",
      "USENOTMOIST :     6    [-2]    10352    86.67838901448548%\n"
     ]
    }
   ],
   "source": [
    "get_countofmax(data, \"AIRCOND\", \"USENOTMOIST\")"
   ]
  },
  {
   "cell_type": "code",
   "execution_count": 70,
   "metadata": {},
   "outputs": [],
   "source": [
    "colstokeep = ['DNTAC','COOLTYPE','CENACHP','ACOTHERS','ACROOMS','USECENAC',\n",
    "              'PROTHERMAC','TEMPHOMEAC','TEMPNITEAC','NUMBERAC','NUMCFAN','USECFAN','TREESHAD','NOTMOIST']"
   ]
  },
  {
   "cell_type": "code",
   "execution_count": 71,
   "metadata": {},
   "outputs": [
    {
     "name": "stdout",
     "output_type": "stream",
     "text": [
      "Dropped columns:\n",
      "AIRCOND\n",
      "COOLTYPENOAC\n",
      "DUCTS\n",
      "MAINTAC\n",
      "AGECENAC\n",
      "REPLCCAC\n",
      "HELPCAC\n",
      "HELPCACY\n",
      "THERMAINAC\n",
      "AUTOCOOLNITE\n",
      "AUTOCOOLDAY\n",
      "TEMPGONEAC\n",
      "WWACAGE\n",
      "ESWWAC\n",
      "REPLCWWAC\n",
      "HELPWWAC\n",
      "HELPWWACY\n",
      "USEWWAC\n",
      "USENOTMOIST\n"
     ]
    }
   ],
   "source": [
    "data = dropcolsinrange(data, \"AIRCOND\", \"USENOTMOIST\", colstokeep)"
   ]
  },
  {
   "cell_type": "code",
   "execution_count": 72,
   "metadata": {},
   "outputs": [],
   "source": [
    "colstoencode = ['COOLTYPE','CENACHP','ACOTHERS','ACROOMS','USECENAC',\n",
    "              'PROTHERMAC','ESWWAC','USECFAN','TREESHAD','NOTMOIST']"
   ]
  },
  {
   "cell_type": "code",
   "execution_count": 73,
   "metadata": {},
   "outputs": [
    {
     "name": "stdout",
     "output_type": "stream",
     "text": [
      "One Hot Encoding column COOLTYPE\n",
      "One Hot Encoding column CENACHP\n",
      "One Hot Encoding column ACOTHERS\n",
      "Binary Encoding column ACROOMS\n",
      "One Hot Encoding column USECENAC\n"
     ]
    },
    {
     "name": "stderr",
     "output_type": "stream",
     "text": [
      "C:\\Users\\Manish\\Miniconda3\\lib\\site-packages\\category_encoders\\utils.py:21: FutureWarning: is_categorical is deprecated and will be removed in a future version.  Use is_categorical_dtype instead\n",
      "  elif pd.api.types.is_categorical(cols):\n"
     ]
    },
    {
     "name": "stdout",
     "output_type": "stream",
     "text": [
      "One Hot Encoding column PROTHERMAC\n",
      "'ESWWAC'\n"
     ]
    }
   ],
   "source": [
    "data = onehotencode_cols(data, colstoencode)"
   ]
  },
  {
   "cell_type": "code",
   "execution_count": 74,
   "metadata": {},
   "outputs": [
    {
     "name": "stdout",
     "output_type": "stream",
     "text": [
      "Dropped columns:\n",
      "ZAIRCOND\n",
      "ZDNTAC\n",
      "ZCOOLTYPENOAC\n",
      "ZCOOLTYPE\n",
      "ZDUCTS\n",
      "ZCENACHP\n",
      "ZACOTHERS\n",
      "ZMAINTAC\n",
      "ZAGECENAC\n",
      "ZUSECENAC\n",
      "ZACROOMS\n",
      "ZTHERMAINAC\n",
      "ZPROTHERMAC\n",
      "ZAUTOCOOLNITE\n",
      "ZAUTOCOOLDAY\n",
      "ZTEMPHOMEAC\n",
      "ZTEMPGONEAC\n",
      "ZTEMPNITEAC\n",
      "ZNUMBERAC\n",
      "ZWWACAGE\n",
      "ZUSEWWAC\n",
      "ZNUMCFAN\n",
      "ZUSECFAN\n",
      "ZTREESHAD\n",
      "ZNOTMOIST\n",
      "ZUSENOTMOIST\n"
     ]
    }
   ],
   "source": [
    "data = dropcolsinrange(data, \"ZAIRCOND\", \"ZUSENOTMOIST\")"
   ]
  },
  {
   "cell_type": "code",
   "execution_count": 75,
   "metadata": {},
   "outputs": [
    {
     "name": "stdout",
     "output_type": "stream",
     "text": [
      "Column_name   unique_values    frequent_element      frequency      percentage\n",
      "HIGHCEIL :     3    [0]    8063    67.51235033073768%\n",
      "CATHCEIL :     3    [-2]    8601    72.01708113539311%\n",
      "SWIMPOOL :     3    [0]    7728    64.7073599598091%\n",
      "POOL :     3    [-2]    11114    93.05869547014987%\n",
      "FUELPOOL :     7    [-2]    11740    98.30025956627313%\n",
      "RECBATH :     2    [0]    11297    94.59097379217953%\n",
      "FUELTUB :     7    [-2]    11297    94.59097379217953%\n",
      "LGT12 :     19    [0]    9333    78.14619442351169%\n",
      "LGT12EE :     16    [-2]    9333    78.14619442351169%\n",
      "LGT4 :     24    [0]    4303    36.029473331658714%\n",
      "LGT4EE :     21    [-2]    4303    36.029473331658714%\n",
      "LGT1 :     32    [2]    3229    27.036757933517542%\n",
      "LGT1EE :     28    [0]    4074    34.11203215272545%\n",
      "NOUTLGTNT :     16    [0]    5772    48.32956543582014%\n",
      "LGTOEE :     15    [-2]    9158    76.68090094616093%\n",
      "NGASLIGHT :     4    [-2]    9158    76.68090094616093%\n",
      "INSTLCFL :     5    [1]    6481    54.266097295486894%\n",
      "HELPCFL :     6    [0]    6038    50.556811521393286%\n",
      "HELPCFLY :     8    [-2]    11500    96.2907142259064%\n",
      "SLDDRS :     2    [0]    7616    63.76957213430461%\n",
      "DOOR1SUM :     10    [0]    7616    63.76957213430461%\n",
      "WINDOWS :     8    [41]    4012    33.59289960646404%\n",
      "TYPEGLASS :     4    [2]    6667    55.823494934271125%\n",
      "NEWGLASS :     4    [3]    8209    68.73482374612743%\n",
      "HELPWIN :     9    [-2]    8278    69.31256803148288%\n",
      "HELPWINY :     9    [-2]    11505    96.3325797538307%\n",
      "ADQINSUL :     4    [2]    5220    43.70761115297664%\n",
      "INSTLINS :     2    [0]    9269    77.61031566608055%\n",
      "AGEINS :     7    [-2]    9269    77.61031566608055%\n",
      "HELPINS :     8    [-2]    10826    90.64724106170979%\n",
      "HELPINSY :     7    [-2]    11768    98.53470652264924%\n",
      "DRAFTY :     4    [4]    6378    53.40366742024617%\n",
      "INSTLWS :     2    [0]    7661    64.14636188562338%\n",
      "AGEWS :     7    [-2]    7661    64.14636188562338%\n",
      "HELPWS :     8    [-2]    8914    74.63786318345474%\n",
      "HELPWSY :     7    [-2]    11828    99.03709285774094%\n",
      "AUDIT :     2    [0]    11373    95.227329816629%\n",
      "AGEAUD :     7    [-2]    11373    95.227329816629%\n",
      "HELPAUD :     6    [-2]    11646    97.51318764129616%\n",
      "HELPAUDY :     8    [-2]    11832    99.07058528008038%\n"
     ]
    }
   ],
   "source": [
    "get_countofmax(data, \"HIGHCEIL\", \"HELPAUDY\")"
   ]
  },
  {
   "cell_type": "code",
   "execution_count": 76,
   "metadata": {},
   "outputs": [],
   "source": [
    "colstokeep = ['HIGHCEIL','CATHCEIL','LGT12','LGT4','LGT1','LGTOEE','INSTLCFL'\n",
    "              'TYPEGLASS','DOOR1SUM','WINDOWS','ADQINSUL','INSTLINS','DRAFTY','INSTLWS']"
   ]
  },
  {
   "cell_type": "code",
   "execution_count": 77,
   "metadata": {},
   "outputs": [
    {
     "name": "stdout",
     "output_type": "stream",
     "text": [
      "Dropped columns:\n",
      "SWIMPOOL\n",
      "POOL\n",
      "FUELPOOL\n",
      "RECBATH\n",
      "FUELTUB\n",
      "LGT12EE\n",
      "LGT4EE\n",
      "LGT1EE\n",
      "NOUTLGTNT\n",
      "NGASLIGHT\n",
      "INSTLCFL\n",
      "HELPCFL\n",
      "HELPCFLY\n",
      "SLDDRS\n",
      "TYPEGLASS\n",
      "NEWGLASS\n",
      "HELPWIN\n",
      "HELPWINY\n",
      "AGEINS\n",
      "HELPINS\n",
      "HELPINSY\n",
      "AGEWS\n",
      "HELPWS\n",
      "HELPWSY\n",
      "AUDIT\n",
      "AGEAUD\n",
      "HELPAUD\n",
      "HELPAUDY\n"
     ]
    }
   ],
   "source": [
    "data = dropcolsinrange(data, \"HIGHCEIL\", \"HELPAUDY\", colstokeep)"
   ]
  },
  {
   "cell_type": "code",
   "execution_count": 78,
   "metadata": {},
   "outputs": [],
   "source": [
    "colstoencode = ['HIGHCEIL','CATHCEIL','ADQINSUL','INSTLINS','DRAFTY','INSTLWS']"
   ]
  },
  {
   "cell_type": "code",
   "execution_count": 80,
   "metadata": {},
   "outputs": [
    {
     "name": "stdout",
     "output_type": "stream",
     "text": [
      "One Hot Encoding column HIGHCEIL\n",
      "One Hot Encoding column CATHCEIL\n",
      "One Hot Encoding column ADQINSUL\n",
      "Boolean labels for column INSTLINS\n",
      "One Hot Encoding column DRAFTY\n",
      "Boolean labels for column INSTLWS\n"
     ]
    }
   ],
   "source": [
    "data = onehotencode_cols(data,colstoencode)"
   ]
  },
  {
   "cell_type": "code",
   "execution_count": 81,
   "metadata": {},
   "outputs": [
    {
     "name": "stdout",
     "output_type": "stream",
     "text": [
      "Dropped columns:\n",
      "ZHIGHCEIL\n",
      "ZCATHCEIL\n",
      "ZSWIMPOOL\n",
      "ZPOOL\n",
      "ZFUELPOOL\n",
      "ZRECBATH\n",
      "ZFUELTUB\n",
      "ZLGT12\n",
      "ZLGT4\n",
      "ZLGT1\n",
      "ZNOUTLGTNT\n",
      "ZNGASLIGHT\n",
      "ZSLDDRS\n",
      "ZDOOR1SUM\n",
      "ZWINDOWS\n",
      "ZTYPEGLASS\n",
      "ZNEWGLASS\n",
      "ZADQINSUL\n",
      "ZINSTLINS\n",
      "ZAGEINS\n",
      "ZDRAFTY\n",
      "ZINSTLWS\n",
      "ZAGEWS\n",
      "ZAUDIT\n",
      "ZAGEAUD\n"
     ]
    }
   ],
   "source": [
    "data = dropcolsinrange(data, \"ZHIGHCEIL\", \"ZAGEAUD\")"
   ]
  },
  {
   "cell_type": "code",
   "execution_count": 82,
   "metadata": {},
   "outputs": [
    {
     "name": "stdout",
     "output_type": "stream",
     "text": [
      "Column_name   unique_values    frequent_element      frequency      percentage\n",
      "USEEL :     1    [1]    11943    100.0%\n",
      "USENG :     2    [1]    7444    62.329397973708446%\n",
      "USELP :     2    [0]    6812    57.03759524407602%\n",
      "USEFO :     2    [0]    11047    92.49769739596417%\n",
      "USEKERO :     2    [0]    11777    98.61006447291301%\n",
      "USEWOOD :     2    [0]    10541    88.26090597002428%\n",
      "USESOLAR :     2    [0]    11802    98.81939211253454%\n",
      "USEOTH :     2    [0]    9497    79.51938373942895%\n",
      "ELWARM :     2    [1]    6043    50.59867704931759%\n",
      "ELECAUX :     2    [0]    9142    76.54693125680315%\n",
      "ELCOOL :     2    [1]    9806    82.10667336515114%\n",
      "ELWATER :     2    [0]    7234    60.571045800887546%\n",
      "ELFOOD :     2    [1]    7567    63.3592899606464%\n",
      "ELOTHER :     2    [1]    11942    99.99162689441515%\n",
      "UGWARM :     2    [1]    6056    50.707527421920794%\n",
      "UGASAUX :     2    [0]    11146    93.32663484886544%\n",
      "UGWATER :     2    [1]    6358    53.236205308548946%\n",
      "UGCOOK :     2    [0]    7770    65.05903039437328%\n",
      "UGOTH :     2    [0]    9628    80.6162605710458%\n",
      "LPWARM :     2    [0]    11240    94.11370677384242%\n",
      "LPGAUX :     2    [0]    11682    97.81461944235117%\n",
      "LPWATER :     2    [0]    11541    96.63401155488572%\n",
      "LPCOOK :     2    [0]    11452    95.88880515783305%\n",
      "LPOTHER :     2    [0]    7257    60.763627229339356%\n",
      "FOWARM :     2    [0]    11091    92.86611404169807%\n",
      "FOILAUX :     2    [0]    11891    99.56459850958721%\n",
      "FOWATER :     2    [0]    11482    96.13999832537888%\n",
      "FOOTHER :     2    [0]    11923    99.83253788830278%\n",
      "KRWARM :     2    [0]    11816    98.9366155907226%\n",
      "KEROAUX :     2    [0]    11867    99.36364397555053%\n",
      "KRWATER :     2    [0]    11940    99.97488068324542%\n",
      "KROTHER :     2    [0]    11905    99.68182198777527%\n",
      "WDWARM :     2    [0]    10708    89.65921460269614%\n",
      "WOODAUX :     2    [0]    10987    91.99531106087248%\n",
      "WDWATER :     2    [0]    11931    99.89952273298167%\n",
      "WDOTHUSE :     2    [0]    11764    98.50121410030981%\n",
      "SOLWARM :     2    [0]    11939    99.96650757766055%\n",
      "SOLARAUX :     2    [0]    11940    99.97488068324542%\n",
      "SOLWATER :     2    [0]    11923    99.83253788830278%\n",
      "SOLOTHER :     2    [0]    11822    98.98685422423176%\n",
      "OTHWARM :     2    [0]    11836    99.10407770241983%\n",
      "OTHERAUX :     2    [0]    11878    99.45574813698401%\n",
      "OTHWATER :     2    [0]    11931    99.89952273298167%\n",
      "OTHCOOK :     2    [0]    11924    99.84091099388763%\n",
      "ONSITE :     2    [0]    11876    99.43900192581428%\n",
      "ONSITEGRID :     3    [-2]    11876    99.43900192581428%\n",
      "PELHEAT :     4    [-2]    5900    49.401322950682406%\n",
      "PELHOTWA :     4    [-2]    7234    60.571045800887546%\n",
      "PELCOOK :     4    [1]    7209    60.36171816126601%\n",
      "PELAC :     4    [1]    7071    59.20622959055514%\n",
      "PELLIGHT :     4    [1]    11281    94.45700410282174%\n",
      "OTHERWAYEL :     4    [-2]    11817    98.94498869630746%\n",
      "PGASHEAT :     4    [-2]    5886    49.28409947249435%\n",
      "PGASHTWA :     4    [1]    5682    47.57598593318262%\n",
      "PUGCOOK :     4    [-2]    7770    65.05903039437328%\n",
      "PUGOTH :     5    [-2]    9903    82.91886460688269%\n",
      "OTHERWAYNG :     4    [-2]    11852    99.23804739177761%\n",
      "FOPAY :     4    [-2]    11047    92.49769739596417%\n",
      "OTHERWAYFO :     4    [-2]    11921    99.81579167713305%\n",
      "LPGPAY :     4    [-2]    9147    76.58879678472745%\n",
      "OTHERWAYLPG :     4    [-2]    11916    99.77392614920875%\n",
      "LPGDELV :     4    [-2]    9201    77.04094448630997%\n",
      "KERODEL :     3    [-2]    11777    98.61006447291301%\n",
      "KEROCASH :     3    [-2]    11777    98.61006447291301%\n",
      "NOCRCASH :     29    [-2]    9840    82.39135895503642%\n",
      "NKRGALNC :     21    [-2]    9840    82.39135895503642%\n",
      "WOODLOGS :     3    [-2]    10541    88.26090597002428%\n",
      "WDSCRAP :     3    [-2]    10541    88.26090597002428%\n",
      "WDPELLET :     3    [-2]    10541    88.26090597002428%\n",
      "WDOTHER :     3    [-2]    10541    88.26090597002428%\n",
      "WOODAMT :     6    [-2]    10541    88.26090597002428%\n",
      "1\n"
     ]
    }
   ],
   "source": [
    "get_countofmax(data, \"USEEL\", \"NUMCORDS\") \n",
    "#Error because numcords is not strict numerical columns. This can be ignored for now as its not important for prediction."
   ]
  },
  {
   "cell_type": "code",
   "execution_count": 83,
   "metadata": {},
   "outputs": [
    {
     "name": "stdout",
     "output_type": "stream",
     "text": [
      "Dropped columns:\n",
      "USEEL\n",
      "USENG\n",
      "USELP\n",
      "USEFO\n",
      "USEKERO\n",
      "USEWOOD\n",
      "USESOLAR\n",
      "USEOTH\n",
      "ELWARM\n",
      "ELECAUX\n",
      "ELCOOL\n",
      "ELWATER\n",
      "ELFOOD\n",
      "ELOTHER\n",
      "UGWARM\n",
      "UGASAUX\n",
      "UGWATER\n",
      "UGCOOK\n",
      "UGOTH\n",
      "LPWARM\n",
      "LPGAUX\n",
      "LPWATER\n",
      "LPCOOK\n",
      "LPOTHER\n",
      "FOWARM\n",
      "FOILAUX\n",
      "FOWATER\n",
      "FOOTHER\n",
      "KRWARM\n",
      "KEROAUX\n",
      "KRWATER\n",
      "KROTHER\n",
      "WDWARM\n",
      "WOODAUX\n",
      "WDWATER\n",
      "WDOTHUSE\n",
      "SOLWARM\n",
      "SOLARAUX\n",
      "SOLWATER\n",
      "SOLOTHER\n",
      "OTHWARM\n",
      "OTHERAUX\n",
      "OTHWATER\n",
      "OTHCOOK\n",
      "ONSITE\n",
      "ONSITEGRID\n",
      "PELHEAT\n",
      "PELHOTWA\n",
      "PELCOOK\n",
      "PELAC\n",
      "PELLIGHT\n",
      "OTHERWAYEL\n",
      "PGASHEAT\n",
      "PGASHTWA\n",
      "PUGCOOK\n",
      "PUGOTH\n",
      "OTHERWAYNG\n",
      "FOPAY\n",
      "OTHERWAYFO\n",
      "LPGPAY\n",
      "OTHERWAYLPG\n",
      "LPGDELV\n",
      "KERODEL\n",
      "KEROCASH\n",
      "NOCRCASH\n",
      "NKRGALNC\n",
      "WOODLOGS\n",
      "WDSCRAP\n",
      "WDPELLET\n",
      "WDOTHER\n",
      "WOODAMT\n",
      "NUMCORDS\n"
     ]
    }
   ],
   "source": [
    "data = dropcolsinrange(data,  \"USEEL\", \"NUMCORDS\")"
   ]
  },
  {
   "cell_type": "code",
   "execution_count": 84,
   "metadata": {},
   "outputs": [
    {
     "data": {
      "text/html": [
       "<div>\n",
       "<style scoped>\n",
       "    .dataframe tbody tr th:only-of-type {\n",
       "        vertical-align: middle;\n",
       "    }\n",
       "\n",
       "    .dataframe tbody tr th {\n",
       "        vertical-align: top;\n",
       "    }\n",
       "\n",
       "    .dataframe thead th {\n",
       "        text-align: right;\n",
       "    }\n",
       "</style>\n",
       "<table border=\"1\" class=\"dataframe\">\n",
       "  <thead>\n",
       "    <tr style=\"text-align: right;\">\n",
       "      <th></th>\n",
       "      <th>HDD65</th>\n",
       "      <th>CDD65</th>\n",
       "      <th>UR</th>\n",
       "      <th>TOTROOMS</th>\n",
       "      <th>TOASTER</th>\n",
       "      <th>COFFEE</th>\n",
       "      <th>ZSTOVEN</th>\n",
       "      <th>ZSTOVENFUEL</th>\n",
       "      <th>DRYER</th>\n",
       "      <th>STEREO</th>\n",
       "      <th>...</th>\n",
       "      <th>HIGHCEIL_0</th>\n",
       "      <th>HIGHCEIL_1</th>\n",
       "      <th>CATHCEIL_0</th>\n",
       "      <th>CATHCEIL_1</th>\n",
       "      <th>ADQINSUL_2</th>\n",
       "      <th>ADQINSUL_3</th>\n",
       "      <th>ADQINSUL_4</th>\n",
       "      <th>DRAFTY_2</th>\n",
       "      <th>DRAFTY_3</th>\n",
       "      <th>DRAFTY_4</th>\n",
       "    </tr>\n",
       "  </thead>\n",
       "  <tbody>\n",
       "    <tr>\n",
       "      <th>0</th>\n",
       "      <td>4742</td>\n",
       "      <td>1080</td>\n",
       "      <td>1</td>\n",
       "      <td>9</td>\n",
       "      <td>1</td>\n",
       "      <td>0</td>\n",
       "      <td>0</td>\n",
       "      <td>0</td>\n",
       "      <td>0</td>\n",
       "      <td>1</td>\n",
       "      <td>...</td>\n",
       "      <td>1</td>\n",
       "      <td>0</td>\n",
       "      <td>0</td>\n",
       "      <td>0</td>\n",
       "      <td>0</td>\n",
       "      <td>0</td>\n",
       "      <td>0</td>\n",
       "      <td>0</td>\n",
       "      <td>0</td>\n",
       "      <td>1</td>\n",
       "    </tr>\n",
       "    <tr>\n",
       "      <th>1</th>\n",
       "      <td>2662</td>\n",
       "      <td>199</td>\n",
       "      <td>1</td>\n",
       "      <td>4</td>\n",
       "      <td>1</td>\n",
       "      <td>0</td>\n",
       "      <td>0</td>\n",
       "      <td>0</td>\n",
       "      <td>0</td>\n",
       "      <td>1</td>\n",
       "      <td>...</td>\n",
       "      <td>0</td>\n",
       "      <td>1</td>\n",
       "      <td>0</td>\n",
       "      <td>1</td>\n",
       "      <td>0</td>\n",
       "      <td>1</td>\n",
       "      <td>0</td>\n",
       "      <td>0</td>\n",
       "      <td>0</td>\n",
       "      <td>0</td>\n",
       "    </tr>\n",
       "    <tr>\n",
       "      <th>2</th>\n",
       "      <td>6233</td>\n",
       "      <td>505</td>\n",
       "      <td>1</td>\n",
       "      <td>2</td>\n",
       "      <td>1</td>\n",
       "      <td>1</td>\n",
       "      <td>0</td>\n",
       "      <td>0</td>\n",
       "      <td>1</td>\n",
       "      <td>0</td>\n",
       "      <td>...</td>\n",
       "      <td>1</td>\n",
       "      <td>0</td>\n",
       "      <td>0</td>\n",
       "      <td>0</td>\n",
       "      <td>1</td>\n",
       "      <td>0</td>\n",
       "      <td>0</td>\n",
       "      <td>0</td>\n",
       "      <td>0</td>\n",
       "      <td>1</td>\n",
       "    </tr>\n",
       "    <tr>\n",
       "      <th>3</th>\n",
       "      <td>6034</td>\n",
       "      <td>672</td>\n",
       "      <td>1</td>\n",
       "      <td>7</td>\n",
       "      <td>1</td>\n",
       "      <td>0</td>\n",
       "      <td>0</td>\n",
       "      <td>0</td>\n",
       "      <td>0</td>\n",
       "      <td>0</td>\n",
       "      <td>...</td>\n",
       "      <td>1</td>\n",
       "      <td>0</td>\n",
       "      <td>0</td>\n",
       "      <td>0</td>\n",
       "      <td>0</td>\n",
       "      <td>0</td>\n",
       "      <td>0</td>\n",
       "      <td>0</td>\n",
       "      <td>0</td>\n",
       "      <td>1</td>\n",
       "    </tr>\n",
       "    <tr>\n",
       "      <th>4</th>\n",
       "      <td>5388</td>\n",
       "      <td>702</td>\n",
       "      <td>1</td>\n",
       "      <td>5</td>\n",
       "      <td>1</td>\n",
       "      <td>0</td>\n",
       "      <td>0</td>\n",
       "      <td>0</td>\n",
       "      <td>0</td>\n",
       "      <td>1</td>\n",
       "      <td>...</td>\n",
       "      <td>1</td>\n",
       "      <td>0</td>\n",
       "      <td>0</td>\n",
       "      <td>0</td>\n",
       "      <td>1</td>\n",
       "      <td>0</td>\n",
       "      <td>0</td>\n",
       "      <td>0</td>\n",
       "      <td>0</td>\n",
       "      <td>1</td>\n",
       "    </tr>\n",
       "  </tbody>\n",
       "</table>\n",
       "<p>5 rows × 479 columns</p>\n",
       "</div>"
      ],
      "text/plain": [
       "   HDD65  CDD65  UR  TOTROOMS  TOASTER  COFFEE  ZSTOVEN  ZSTOVENFUEL  DRYER  \\\n",
       "0   4742   1080   1         9        1       0        0            0      0   \n",
       "1   2662    199   1         4        1       0        0            0      0   \n",
       "2   6233    505   1         2        1       1        0            0      1   \n",
       "3   6034    672   1         7        1       0        0            0      0   \n",
       "4   5388    702   1         5        1       0        0            0      0   \n",
       "\n",
       "   STEREO  ...  HIGHCEIL_0  HIGHCEIL_1  CATHCEIL_0  CATHCEIL_1  ADQINSUL_2  \\\n",
       "0       1  ...           1           0           0           0           0   \n",
       "1       1  ...           0           1           0           1           0   \n",
       "2       0  ...           1           0           0           0           1   \n",
       "3       0  ...           1           0           0           0           0   \n",
       "4       1  ...           1           0           0           0           1   \n",
       "\n",
       "   ADQINSUL_3  ADQINSUL_4  DRAFTY_2  DRAFTY_3  DRAFTY_4  \n",
       "0           0           0         0         0         1  \n",
       "1           1           0         0         0         0  \n",
       "2           0           0         0         0         1  \n",
       "3           0           0         0         0         1  \n",
       "4           0           0         0         0         1  \n",
       "\n",
       "[5 rows x 479 columns]"
      ]
     },
     "execution_count": 84,
     "metadata": {},
     "output_type": "execute_result"
    }
   ],
   "source": [
    "data.head()"
   ]
  },
  {
   "cell_type": "code",
   "execution_count": 85,
   "metadata": {},
   "outputs": [
    {
     "name": "stdout",
     "output_type": "stream",
     "text": [
      "Dropped columns:\n",
      "ZONSITE\n",
      "ZONSITEGRID\n",
      "ZPELHEAT\n",
      "ZPELHOTWA\n",
      "ZPELCOOK\n",
      "ZPELAC\n",
      "ZPELLIGHT\n",
      "ZOTHERWAYEL\n",
      "ZPGASHEAT\n",
      "ZPGASHTWA\n",
      "ZPUGCOOK\n",
      "ZPUGOTH\n",
      "ZOTHERWAYNG\n",
      "ZFOPAY\n",
      "ZOTHERWAYFO\n",
      "ZLPGPAY\n",
      "ZOTHERWAYLPG\n",
      "ZKERODEL\n",
      "ZKEROCASH\n",
      "ZNOCRCASH\n",
      "ZNKRGALNC\n",
      "ZWOODLOGS\n",
      "ZWDSCRAP\n",
      "ZWDPELLET\n",
      "ZWDOTHER\n",
      "ZWOODAMT\n",
      "ZNUMCORDS\n"
     ]
    }
   ],
   "source": [
    "#Drop columns from ZONSITE to ZNUMCORDS\n",
    "data = dropcolsinrange(data,  \"ZONSITE\",\"ZNUMCORDS\")"
   ]
  },
  {
   "cell_type": "code",
   "execution_count": 86,
   "metadata": {},
   "outputs": [
    {
     "name": "stdout",
     "output_type": "stream",
     "text": [
      "Dropped columns:\n",
      "EMPLOYHH\n",
      "SPOUSE\n",
      "SDESCENT\n",
      "Householder_Race\n",
      "EDUCATION\n",
      "NHSLDMEM\n",
      "HHAGE\n",
      "AGEHHMEMCAT2\n",
      "AGEHHMEMCAT3\n",
      "AGEHHMEMCAT4\n",
      "AGEHHMEMCAT5\n",
      "AGEHHMEMCAT6\n",
      "AGEHHMEMCAT7\n",
      "AGEHHMEMCAT8\n",
      "AGEHHMEMCAT9\n",
      "AGEHHMEMCAT10\n",
      "AGEHHMEMCAT11\n",
      "AGEHHMEMCAT12\n",
      "AGEHHMEMCAT13\n",
      "AGEHHMEMCAT14\n",
      "HBUSNESS\n",
      "ATHOME\n",
      "TELLWORK\n",
      "TELLDAYS\n",
      "OTHWORK\n",
      "WORKPAY\n",
      "RETIREPY\n",
      "SSINCOME\n",
      "CASHBEN\n",
      "INVESTMT\n",
      "RGLRPAY\n",
      "MONEYPY\n",
      "POVERTY100\n",
      "POVERTY150\n",
      "HUPROJ\n",
      "RENTHELP\n",
      "FOODASST\n",
      "ZHHSEX\n",
      "ZHHAGE\n",
      "ZEMPLOYHH\n",
      "ZSPOUSE\n",
      "ZSDESCENT\n",
      "ZHouseholder_Race\n",
      "ZEDUCATION\n",
      "ZNHSLDMEM\n",
      "ZAGEHHMEMCAT2\n",
      "ZAGEHHMEMCAT3\n",
      "ZAGEHHMEMCAT4\n",
      "ZAGEHHMEMCAT5\n",
      "ZAGEHHMEMCAT6\n",
      "ZAGEHHMEMCAT7\n",
      "ZAGEHHMEMCAT8\n",
      "ZAGEHHMEMCAT9\n",
      "ZAGEHHMEMCAT10\n",
      "ZAGEHHMEMCAT11\n",
      "ZAGEHHMEMCAT12\n",
      "ZAGEHHMEMCAT13\n",
      "ZAGEHHMEMCAT14\n",
      "ZHBUSNESS\n",
      "ZATHOME\n",
      "ZTELLWORK\n",
      "ZTELLDAYS\n",
      "ZOTHWORK\n",
      "ZWORKPAY\n",
      "ZRETIREPY\n",
      "ZSSINCOME\n",
      "ZCASHBEN\n",
      "ZINVESTMT\n",
      "ZRGLRPAY\n",
      "ZMONEYPY\n",
      "ZHUPROJ\n",
      "ZRENTHELP\n",
      "ZFOODASST\n"
     ]
    }
   ],
   "source": [
    "#Drop demographic data from EMPLOYHH to ZFOODASST\n",
    "data = dropcolsinrange(data,  \"EMPLOYHH\",\"ZFOODASST\")"
   ]
  },
  {
   "cell_type": "code",
   "execution_count": 87,
   "metadata": {},
   "outputs": [
    {
     "name": "stdout",
     "output_type": "stream",
     "text": [
      "Dropped columns:\n",
      "TOTSQFT_EN\n",
      "TOTHSQFT\n",
      "TOTUSQFT\n",
      "TOTCSQFT\n",
      "TOTUCSQFT\n",
      "ZTOTSQFT\n",
      "ZTOTSQFT_EN\n",
      "ZTOTHSQFT\n",
      "ZTOTUSQFT\n",
      "ZTOTCSQFT\n",
      "ZTOTUCSQFT\n"
     ]
    }
   ],
   "source": [
    "#Drop columns between TOTSQFT to ZTOTUCSQFT. keep only TOTSQFT for now (other columns seem collinear)\n",
    "data = dropcolsinrange(data,  \"TOTSQFT\",\"ZTOTUCSQFT\", ['TOTSQFT'])"
   ]
  },
  {
   "cell_type": "code",
   "execution_count": 88,
   "metadata": {},
   "outputs": [
    {
     "name": "stdout",
     "output_type": "stream",
     "text": [
      "Dropped columns:\n",
      "KWHSPH\n",
      "KWHCOL\n",
      "KWHWTH\n",
      "KWHRFG\n",
      "KWHOTH\n",
      "BTUEL\n",
      "BTUELSPH\n",
      "BTUELCOL\n",
      "BTUELWTH\n",
      "BTUELRFG\n",
      "BTUELOTH\n",
      "DOLLAREL\n",
      "DOLELSPH\n",
      "DOLELCOL\n",
      "DOLELWTH\n",
      "DOLELRFG\n",
      "DOLELOTH\n",
      "CUFEETNG\n",
      "CUFEETNGSPH\n",
      "CUFEETNGWTH\n",
      "CUFEETNGOTH\n",
      "BTUNG\n",
      "BTUNGSPH\n",
      "BTUNGWTH\n",
      "BTUNGOTH\n",
      "DOLLARNG\n",
      "DOLNGSPH\n",
      "DOLNGWTH\n",
      "DOLNGOTH\n",
      "GALLONLP\n",
      "GALLONLPSPH\n",
      "GALLONLPWTH\n",
      "GALLONLPOTH\n",
      "BTULP\n",
      "BTULPSPH\n",
      "BTULPWTH\n",
      "BTULPOTH\n",
      "DOLLARLP\n",
      "DOLLPSPH\n",
      "DOLLPWTH\n",
      "DOLLPOTH\n",
      "GALLONFO\n",
      "GALLONFOSPH\n",
      "GALLONFOWTH\n",
      "GALLONFOOTH\n",
      "BTUFO\n",
      "BTUFOSPH\n",
      "BTUFOWTH\n",
      "BTUFOOTH\n",
      "DOLLARFO\n",
      "DOLFOSPH\n",
      "DOLFOWTH\n",
      "DOLFOOTH\n",
      "GALLONKER\n",
      "GALLONKERSPH\n",
      "GALLONKERWTH\n",
      "GALLONKEROTH\n",
      "BTUKER\n",
      "BTUKERSPH\n",
      "BTUKERWTH\n",
      "BTUKEROTH\n",
      "DOLLARKER\n",
      "DOLKERSPH\n",
      "DOLKERWTH\n",
      "DOLKEROTH\n",
      "BTUWOOD\n",
      "CORDSWD\n",
      "TOTALBTU\n",
      "TOTALBTUSPH\n",
      "TOTALBTUCOL\n",
      "TOTALBTUWTH\n",
      "TOTALBTURFG\n",
      "TOTALBTUOTH\n",
      "TOTALDOL\n",
      "TOTALDOLSPH\n",
      "TOTALDOLCOL\n",
      "TOTALDOLWTH\n",
      "TOTALDOLRFG\n",
      "TOTALDOLOTH\n",
      "KAVALEL\n",
      "PERIODEL\n",
      "SCALEEL\n",
      "KAVALNG\n",
      "PERIODNG\n",
      "SCALENG\n",
      "PERIODLP\n",
      "SCALELP\n",
      "PERIODFO\n",
      "SCALEFO\n",
      "PERIODKR\n",
      "SCALEKER\n",
      "IECC_Climate_Pub\n",
      "HDD50\n",
      "CDD80\n",
      "GND_HDD65\n",
      "WSF\n",
      "OA_LAT\n",
      "GWT\n",
      "DesignDBT99\n",
      "DesignDBT1\n"
     ]
    }
   ],
   "source": [
    "## Dropping rest of the column coz they are either irrelevant or \n",
    "#or it would be cheating (Direct calculation of usage* rate available)\n",
    "data = dropcolsinrange(data, \"KWHSPH\",\"DesignDBT1\")"
   ]
  },
  {
   "cell_type": "code",
   "execution_count": 89,
   "metadata": {},
   "outputs": [
    {
     "data": {
      "text/html": [
       "<div>\n",
       "<style scoped>\n",
       "    .dataframe tbody tr th:only-of-type {\n",
       "        vertical-align: middle;\n",
       "    }\n",
       "\n",
       "    .dataframe tbody tr th {\n",
       "        vertical-align: top;\n",
       "    }\n",
       "\n",
       "    .dataframe thead th {\n",
       "        text-align: right;\n",
       "    }\n",
       "</style>\n",
       "<table border=\"1\" class=\"dataframe\">\n",
       "  <thead>\n",
       "    <tr style=\"text-align: right;\">\n",
       "      <th></th>\n",
       "      <th>HDD65</th>\n",
       "      <th>CDD65</th>\n",
       "      <th>UR</th>\n",
       "      <th>TOTROOMS</th>\n",
       "      <th>TOASTER</th>\n",
       "      <th>COFFEE</th>\n",
       "      <th>ZSTOVEN</th>\n",
       "      <th>ZSTOVENFUEL</th>\n",
       "      <th>DRYER</th>\n",
       "      <th>STEREO</th>\n",
       "      <th>...</th>\n",
       "      <th>HIGHCEIL_0</th>\n",
       "      <th>HIGHCEIL_1</th>\n",
       "      <th>CATHCEIL_0</th>\n",
       "      <th>CATHCEIL_1</th>\n",
       "      <th>ADQINSUL_2</th>\n",
       "      <th>ADQINSUL_3</th>\n",
       "      <th>ADQINSUL_4</th>\n",
       "      <th>DRAFTY_2</th>\n",
       "      <th>DRAFTY_3</th>\n",
       "      <th>DRAFTY_4</th>\n",
       "    </tr>\n",
       "  </thead>\n",
       "  <tbody>\n",
       "    <tr>\n",
       "      <th>0</th>\n",
       "      <td>4742</td>\n",
       "      <td>1080</td>\n",
       "      <td>1</td>\n",
       "      <td>9</td>\n",
       "      <td>1</td>\n",
       "      <td>0</td>\n",
       "      <td>0</td>\n",
       "      <td>0</td>\n",
       "      <td>0</td>\n",
       "      <td>1</td>\n",
       "      <td>...</td>\n",
       "      <td>1</td>\n",
       "      <td>0</td>\n",
       "      <td>0</td>\n",
       "      <td>0</td>\n",
       "      <td>0</td>\n",
       "      <td>0</td>\n",
       "      <td>0</td>\n",
       "      <td>0</td>\n",
       "      <td>0</td>\n",
       "      <td>1</td>\n",
       "    </tr>\n",
       "    <tr>\n",
       "      <th>1</th>\n",
       "      <td>2662</td>\n",
       "      <td>199</td>\n",
       "      <td>1</td>\n",
       "      <td>4</td>\n",
       "      <td>1</td>\n",
       "      <td>0</td>\n",
       "      <td>0</td>\n",
       "      <td>0</td>\n",
       "      <td>0</td>\n",
       "      <td>1</td>\n",
       "      <td>...</td>\n",
       "      <td>0</td>\n",
       "      <td>1</td>\n",
       "      <td>0</td>\n",
       "      <td>1</td>\n",
       "      <td>0</td>\n",
       "      <td>1</td>\n",
       "      <td>0</td>\n",
       "      <td>0</td>\n",
       "      <td>0</td>\n",
       "      <td>0</td>\n",
       "    </tr>\n",
       "    <tr>\n",
       "      <th>2</th>\n",
       "      <td>6233</td>\n",
       "      <td>505</td>\n",
       "      <td>1</td>\n",
       "      <td>2</td>\n",
       "      <td>1</td>\n",
       "      <td>1</td>\n",
       "      <td>0</td>\n",
       "      <td>0</td>\n",
       "      <td>1</td>\n",
       "      <td>0</td>\n",
       "      <td>...</td>\n",
       "      <td>1</td>\n",
       "      <td>0</td>\n",
       "      <td>0</td>\n",
       "      <td>0</td>\n",
       "      <td>1</td>\n",
       "      <td>0</td>\n",
       "      <td>0</td>\n",
       "      <td>0</td>\n",
       "      <td>0</td>\n",
       "      <td>1</td>\n",
       "    </tr>\n",
       "    <tr>\n",
       "      <th>3</th>\n",
       "      <td>6034</td>\n",
       "      <td>672</td>\n",
       "      <td>1</td>\n",
       "      <td>7</td>\n",
       "      <td>1</td>\n",
       "      <td>0</td>\n",
       "      <td>0</td>\n",
       "      <td>0</td>\n",
       "      <td>0</td>\n",
       "      <td>0</td>\n",
       "      <td>...</td>\n",
       "      <td>1</td>\n",
       "      <td>0</td>\n",
       "      <td>0</td>\n",
       "      <td>0</td>\n",
       "      <td>0</td>\n",
       "      <td>0</td>\n",
       "      <td>0</td>\n",
       "      <td>0</td>\n",
       "      <td>0</td>\n",
       "      <td>1</td>\n",
       "    </tr>\n",
       "    <tr>\n",
       "      <th>4</th>\n",
       "      <td>5388</td>\n",
       "      <td>702</td>\n",
       "      <td>1</td>\n",
       "      <td>5</td>\n",
       "      <td>1</td>\n",
       "      <td>0</td>\n",
       "      <td>0</td>\n",
       "      <td>0</td>\n",
       "      <td>0</td>\n",
       "      <td>1</td>\n",
       "      <td>...</td>\n",
       "      <td>1</td>\n",
       "      <td>0</td>\n",
       "      <td>0</td>\n",
       "      <td>0</td>\n",
       "      <td>1</td>\n",
       "      <td>0</td>\n",
       "      <td>0</td>\n",
       "      <td>0</td>\n",
       "      <td>0</td>\n",
       "      <td>1</td>\n",
       "    </tr>\n",
       "  </tbody>\n",
       "</table>\n",
       "<p>5 rows × 268 columns</p>\n",
       "</div>"
      ],
      "text/plain": [
       "   HDD65  CDD65  UR  TOTROOMS  TOASTER  COFFEE  ZSTOVEN  ZSTOVENFUEL  DRYER  \\\n",
       "0   4742   1080   1         9        1       0        0            0      0   \n",
       "1   2662    199   1         4        1       0        0            0      0   \n",
       "2   6233    505   1         2        1       1        0            0      1   \n",
       "3   6034    672   1         7        1       0        0            0      0   \n",
       "4   5388    702   1         5        1       0        0            0      0   \n",
       "\n",
       "   STEREO  ...  HIGHCEIL_0  HIGHCEIL_1  CATHCEIL_0  CATHCEIL_1  ADQINSUL_2  \\\n",
       "0       1  ...           1           0           0           0           0   \n",
       "1       1  ...           0           1           0           1           0   \n",
       "2       0  ...           1           0           0           0           1   \n",
       "3       0  ...           1           0           0           0           0   \n",
       "4       1  ...           1           0           0           0           1   \n",
       "\n",
       "   ADQINSUL_3  ADQINSUL_4  DRAFTY_2  DRAFTY_3  DRAFTY_4  \n",
       "0           0           0         0         0         1  \n",
       "1           1           0         0         0         0  \n",
       "2           0           0         0         0         1  \n",
       "3           0           0         0         0         1  \n",
       "4           0           0         0         0         1  \n",
       "\n",
       "[5 rows x 268 columns]"
      ]
     },
     "execution_count": 89,
     "metadata": {},
     "output_type": "execute_result"
    }
   ],
   "source": [
    "data.head()"
   ]
  },
  {
   "cell_type": "code",
   "execution_count": 90,
   "metadata": {},
   "outputs": [
    {
     "data": {
      "text/plain": [
       "(11943, 268)"
      ]
     },
     "execution_count": 90,
     "metadata": {},
     "output_type": "execute_result"
    }
   ],
   "source": [
    "data.shape"
   ]
  },
  {
   "cell_type": "code",
   "execution_count": 91,
   "metadata": {},
   "outputs": [
    {
     "data": {
      "text/html": [
       "<div>\n",
       "<style scoped>\n",
       "    .dataframe tbody tr th:only-of-type {\n",
       "        vertical-align: middle;\n",
       "    }\n",
       "\n",
       "    .dataframe tbody tr th {\n",
       "        vertical-align: top;\n",
       "    }\n",
       "\n",
       "    .dataframe thead th {\n",
       "        text-align: right;\n",
       "    }\n",
       "</style>\n",
       "<table border=\"1\" class=\"dataframe\">\n",
       "  <thead>\n",
       "    <tr style=\"text-align: right;\">\n",
       "      <th></th>\n",
       "      <th>HDD65</th>\n",
       "      <th>CDD65</th>\n",
       "      <th>UR</th>\n",
       "      <th>TOTROOMS</th>\n",
       "      <th>TOASTER</th>\n",
       "      <th>COFFEE</th>\n",
       "      <th>ZSTOVEN</th>\n",
       "      <th>ZSTOVENFUEL</th>\n",
       "      <th>DRYER</th>\n",
       "      <th>STEREO</th>\n",
       "      <th>...</th>\n",
       "      <th>HIGHCEIL_0</th>\n",
       "      <th>HIGHCEIL_1</th>\n",
       "      <th>CATHCEIL_0</th>\n",
       "      <th>CATHCEIL_1</th>\n",
       "      <th>ADQINSUL_2</th>\n",
       "      <th>ADQINSUL_3</th>\n",
       "      <th>ADQINSUL_4</th>\n",
       "      <th>DRAFTY_2</th>\n",
       "      <th>DRAFTY_3</th>\n",
       "      <th>DRAFTY_4</th>\n",
       "    </tr>\n",
       "  </thead>\n",
       "  <tbody>\n",
       "    <tr>\n",
       "      <th>count</th>\n",
       "      <td>11943.000000</td>\n",
       "      <td>11943.000000</td>\n",
       "      <td>11943.000000</td>\n",
       "      <td>11943.000000</td>\n",
       "      <td>11943.000000</td>\n",
       "      <td>11943.000000</td>\n",
       "      <td>11943.000000</td>\n",
       "      <td>11943.000000</td>\n",
       "      <td>11943.000000</td>\n",
       "      <td>11943.000000</td>\n",
       "      <td>...</td>\n",
       "      <td>11943.000000</td>\n",
       "      <td>11943.000000</td>\n",
       "      <td>11943.000000</td>\n",
       "      <td>11943.000000</td>\n",
       "      <td>11943.000000</td>\n",
       "      <td>11943.000000</td>\n",
       "      <td>11943.000000</td>\n",
       "      <td>11943.000000</td>\n",
       "      <td>11943.000000</td>\n",
       "      <td>11943.000000</td>\n",
       "    </tr>\n",
       "    <tr>\n",
       "      <th>mean</th>\n",
       "      <td>4144.493595</td>\n",
       "      <td>1410.321025</td>\n",
       "      <td>0.802478</td>\n",
       "      <td>5.962907</td>\n",
       "      <td>0.629741</td>\n",
       "      <td>0.367161</td>\n",
       "      <td>0.000084</td>\n",
       "      <td>0.000670</td>\n",
       "      <td>0.197522</td>\n",
       "      <td>0.569706</td>\n",
       "      <td>...</td>\n",
       "      <td>0.675124</td>\n",
       "      <td>0.279829</td>\n",
       "      <td>0.110944</td>\n",
       "      <td>0.168886</td>\n",
       "      <td>0.437076</td>\n",
       "      <td>0.195010</td>\n",
       "      <td>0.009964</td>\n",
       "      <td>0.079628</td>\n",
       "      <td>0.312317</td>\n",
       "      <td>0.534037</td>\n",
       "    </tr>\n",
       "    <tr>\n",
       "      <th>std</th>\n",
       "      <td>2313.774979</td>\n",
       "      <td>1130.688646</td>\n",
       "      <td>0.398146</td>\n",
       "      <td>2.149390</td>\n",
       "      <td>0.482894</td>\n",
       "      <td>0.482051</td>\n",
       "      <td>0.009150</td>\n",
       "      <td>0.025874</td>\n",
       "      <td>0.398146</td>\n",
       "      <td>0.495138</td>\n",
       "      <td>...</td>\n",
       "      <td>0.468348</td>\n",
       "      <td>0.448934</td>\n",
       "      <td>0.314075</td>\n",
       "      <td>0.374666</td>\n",
       "      <td>0.496046</td>\n",
       "      <td>0.396225</td>\n",
       "      <td>0.099325</td>\n",
       "      <td>0.270728</td>\n",
       "      <td>0.463458</td>\n",
       "      <td>0.498861</td>\n",
       "    </tr>\n",
       "    <tr>\n",
       "      <th>min</th>\n",
       "      <td>0.000000</td>\n",
       "      <td>0.000000</td>\n",
       "      <td>0.000000</td>\n",
       "      <td>1.000000</td>\n",
       "      <td>0.000000</td>\n",
       "      <td>0.000000</td>\n",
       "      <td>0.000000</td>\n",
       "      <td>0.000000</td>\n",
       "      <td>0.000000</td>\n",
       "      <td>0.000000</td>\n",
       "      <td>...</td>\n",
       "      <td>0.000000</td>\n",
       "      <td>0.000000</td>\n",
       "      <td>0.000000</td>\n",
       "      <td>0.000000</td>\n",
       "      <td>0.000000</td>\n",
       "      <td>0.000000</td>\n",
       "      <td>0.000000</td>\n",
       "      <td>0.000000</td>\n",
       "      <td>0.000000</td>\n",
       "      <td>0.000000</td>\n",
       "    </tr>\n",
       "    <tr>\n",
       "      <th>25%</th>\n",
       "      <td>2206.000000</td>\n",
       "      <td>561.000000</td>\n",
       "      <td>1.000000</td>\n",
       "      <td>4.000000</td>\n",
       "      <td>0.000000</td>\n",
       "      <td>0.000000</td>\n",
       "      <td>0.000000</td>\n",
       "      <td>0.000000</td>\n",
       "      <td>0.000000</td>\n",
       "      <td>0.000000</td>\n",
       "      <td>...</td>\n",
       "      <td>0.000000</td>\n",
       "      <td>0.000000</td>\n",
       "      <td>0.000000</td>\n",
       "      <td>0.000000</td>\n",
       "      <td>0.000000</td>\n",
       "      <td>0.000000</td>\n",
       "      <td>0.000000</td>\n",
       "      <td>0.000000</td>\n",
       "      <td>0.000000</td>\n",
       "      <td>0.000000</td>\n",
       "    </tr>\n",
       "    <tr>\n",
       "      <th>50%</th>\n",
       "      <td>4491.000000</td>\n",
       "      <td>1042.000000</td>\n",
       "      <td>1.000000</td>\n",
       "      <td>6.000000</td>\n",
       "      <td>1.000000</td>\n",
       "      <td>0.000000</td>\n",
       "      <td>0.000000</td>\n",
       "      <td>0.000000</td>\n",
       "      <td>0.000000</td>\n",
       "      <td>1.000000</td>\n",
       "      <td>...</td>\n",
       "      <td>1.000000</td>\n",
       "      <td>0.000000</td>\n",
       "      <td>0.000000</td>\n",
       "      <td>0.000000</td>\n",
       "      <td>0.000000</td>\n",
       "      <td>0.000000</td>\n",
       "      <td>0.000000</td>\n",
       "      <td>0.000000</td>\n",
       "      <td>0.000000</td>\n",
       "      <td>1.000000</td>\n",
       "    </tr>\n",
       "    <tr>\n",
       "      <th>75%</th>\n",
       "      <td>5913.000000</td>\n",
       "      <td>1891.000000</td>\n",
       "      <td>1.000000</td>\n",
       "      <td>7.000000</td>\n",
       "      <td>1.000000</td>\n",
       "      <td>1.000000</td>\n",
       "      <td>0.000000</td>\n",
       "      <td>0.000000</td>\n",
       "      <td>0.000000</td>\n",
       "      <td>1.000000</td>\n",
       "      <td>...</td>\n",
       "      <td>1.000000</td>\n",
       "      <td>1.000000</td>\n",
       "      <td>0.000000</td>\n",
       "      <td>0.000000</td>\n",
       "      <td>1.000000</td>\n",
       "      <td>0.000000</td>\n",
       "      <td>0.000000</td>\n",
       "      <td>0.000000</td>\n",
       "      <td>1.000000</td>\n",
       "      <td>1.000000</td>\n",
       "    </tr>\n",
       "    <tr>\n",
       "      <th>max</th>\n",
       "      <td>12525.000000</td>\n",
       "      <td>5480.000000</td>\n",
       "      <td>1.000000</td>\n",
       "      <td>21.000000</td>\n",
       "      <td>1.000000</td>\n",
       "      <td>1.000000</td>\n",
       "      <td>1.000000</td>\n",
       "      <td>1.000000</td>\n",
       "      <td>1.000000</td>\n",
       "      <td>1.000000</td>\n",
       "      <td>...</td>\n",
       "      <td>1.000000</td>\n",
       "      <td>1.000000</td>\n",
       "      <td>1.000000</td>\n",
       "      <td>1.000000</td>\n",
       "      <td>1.000000</td>\n",
       "      <td>1.000000</td>\n",
       "      <td>1.000000</td>\n",
       "      <td>1.000000</td>\n",
       "      <td>1.000000</td>\n",
       "      <td>1.000000</td>\n",
       "    </tr>\n",
       "  </tbody>\n",
       "</table>\n",
       "<p>8 rows × 268 columns</p>\n",
       "</div>"
      ],
      "text/plain": [
       "              HDD65         CDD65            UR      TOTROOMS       TOASTER  \\\n",
       "count  11943.000000  11943.000000  11943.000000  11943.000000  11943.000000   \n",
       "mean    4144.493595   1410.321025      0.802478      5.962907      0.629741   \n",
       "std     2313.774979   1130.688646      0.398146      2.149390      0.482894   \n",
       "min        0.000000      0.000000      0.000000      1.000000      0.000000   \n",
       "25%     2206.000000    561.000000      1.000000      4.000000      0.000000   \n",
       "50%     4491.000000   1042.000000      1.000000      6.000000      1.000000   \n",
       "75%     5913.000000   1891.000000      1.000000      7.000000      1.000000   \n",
       "max    12525.000000   5480.000000      1.000000     21.000000      1.000000   \n",
       "\n",
       "             COFFEE       ZSTOVEN   ZSTOVENFUEL         DRYER        STEREO  \\\n",
       "count  11943.000000  11943.000000  11943.000000  11943.000000  11943.000000   \n",
       "mean       0.367161      0.000084      0.000670      0.197522      0.569706   \n",
       "std        0.482051      0.009150      0.025874      0.398146      0.495138   \n",
       "min        0.000000      0.000000      0.000000      0.000000      0.000000   \n",
       "25%        0.000000      0.000000      0.000000      0.000000      0.000000   \n",
       "50%        0.000000      0.000000      0.000000      0.000000      1.000000   \n",
       "75%        1.000000      0.000000      0.000000      0.000000      1.000000   \n",
       "max        1.000000      1.000000      1.000000      1.000000      1.000000   \n",
       "\n",
       "       ...    HIGHCEIL_0    HIGHCEIL_1    CATHCEIL_0    CATHCEIL_1  \\\n",
       "count  ...  11943.000000  11943.000000  11943.000000  11943.000000   \n",
       "mean   ...      0.675124      0.279829      0.110944      0.168886   \n",
       "std    ...      0.468348      0.448934      0.314075      0.374666   \n",
       "min    ...      0.000000      0.000000      0.000000      0.000000   \n",
       "25%    ...      0.000000      0.000000      0.000000      0.000000   \n",
       "50%    ...      1.000000      0.000000      0.000000      0.000000   \n",
       "75%    ...      1.000000      1.000000      0.000000      0.000000   \n",
       "max    ...      1.000000      1.000000      1.000000      1.000000   \n",
       "\n",
       "         ADQINSUL_2    ADQINSUL_3    ADQINSUL_4      DRAFTY_2      DRAFTY_3  \\\n",
       "count  11943.000000  11943.000000  11943.000000  11943.000000  11943.000000   \n",
       "mean       0.437076      0.195010      0.009964      0.079628      0.312317   \n",
       "std        0.496046      0.396225      0.099325      0.270728      0.463458   \n",
       "min        0.000000      0.000000      0.000000      0.000000      0.000000   \n",
       "25%        0.000000      0.000000      0.000000      0.000000      0.000000   \n",
       "50%        0.000000      0.000000      0.000000      0.000000      0.000000   \n",
       "75%        1.000000      0.000000      0.000000      0.000000      1.000000   \n",
       "max        1.000000      1.000000      1.000000      1.000000      1.000000   \n",
       "\n",
       "           DRAFTY_4  \n",
       "count  11943.000000  \n",
       "mean       0.534037  \n",
       "std        0.498861  \n",
       "min        0.000000  \n",
       "25%        0.000000  \n",
       "50%        1.000000  \n",
       "75%        1.000000  \n",
       "max        1.000000  \n",
       "\n",
       "[8 rows x 268 columns]"
      ]
     },
     "execution_count": 91,
     "metadata": {},
     "output_type": "execute_result"
    }
   ],
   "source": [
    "data.describe()"
   ]
  },
  {
   "cell_type": "code",
   "execution_count": 92,
   "metadata": {},
   "outputs": [],
   "source": [
    "X = data.drop('KWH', axis = 1)"
   ]
  },
  {
   "cell_type": "markdown",
   "metadata": {},
   "source": [
    "# Train test split"
   ]
  },
  {
   "cell_type": "code",
   "execution_count": 154,
   "metadata": {},
   "outputs": [],
   "source": [
    "train_size = 0.85\n",
    "test_size = 0.15\n",
    "np.random.seed(42)"
   ]
  },
  {
   "cell_type": "code",
   "execution_count": 155,
   "metadata": {},
   "outputs": [],
   "source": [
    "from sklearn.model_selection import train_test_split\n",
    "X_train, X_test, y_train, y_test = train_test_split( X, y, test_size=test_size)"
   ]
  },
  {
   "cell_type": "code",
   "execution_count": 156,
   "metadata": {},
   "outputs": [],
   "source": [
    "#Normalization\n",
    "from sklearn.preprocessing import MinMaxScaler, StandardScaler\n",
    "scaler = MinMaxScaler()\n",
    "scaler.fit(X_train)\n",
    "X_train = scaler.fit_transform( X_train )\n",
    "X_test = scaler.transform( X_test )"
   ]
  },
  {
   "cell_type": "markdown",
   "metadata": {},
   "source": [
    "## PCA and regression"
   ]
  },
  {
   "cell_type": "code",
   "execution_count": 128,
   "metadata": {},
   "outputs": [],
   "source": [
    "from sklearn.decomposition import PCA"
   ]
  },
  {
   "cell_type": "code",
   "execution_count": 129,
   "metadata": {},
   "outputs": [],
   "source": [
    "from sklearn.linear_model import LinearRegression\n",
    "from sklearn.metrics import mean_squared_error, mean_absolute_error, r2_score\n",
    "#from sklearn.metrics import mean_absolute_percentage_error"
   ]
  },
  {
   "cell_type": "code",
   "execution_count": 130,
   "metadata": {},
   "outputs": [
    {
     "data": {
      "text/plain": [
       "((10151, 267), (1792, 267))"
      ]
     },
     "execution_count": 130,
     "metadata": {},
     "output_type": "execute_result"
    }
   ],
   "source": [
    "X_train.shape, X_test.shape"
   ]
  },
  {
   "cell_type": "code",
   "execution_count": 131,
   "metadata": {},
   "outputs": [
    {
     "data": {
      "text/plain": [
       "0.951887357840953"
      ]
     },
     "execution_count": 131,
     "metadata": {},
     "output_type": "execute_result"
    }
   ],
   "source": [
    "#Try 100, 125, 150\n",
    "pca = PCA(130).fit(X_train)\n",
    "sum(pca.explained_variance_ratio_)"
   ]
  },
  {
   "cell_type": "code",
   "execution_count": 132,
   "metadata": {},
   "outputs": [],
   "source": [
    "X_train_pca = pca.fit_transform(X_train, y_train)\n",
    "X_test_pca = pca.transform(X_test)"
   ]
  },
  {
   "cell_type": "code",
   "execution_count": 133,
   "metadata": {},
   "outputs": [
    {
     "data": {
      "text/plain": [
       "((10151, 130), (1792, 130))"
      ]
     },
     "execution_count": 133,
     "metadata": {},
     "output_type": "execute_result"
    }
   ],
   "source": [
    "X_train_pca.shape, X_test_pca.shape"
   ]
  },
  {
   "cell_type": "code",
   "execution_count": 136,
   "metadata": {},
   "outputs": [
    {
     "data": {
      "text/plain": [
       "0.5781493530914159"
      ]
     },
     "execution_count": 136,
     "metadata": {},
     "output_type": "execute_result"
    }
   ],
   "source": [
    "model = LinearRegression().fit(X_train_pca, y_train)\n",
    "model.score(X_train_pca, y_train)"
   ]
  },
  {
   "cell_type": "code",
   "execution_count": 138,
   "metadata": {},
   "outputs": [
    {
     "name": "stdout",
     "output_type": "stream",
     "text": [
      "MSE: 18694966.317481227\n",
      "MAE: 3205.112289084767\n",
      "MAPE: 0.5816941469439727\n",
      "R2_score: 0.5781493530914159\n"
     ]
    }
   ],
   "source": [
    "#Prediction using train\n",
    "y_train_pred = model.predict(X_train_pca)\n",
    "print( 'MSE: ' +str(mean_squared_error(y_train, y_train_pred)))\n",
    "print('MAE: ' +str(mean_absolute_error(y_train, y_train_pred)))\n",
    "print('MAPE: ' +str(mean_absolute_percentage_error(y_train, y_train_pred)))\n",
    "print('R2_score: ' +str(r2_score(y_train, y_train_pred, multioutput='variance_weighted')))"
   ]
  },
  {
   "cell_type": "code",
   "execution_count": 139,
   "metadata": {},
   "outputs": [
    {
     "data": {
      "image/png": "[encoded data removed]",
      "text/plain": [
       "<Figure size 432x288 with 1 Axes>"
      ]
     },
     "metadata": {
      "needs_background": "light"
     },
     "output_type": "display_data"
    }
   ],
   "source": [
    "plt.scatter(y_train, y_train_pred)\n",
    "plt.xlabel('y_true')\n",
    "plt.ylabel('y_pred')\n",
    "plt.title('Prediction on train set')\n",
    "plt.show()"
   ]
  },
  {
   "cell_type": "code",
   "execution_count": 140,
   "metadata": {},
   "outputs": [
    {
     "name": "stdout",
     "output_type": "stream",
     "text": [
      "MSE: 19060729.545167074\n",
      "MAE: 3260.1751600745297\n",
      "MAPE: 0.4187455276303087\n",
      "R2_score: 0.5677242080576487\n"
     ]
    }
   ],
   "source": [
    "#Prediction using test\n",
    "y_pred = model.predict(X_test_pca)\n",
    "print( 'MSE: ' +str(mean_squared_error(y_test, y_pred)))\n",
    "print('MAE: ' +str(mean_absolute_error(y_test, y_pred)))\n",
    "print('MAPE: ' +str(mean_absolute_percentage_error(y_test, y_pred)))\n",
    "print('R2_score: ' +str(r2_score(y_test, y_pred, multioutput='variance_weighted')))"
   ]
  },
  {
   "cell_type": "code",
   "execution_count": 141,
   "metadata": {},
   "outputs": [
    {
     "data": {
      "image/png": "[encoded data removed]",
      "text/plain": [
       "<Figure size 432x288 with 1 Axes>"
      ]
     },
     "metadata": {
      "needs_background": "light"
     },
     "output_type": "display_data"
    }
   ],
   "source": [
    "plt.scatter(y_test, y_pred)\n",
    "plt.xlabel('y_true')\n",
    "plt.ylabel('y_pred')\n",
    "plt.title('Prediction on test set')\n",
    "plt.show()"
   ]
  },
  {
   "cell_type": "markdown",
   "metadata": {},
   "source": [
    "#### Random forest regressor"
   ]
  },
  {
   "cell_type": "code",
   "execution_count": 162,
   "metadata": {},
   "outputs": [
    {
     "data": {
      "text/plain": [
       "((10151, 267), (1792, 267))"
      ]
     },
     "execution_count": 162,
     "metadata": {},
     "output_type": "execute_result"
    }
   ],
   "source": [
    "X_train.shape, X_test.shape"
   ]
  },
  {
   "cell_type": "code",
   "execution_count": 163,
   "metadata": {},
   "outputs": [],
   "source": [
    "from sklearn.ensemble import RandomForestRegressor\n",
    "from sklearn.model_selection import GridSearchCV"
   ]
  },
  {
   "cell_type": "code",
   "execution_count": 144,
   "metadata": {},
   "outputs": [],
   "source": [
    "#Base random forest model\n",
    "regr = RandomForestRegressor(n_estimators = 100,max_depth = 5, min_samples_split = 5 ).fit(X_train, y_train)"
   ]
  },
  {
   "cell_type": "code",
   "execution_count": 145,
   "metadata": {},
   "outputs": [
    {
     "name": "stdout",
     "output_type": "stream",
     "text": [
      "Prediction using train\n",
      "MSE: 21434179.981228117\n",
      "MAE: 3441.258644073328\n",
      "MAPE: 0.6438286544090839\n",
      "R2_score: 0.5163391825648214\n"
     ]
    }
   ],
   "source": [
    "#Prediction using train\n",
    "print('Prediction using train')\n",
    "y_train_pred = regr.predict(X_train)\n",
    "\n",
    "print( 'MSE: ' +str(mean_squared_error(y_train, y_train_pred)))\n",
    "print('MAE: ' +str(mean_absolute_error(y_train, y_train_pred)))\n",
    "print('MAPE: ' +str(mean_absolute_percentage_error(y_train, y_train_pred)))\n",
    "print('R2_score: ' +str(r2_score(y_train, y_train_pred, multioutput='variance_weighted')))"
   ]
  },
  {
   "cell_type": "code",
   "execution_count": 146,
   "metadata": {},
   "outputs": [
    {
     "name": "stdout",
     "output_type": "stream",
     "text": [
      "Prediction using test\n",
      "MSE: 21917384.912998788\n",
      "MAE: 3494.465983879952\n",
      "MAPE: 0.4647687962847063\n",
      "R2_score: 0.5029384946614409\n"
     ]
    }
   ],
   "source": [
    "#Prediction using test\n",
    "print('Prediction using test')\n",
    "y_pred = regr.predict(X_test)\n",
    "print( 'MSE: ' +str(mean_squared_error(y_test, y_pred)))\n",
    "print('MAE: ' +str(mean_absolute_error(y_test, y_pred)))\n",
    "print('MAPE: ' +str(mean_absolute_percentage_error(y_test, y_pred)))\n",
    "print('R2_score: ' +str(r2_score(y_test, y_pred, multioutput='variance_weighted')))"
   ]
  },
  {
   "cell_type": "code",
   "execution_count": 164,
   "metadata": {},
   "outputs": [],
   "source": [
    "# Create the parameter grid based on the results of random search \n",
    "param_grid = {\n",
    "    'bootstrap': [True],\n",
    "    'max_depth': [5, 10, 15, 20],\n",
    "    'max_features': [10, 15, 20, 25],\n",
    "    'min_samples_split' : [5,10],\n",
    "    'min_samples_leaf' : [5,10],\n",
    "    'n_estimators': [100, 200, 250, 500],\n",
    "    'oob_score' : [True]\n",
    "}\n",
    "# Create a based model\n",
    "rf = RandomForestRegressor()\n",
    "# Instantiate the grid search model\n",
    "grid_search = GridSearchCV(estimator = rf, param_grid = param_grid, n_jobs = 12, verbose = 3)"
   ]
  },
  {
   "cell_type": "code",
   "execution_count": 165,
   "metadata": {},
   "outputs": [
    {
     "name": "stdout",
     "output_type": "stream",
     "text": [
      "Fitting 5 folds for each of 256 candidates, totalling 1280 fits\n"
     ]
    },
    {
     "name": "stderr",
     "output_type": "stream",
     "text": [
      "[Parallel(n_jobs=12)]: Using backend LokyBackend with 12 concurrent workers.\n",
      "[Parallel(n_jobs=12)]: Done   8 tasks      | elapsed:    5.3s\n",
      "[Parallel(n_jobs=12)]: Done 104 tasks      | elapsed:   49.8s\n",
      "[Parallel(n_jobs=12)]: Done 264 tasks      | elapsed:  2.4min\n",
      "[Parallel(n_jobs=12)]: Done 488 tasks      | elapsed:  4.7min\n",
      "[Parallel(n_jobs=12)]: Done 776 tasks      | elapsed:  8.4min\n",
      "[Parallel(n_jobs=12)]: Done 1128 tasks      | elapsed: 12.8min\n",
      "[Parallel(n_jobs=12)]: Done 1280 out of 1280 | elapsed: 15.1min finished\n"
     ]
    },
    {
     "data": {
      "text/plain": [
       "{'bootstrap': True,\n",
       " 'max_depth': 20,\n",
       " 'max_features': 25,\n",
       " 'min_samples_leaf': 5,\n",
       " 'min_samples_split': 5,\n",
       " 'n_estimators': 500,\n",
       " 'oob_score': True}"
      ]
     },
     "execution_count": 165,
     "metadata": {},
     "output_type": "execute_result"
    }
   ],
   "source": [
    "# Fit the grid search to the data\n",
    "grid_search.fit(X_train, y_train)\n",
    "grid_search.best_params_"
   ]
  },
  {
   "cell_type": "code",
   "execution_count": 196,
   "metadata": {},
   "outputs": [],
   "source": [
    "#regr = RandomForestRegressor(n_estimators = 300,max_depth = 15, max_features = 20,  min_samples_split = 5,min_samples_leaf= 5, oob_score = True ).fit(X_train, y_train)\n",
    "regr = RandomForestRegressor(n_estimators = 500,max_depth = 20, max_features = 25,  min_samples_split = 5,min_samples_leaf= 5, oob_score = True ).fit(X_train, y_train)"
   ]
  },
  {
   "cell_type": "code",
   "execution_count": 197,
   "metadata": {},
   "outputs": [
    {
     "name": "stdout",
     "output_type": "stream",
     "text": [
      "Prediction using train\n",
      "MSE: 10184687.715897178\n",
      "MAE: 2307.669044432945\n",
      "MAPE: 0.44635951476110464\n",
      "R2_score: 0.7701832124995243\n"
     ]
    }
   ],
   "source": [
    "#Prediction using train\n",
    "print('Prediction using train')\n",
    "y_train_pred = regr.predict(X_train)\n",
    "print( 'MSE: ' +str(mean_squared_error(y_train, y_train_pred)))\n",
    "print('MAE: ' +str(mean_absolute_error(y_train, y_train_pred)))\n",
    "print('MAPE: ' +str(mean_absolute_percentage_error(y_train, y_train_pred)))\n",
    "print('R2_score: ' +str(r2_score(y_train, y_train_pred, multioutput='variance_weighted')))"
   ]
  },
  {
   "cell_type": "code",
   "execution_count": 198,
   "metadata": {},
   "outputs": [
    {
     "name": "stdout",
     "output_type": "stream",
     "text": [
      "Prediction using test\n",
      "MSE: 17947260.68554332\n",
      "MAE: 3116.6875922407407\n",
      "MAPE: 0.41080598708896165\n",
      "R2_score: 0.5929764226676109\n"
     ]
    }
   ],
   "source": [
    "#Prediction using test\n",
    "print('Prediction using test')\n",
    "y_pred = regr.predict(X_test)\n",
    "print( 'MSE: ' +str(mean_squared_error(y_test, y_pred)))\n",
    "print('MAE: ' +str(mean_absolute_error(y_test, y_pred)))\n",
    "print('MAPE: ' +str(mean_absolute_percentage_error(y_test, y_pred)))\n",
    "print('R2_score: ' +str(r2_score(y_test, y_pred, multioutput='variance_weighted')))"
   ]
  },
  {
   "cell_type": "code",
   "execution_count": 169,
   "metadata": {},
   "outputs": [
    {
     "data": {
      "image/png": "[encoded data removed]",
      "text/plain": [
       "<Figure size 432x288 with 1 Axes>"
      ]
     },
     "metadata": {
      "needs_background": "light"
     },
     "output_type": "display_data"
    }
   ],
   "source": [
    "plt.scatter(y_test, y_pred)\n",
    "plt.xlabel('y_true')\n",
    "plt.ylabel('y_pred')\n",
    "plt.title('Prediction on test set')\n",
    "plt.show()"
   ]
  },
  {
   "cell_type": "markdown",
   "metadata": {},
   "source": [
    "### KNN Regressor"
   ]
  },
  {
   "cell_type": "code",
   "execution_count": 170,
   "metadata": {},
   "outputs": [],
   "source": [
    "from sklearn.neighbors import KNeighborsRegressor"
   ]
  },
  {
   "cell_type": "code",
   "execution_count": 192,
   "metadata": {},
   "outputs": [],
   "source": [
    "nr_model = KNeighborsRegressor(n_neighbors=7, algorithm = 'kd_tree')\n",
    "nr_model = nr_model.fit(X_train, y_train)"
   ]
  },
  {
   "cell_type": "code",
   "execution_count": 193,
   "metadata": {},
   "outputs": [
    {
     "name": "stdout",
     "output_type": "stream",
     "text": [
      "Prediction using train\n",
      "MSE: 18281552.44340861\n",
      "MAE: 3045.3365185695993\n",
      "MAPE: 0.4948688720332504\n",
      "R2_score: 0.5874780091187575\n"
     ]
    }
   ],
   "source": [
    "#Prediction using train\n",
    "print('Prediction using train')\n",
    "y_train_pred = nr_model.predict(X_train)\n",
    "print( 'MSE: ' +str(mean_squared_error(y_train, y_train_pred)))\n",
    "print('MAE: ' +str(mean_absolute_error(y_train, y_train_pred)))\n",
    "print('MAPE: ' +str(mean_absolute_percentage_error(y_train, y_train_pred)))\n",
    "print('R2_score: ' +str(r2_score(y_train, y_train_pred, multioutput='variance_weighted')))"
   ]
  },
  {
   "cell_type": "code",
   "execution_count": 194,
   "metadata": {},
   "outputs": [
    {
     "name": "stdout",
     "output_type": "stream",
     "text": [
      "Prediction using test\n",
      "MSE: 22255143.927478135\n",
      "MAE: 3391.7602040816323\n",
      "MAPE: 0.38677816510063107\n",
      "R2_score: 0.4952785021557108\n"
     ]
    }
   ],
   "source": [
    "#Prediction using test\n",
    "print('Prediction using test')\n",
    "y_pred = nr_model.predict(X_test)\n",
    "print( 'MSE: ' +str(mean_squared_error(y_test, y_pred)))\n",
    "print('MAE: ' +str(mean_absolute_error(y_test, y_pred)))\n",
    "print('MAPE: ' +str(mean_absolute_percentage_error(y_test, y_pred)))\n",
    "print('R2_score: ' +str(r2_score(y_test, y_pred, multioutput='variance_weighted')))"
   ]
  },
  {
   "cell_type": "code",
   "execution_count": 195,
   "metadata": {},
   "outputs": [
    {
     "data": {
      "image/png": "[encoded data removed]",
      "text/plain": [
       "<Figure size 432x288 with 1 Axes>"
      ]
     },
     "metadata": {
      "needs_background": "light"
     },
     "output_type": "display_data"
    }
   ],
   "source": [
    "plt.scatter(y_test, y_pred)\n",
    "plt.xlabel('y_true')\n",
    "plt.ylabel('y_pred')\n",
    "plt.title('Prediction on test set')\n",
    "plt.show()"
   ]
  },
  {
   "cell_type": "markdown",
   "metadata": {},
   "source": []
  },
  {
   "cell_type": "code",
   "execution_count": null,
   "metadata": {},
   "outputs": [],
   "source": []
  }
 ],
 "metadata": {
  "kernelspec": {
   "display_name": "Python 3",
   "language": "python",
   "name": "python3"
  },
  "language_info": {
   "codemirror_mode": {
    "name": "ipython",
    "version": 3
   },
   "file_extension": ".py",
   "mimetype": "text/x-python",
   "name": "python",
   "nbconvert_exporter": "python",
   "pygments_lexer": "ipython3",
   "version": "3.7.9"
  }
 },
 "nbformat": 4,
 "nbformat_minor": 4
}
